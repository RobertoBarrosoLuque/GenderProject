{
 "metadata": {
  "language_info": {
   "codemirror_mode": {
    "name": "ipython",
    "version": 3
   },
   "file_extension": ".py",
   "mimetype": "text/x-python",
   "name": "python",
   "nbconvert_exporter": "python",
   "pygments_lexer": "ipython3",
   "version": "3.9.1"
  },
  "orig_nbformat": 2,
  "kernelspec": {
   "name": "python391jvsc74a57bd02ee7887ffa93df046518e30b2b61048c198cc6fb9801cac3b9a523e4e734f042",
   "display_name": "Python 3.9.1 64-bit ('nlp_class': conda)"
  }
 },
 "nbformat": 4,
 "nbformat_minor": 2,
 "cells": [
  {
   "source": [
    "# Generating Word Embedding Models using Gensim, Exploratory Data Analysis Notebook"
   ],
   "cell_type": "markdown",
   "metadata": {}
  },
  {
   "cell_type": "code",
   "execution_count": 1,
   "metadata": {},
   "outputs": [],
   "source": [
    "sys.path.append(r\"C:\\Users\\robal\\Dropbox\\UChicago\\Year II\\Quarter III\\Advanced Machine Learning\\Project\\GenderProject\")"
   ]
  },
  {
   "cell_type": "code",
   "execution_count": 45,
   "metadata": {},
   "outputs": [
    {
     "output_type": "stream",
     "name": "stdout",
     "text": [
      "The autoreload extension is already loaded. To reload it, use:\n  %reload_ext autoreload\n"
     ]
    }
   ],
   "source": [
    "import pandas as pd \n",
    "import numpy as np \n",
    "import gensim \n",
    "import spacy \n",
    "from vaderSentiment.vaderSentiment import SentimentIntensityAnalyzer\n",
    "## NN based spanish sentiment scorer built on Tensorflow + Keras\n",
    "from sentiment_analysis_spanish import sentiment_analysis\n",
    "from pre_process.text_utils import *\n",
    "\n",
    "nlp_spanish = spacy.load(\"es_core_news_sm\")\n",
    "\n",
    "%load_ext autoreload\n",
    "%autoreload 2"
   ]
  },
  {
   "source": [
    "## Use La Jornada web scraped articles on gender violence which contains around ~2000 articles"
   ],
   "cell_type": "markdown",
   "metadata": {}
  },
  {
   "cell_type": "code",
   "execution_count": 4,
   "metadata": {},
   "outputs": [],
   "source": [
    "jornada_df = pd.read_excel(\"../data/Mexico/la_jornada_scraped.xlsx\")"
   ]
  },
  {
   "cell_type": "code",
   "execution_count": 5,
   "metadata": {},
   "outputs": [
    {
     "output_type": "execute_result",
     "data": {
      "text/plain": [
       "   Unnamed: 0                                               link   datetime  \\\n",
       "0           0  https://www.jornada.com.mx/ultimas/2020/03/04/... 2020-03-04   \n",
       "1           1  https://www.jornada.com.mx/ultimas/2020/08/06/... 2020-08-06   \n",
       "2           2  https://www.jornada.com.mx/ultimas/2020/04/14/... 2020-04-14   \n",
       "3           3  https://www.jornada.com.mx/ultimas/2021/03/19/... 2021-03-19   \n",
       "4           4  https://www.jornada.com.mx/ultimas/2021/02/17/... 2021-02-17   \n",
       "\n",
       "                                               title  \\\n",
       "0  Implementar política de género, labor de la Co...   \n",
       "1  Arrestan a productor ganador del Grammy por ca...   \n",
       "2  El cine realizado con 'smartphone' se abre cam...   \n",
       "3  Otorgan dos suspensiones definitivas contra Le...   \n",
       "4  Conceden tres nuevas suspensiones contra Tren ...   \n",
       "\n",
       "                                                text  \\\n",
       "0  A la nueva Coordinación de Igualdad de Género ...   \n",
       "1  El productor musical ganador del Grammy Noel F...   \n",
       "2  En la primavera de 2019, el escritor y product...   \n",
       "3  Ciudad de México. El Juzgado Segundo de Distri...   \n",
       "4  El Juzgado Cuarto de Distrito con sede en Yuca...   \n",
       "\n",
       "                                             authors  \\\n",
       "0                         ['Arturo Sánchez Jiménez']   \n",
       "1                                                 []   \n",
       "2                                                 []   \n",
       "3     ['Editorial Demos', 'Gustavo Castillo García']   \n",
       "4  ['Editorial Demos', 'Angélica Enciso Y Jared L...   \n",
       "\n",
       "                                             summary  \\\n",
       "0  La Coordinación de Igualdad de Género, que dep...   \n",
       "1  El productor musical ganador del Grammy Noel F...   \n",
       "2  En la primavera de 2019, el escritor y product...   \n",
       "3  Con esta resolución y las impugnaciones realiz...   \n",
       "4  El Juzgado Cuarto de Distrito con sede en Yuca...   \n",
       "\n",
       "                                            keywords  \\\n",
       "0  ['género', 'y', 'una', 'la', 'los', 'unam', 'l...   \n",
       "1  ['cargos', 'y', 'la', 'arrestan', 'los', 'víct...   \n",
       "2  ['se', 'y', 'una', 'la', 'abre', 'es', 'smartp...   \n",
       "3  ['contra', 'el', 'se', 'la', 'y', 'los', 'defi...   \n",
       "4  ['contra', 'conceden', 'maya', 'la', 'se', 'y'...   \n",
       "\n",
       "                                              images  has_top_image  \\\n",
       "0  {'https://media.jornada.com.mx/ultimas/2021/04...            1.0   \n",
       "1  {'https://media.jornada.com.mx/ultimas/2021/04...            1.0   \n",
       "2  {'https://media.jornada.com.mx/ultimas/2021/04...            1.0   \n",
       "3  {'https://www.jornada.com.mx/ultimas/2021/03/2...            1.0   \n",
       "4  {'https://www.jornada.com.mx/theme/img/logo_ne...            1.0   \n",
       "\n",
       "                                           top_image  successfully_scraped  \\\n",
       "0  https://www.jornada.com.mx/ultimas/2020/03/04/...                     1   \n",
       "1  https://www.jornada.com.mx/ultimas/2020/08/06/...                     1   \n",
       "2  https://www.jornada.com.mx/ultimas/2020/04/14/...                     1   \n",
       "3  https://www.jornada.com.mx/ultimas/2021/03/19/...                     1   \n",
       "4  https://www.jornada.com.mx/ultimas/2021/02/17/...                     1   \n",
       "\n",
       "   is_valid_url  meta_lang  meta_data  media_links  \n",
       "0           NaN        NaN        NaN          NaN  \n",
       "1           NaN        NaN        NaN          NaN  \n",
       "2           NaN        NaN        NaN          NaN  \n",
       "3           NaN        NaN        NaN          NaN  \n",
       "4           NaN        NaN        NaN          NaN  "
      ],
      "text/html": "<div>\n<style scoped>\n    .dataframe tbody tr th:only-of-type {\n        vertical-align: middle;\n    }\n\n    .dataframe tbody tr th {\n        vertical-align: top;\n    }\n\n    .dataframe thead th {\n        text-align: right;\n    }\n</style>\n<table border=\"1\" class=\"dataframe\">\n  <thead>\n    <tr style=\"text-align: right;\">\n      <th></th>\n      <th>Unnamed: 0</th>\n      <th>link</th>\n      <th>datetime</th>\n      <th>title</th>\n      <th>text</th>\n      <th>authors</th>\n      <th>summary</th>\n      <th>keywords</th>\n      <th>images</th>\n      <th>has_top_image</th>\n      <th>top_image</th>\n      <th>successfully_scraped</th>\n      <th>is_valid_url</th>\n      <th>meta_lang</th>\n      <th>meta_data</th>\n      <th>media_links</th>\n    </tr>\n  </thead>\n  <tbody>\n    <tr>\n      <th>0</th>\n      <td>0</td>\n      <td>https://www.jornada.com.mx/ultimas/2020/03/04/...</td>\n      <td>2020-03-04</td>\n      <td>Implementar política de género, labor de la Co...</td>\n      <td>A la nueva Coordinación de Igualdad de Género ...</td>\n      <td>['Arturo Sánchez Jiménez']</td>\n      <td>La Coordinación de Igualdad de Género, que dep...</td>\n      <td>['género', 'y', 'una', 'la', 'los', 'unam', 'l...</td>\n      <td>{'https://media.jornada.com.mx/ultimas/2021/04...</td>\n      <td>1.0</td>\n      <td>https://www.jornada.com.mx/ultimas/2020/03/04/...</td>\n      <td>1</td>\n      <td>NaN</td>\n      <td>NaN</td>\n      <td>NaN</td>\n      <td>NaN</td>\n    </tr>\n    <tr>\n      <th>1</th>\n      <td>1</td>\n      <td>https://www.jornada.com.mx/ultimas/2020/08/06/...</td>\n      <td>2020-08-06</td>\n      <td>Arrestan a productor ganador del Grammy por ca...</td>\n      <td>El productor musical ganador del Grammy Noel F...</td>\n      <td>[]</td>\n      <td>El productor musical ganador del Grammy Noel F...</td>\n      <td>['cargos', 'y', 'la', 'arrestan', 'los', 'víct...</td>\n      <td>{'https://media.jornada.com.mx/ultimas/2021/04...</td>\n      <td>1.0</td>\n      <td>https://www.jornada.com.mx/ultimas/2020/08/06/...</td>\n      <td>1</td>\n      <td>NaN</td>\n      <td>NaN</td>\n      <td>NaN</td>\n      <td>NaN</td>\n    </tr>\n    <tr>\n      <th>2</th>\n      <td>2</td>\n      <td>https://www.jornada.com.mx/ultimas/2020/04/14/...</td>\n      <td>2020-04-14</td>\n      <td>El cine realizado con 'smartphone' se abre cam...</td>\n      <td>En la primavera de 2019, el escritor y product...</td>\n      <td>[]</td>\n      <td>En la primavera de 2019, el escritor y product...</td>\n      <td>['se', 'y', 'una', 'la', 'abre', 'es', 'smartp...</td>\n      <td>{'https://media.jornada.com.mx/ultimas/2021/04...</td>\n      <td>1.0</td>\n      <td>https://www.jornada.com.mx/ultimas/2020/04/14/...</td>\n      <td>1</td>\n      <td>NaN</td>\n      <td>NaN</td>\n      <td>NaN</td>\n      <td>NaN</td>\n    </tr>\n    <tr>\n      <th>3</th>\n      <td>3</td>\n      <td>https://www.jornada.com.mx/ultimas/2021/03/19/...</td>\n      <td>2021-03-19</td>\n      <td>Otorgan dos suspensiones definitivas contra Le...</td>\n      <td>Ciudad de México. El Juzgado Segundo de Distri...</td>\n      <td>['Editorial Demos', 'Gustavo Castillo García']</td>\n      <td>Con esta resolución y las impugnaciones realiz...</td>\n      <td>['contra', 'el', 'se', 'la', 'y', 'los', 'defi...</td>\n      <td>{'https://www.jornada.com.mx/ultimas/2021/03/2...</td>\n      <td>1.0</td>\n      <td>https://www.jornada.com.mx/ultimas/2021/03/19/...</td>\n      <td>1</td>\n      <td>NaN</td>\n      <td>NaN</td>\n      <td>NaN</td>\n      <td>NaN</td>\n    </tr>\n    <tr>\n      <th>4</th>\n      <td>4</td>\n      <td>https://www.jornada.com.mx/ultimas/2021/02/17/...</td>\n      <td>2021-02-17</td>\n      <td>Conceden tres nuevas suspensiones contra Tren ...</td>\n      <td>El Juzgado Cuarto de Distrito con sede en Yuca...</td>\n      <td>['Editorial Demos', 'Angélica Enciso Y Jared L...</td>\n      <td>El Juzgado Cuarto de Distrito con sede en Yuca...</td>\n      <td>['contra', 'conceden', 'maya', 'la', 'se', 'y'...</td>\n      <td>{'https://www.jornada.com.mx/theme/img/logo_ne...</td>\n      <td>1.0</td>\n      <td>https://www.jornada.com.mx/ultimas/2021/02/17/...</td>\n      <td>1</td>\n      <td>NaN</td>\n      <td>NaN</td>\n      <td>NaN</td>\n      <td>NaN</td>\n    </tr>\n  </tbody>\n</table>\n</div>"
     },
     "metadata": {},
     "execution_count": 5
    }
   ],
   "source": [
    "jornada_df.head()"
   ]
  },
  {
   "cell_type": "code",
   "execution_count": 15,
   "metadata": {},
   "outputs": [
    {
     "output_type": "execute_result",
     "data": {
      "text/plain": [
       "0       Implementar política de género, labor de la Co...\n",
       "1       Arrestan a productor ganador del Grammy por ca...\n",
       "2       El cine realizado con 'smartphone' se abre cam...\n",
       "3       Otorgan dos suspensiones definitivas contra Le...\n",
       "4       Conceden tres nuevas suspensiones contra Tren ...\n",
       "                              ...                        \n",
       "2094    Secuestrador pretendía abusar de Sofía Abigail...\n",
       "2095    \"Desde nosotras\", la mirada fotográfica de las...\n",
       "2096    Con Motín, presos de Bolivia exigen “indulto t...\n",
       "2097    Claman justicia en Michoacán por el asesinato ...\n",
       "2098    Fernández acusa a empresas de causar desabasto...\n",
       "Name: title, Length: 2099, dtype: object"
      ]
     },
     "metadata": {},
     "execution_count": 15
    }
   ],
   "source": [
    "jornada_df[\"title\"]"
   ]
  },
  {
   "cell_type": "code",
   "execution_count": 27,
   "metadata": {},
   "outputs": [],
   "source": [
    "# Join both text columns\n",
    "jornada_df[\"title\"] = jornada_df[\"title\"].str.pad(1, side ='right', fillchar =' ')\n",
    "jornada_df[\"complete_text\"]  = jornada_df.title.str.cat(jornada_df.text).astype(str)"
   ]
  },
  {
   "cell_type": "code",
   "execution_count": 30,
   "metadata": {},
   "outputs": [],
   "source": [
    "# Normalize and tokenize all documents\n",
    "jornada_df['tokenized_sentences'] = jornada_df['complete_text'].apply(lambda x: \n",
    "                                                                      [word_tokenize(s, model=nlp_spanish)\n",
    "                                                                      for s in sent_tokenize(x)])\n",
    "jornada_df['normalized_sentences'] = jornada_df['tokenized_sentences'].apply(lambda x:\n",
    "                                                                            [normalize_tokens(s, model=nlp_spanish)\n",
    "                                                                            for s in x])"
   ]
  },
  {
   "cell_type": "code",
   "execution_count": 31,
   "metadata": {},
   "outputs": [],
   "source": [
    "laJornada_w2v  = gensim.models.word2vec.Word2Vec(jornada_df['normalized_sentences'].sum(),window=10)"
   ]
  },
  {
   "cell_type": "code",
   "execution_count": 46,
   "metadata": {},
   "outputs": [
    {
     "output_type": "stream",
     "name": "stderr",
     "text": [
      "C:\\Users\\robal\\AppData\\Roaming\\Python\\Python39\\site-packages\\sklearn\\base.py:310: UserWarning: Trying to unpickle estimator CountVectorizer from version 0.23.2 when using version 0.24.0. This might lead to breaking code or invalid results. Use at your own risk.\n  warnings.warn(\nC:\\Users\\robal\\AppData\\Roaming\\Python\\Python39\\site-packages\\sklearn\\base.py:310: UserWarning: Trying to unpickle estimator MultinomialNB from version 0.23.2 when using version 0.24.0. This might lead to breaking code or invalid results. Use at your own risk.\n  warnings.warn(\n"
     ]
    }
   ],
   "source": [
    "# Initialize sentiment scorer object\n",
    "SentimentScorer = sentiment_analysis.SentimentAnalysisSpanish()"
   ]
  },
  {
   "cell_type": "code",
   "execution_count": 38,
   "metadata": {},
   "outputs": [
    {
     "output_type": "execute_result",
     "data": {
      "text/plain": [
       "[('expareja', 0.9249137043952942),\n",
       " ('parejo', 0.9185882806777954),\n",
       " ('joven', 0.914275050163269),\n",
       " ('ileso', 0.9124696850776672),\n",
       " ('huella', 0.9100757837295532),\n",
       " ('hallar', 0.9099434018135071),\n",
       " ('edad', 0.9064306616783142),\n",
       " ('morir', 0.9054591655731201),\n",
       " ('agredir', 0.8991708755493164),\n",
       " ('vehículo', 0.8988486528396606)]"
      ]
     },
     "metadata": {},
     "execution_count": 38
    }
   ],
   "source": [
    "laJornada_w2v.wv.most_similar(\"hombre\")"
   ]
  },
  {
   "cell_type": "code",
   "execution_count": 64,
   "metadata": {},
   "outputs": [
    {
     "output_type": "stream",
     "name": "stdout",
     "text": [
      "\nFinding words most similar to 'hombre' according to its embedding\n................................................................\n[('expareja', 0.9249137043952942), ('parejo', 0.9185882806777954), ('joven', 0.914275050163269), ('ileso', 0.9124696850776672), ('huella', 0.9100757837295532), ('hallar', 0.9099434018135071), ('edad', 0.9064306616783142), ('morir', 0.9054591655731201), ('agredir', 0.8991708755493164), ('vehículo', 0.8988486528396606)]\nSentiment 0.5502848660732251\n\nFinding words most similar to 'mujer' according to its embedding\n................................................................\n[('machista', 0.8625805974006653), ('doméstico', 0.8457156419754028), ('vivir', 0.8359159231185913), ('feminicida', 0.834751307964325), ('erradicar', 0.830609917640686), ('intrafamiliar', 0.8279011249542236), ('familiar', 0.8210567235946655), ('estudiante', 0.8158153891563416), ('aumentar', 0.8135995864868164), ('contexto', 0.8109303712844849)]\nSentiment 0.544059203489677\n\nFinding words most similar to 'feminicidio' according to its embedding\n................................................................\n[('investigar', 0.868835985660553), ('escamilla', 0.8681182861328125), ('homicidio', 0.8662482500076294), ('feminicidios', 0.8572870492935181), ('asesinato', 0.8557831048965454), ('castigar', 0.8504499197006226), ('cometido', 0.8312093615531921), ('crimen', 0.826167106628418), ('tipificación', 0.8244413137435913), ('ingrid', 0.8233056664466858)]\nSentiment 0.49789225920557484\n\nFinding words most similar to 'Morena' according to its embedding\n................................................................\n"
     ]
    }
   ],
   "source": [
    "words_of_interest = [\"hombre\", \"mujer\", \"feminicidio\", \"Morena\"]\n",
    "\n",
    "for word in words_of_interest:\n",
    "    print()\n",
    "    print(f\"Finding words most similar to '{word}' according to its embedding\")\n",
    "    try:\n",
    "        print(\"................................................................\")\n",
    "        words_tupple = laJornada_w2v.wv.most_similar(word)\n",
    "        rep_words = [word for word, score in words_tupple]\n",
    "        print(words_tupple)\n",
    "        sentiment = SentimentScorer.sentiment(\" \".join(rep_words))\n",
    "        print(f\"Sentiment {sentiment}\")\n",
    "    except:\n",
    "        continue"
   ]
  },
  {
   "source": [
    "## Use El Universal web scraped articles on gender violence which contains around ~3000 articles"
   ],
   "cell_type": "markdown",
   "metadata": {}
  },
  {
   "cell_type": "code",
   "execution_count": 67,
   "metadata": {},
   "outputs": [],
   "source": [
    "# Missing"
   ]
  },
  {
   "source": [],
   "cell_type": "markdown",
   "metadata": {}
  }
 ]
}