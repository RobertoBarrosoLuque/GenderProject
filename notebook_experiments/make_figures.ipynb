{
 "metadata": {
  "language_info": {
   "codemirror_mode": {
    "name": "ipython",
    "version": 3
   },
   "file_extension": ".py",
   "mimetype": "text/x-python",
   "name": "python",
   "nbconvert_exporter": "python",
   "pygments_lexer": "ipython3",
   "version": "3.9.1"
  },
  "orig_nbformat": 2,
  "kernelspec": {
   "name": "python391jvsc74a57bd02ee7887ffa93df046518e30b2b61048c198cc6fb9801cac3b9a523e4e734f042",
   "display_name": "Python 3.9.1 64-bit ('nlp_class': conda)"
  }
 },
 "nbformat": 4,
 "nbformat_minor": 2,
 "cells": [
  {
   "cell_type": "code",
   "execution_count": 1,
   "metadata": {},
   "outputs": [],
   "source": [
    "import pandas as pd\n",
    "import altair as alt"
   ]
  },
  {
   "cell_type": "code",
   "execution_count": 52,
   "metadata": {},
   "outputs": [],
   "source": [
    "file_path = '../data/analysis_results'\n",
    "results = []\n",
    "\n",
    "for name in [\"Mexico\", \"UK\", \"Pakistan\", \"Glove\", \"SpanishBW\"]:\n",
    "    data = pd.read_excel(file_path+\"/\"+name+\"_word2vec_summary.xlsx\")\n",
    "    data.loc[:,\"Embedding\"] = name\n",
    "    results.append(data)\n",
    "results_df = pd.concat(results)"
   ]
  },
  {
   "cell_type": "code",
   "execution_count": 53,
   "metadata": {},
   "outputs": [],
   "source": [
    "results_df.drop(columns=\"Unnamed: 0\", inplace=True)"
   ]
  },
  {
   "cell_type": "code",
   "execution_count": 54,
   "metadata": {},
   "outputs": [
    {
     "output_type": "execute_result",
     "data": {
      "text/plain": [
       "   keyword                                            closest  sentiment  \\\n",
       "0   hombre  ['murió', 'desaparecida', 'detenido', 'joven',...     -0.068   \n",
       "1    mujer  ['niña', 'menor', 'víctima', 'joven', 'muerte'...      0.101   \n",
       "2    abuso  ['agresión', 'sexual', 'acoso', 'penetración',...     -0.936   \n",
       "3    lugar  ['mes', 'sismo', 'año', 'periodo', 'febrero', ...     -0.752   \n",
       "4  victima                                                NaN        NaN   \n",
       "\n",
       "       source Embedding  \n",
       "0  La Jornada    Mexico  \n",
       "1  La Jornada    Mexico  \n",
       "2  La Jornada    Mexico  \n",
       "3  La Jornada    Mexico  \n",
       "4  La Jornada    Mexico  "
      ],
      "text/html": "<div>\n<style scoped>\n    .dataframe tbody tr th:only-of-type {\n        vertical-align: middle;\n    }\n\n    .dataframe tbody tr th {\n        vertical-align: top;\n    }\n\n    .dataframe thead th {\n        text-align: right;\n    }\n</style>\n<table border=\"1\" class=\"dataframe\">\n  <thead>\n    <tr style=\"text-align: right;\">\n      <th></th>\n      <th>keyword</th>\n      <th>closest</th>\n      <th>sentiment</th>\n      <th>source</th>\n      <th>Embedding</th>\n    </tr>\n  </thead>\n  <tbody>\n    <tr>\n      <th>0</th>\n      <td>hombre</td>\n      <td>['murió', 'desaparecida', 'detenido', 'joven',...</td>\n      <td>-0.068</td>\n      <td>La Jornada</td>\n      <td>Mexico</td>\n    </tr>\n    <tr>\n      <th>1</th>\n      <td>mujer</td>\n      <td>['niña', 'menor', 'víctima', 'joven', 'muerte'...</td>\n      <td>0.101</td>\n      <td>La Jornada</td>\n      <td>Mexico</td>\n    </tr>\n    <tr>\n      <th>2</th>\n      <td>abuso</td>\n      <td>['agresión', 'sexual', 'acoso', 'penetración',...</td>\n      <td>-0.936</td>\n      <td>La Jornada</td>\n      <td>Mexico</td>\n    </tr>\n    <tr>\n      <th>3</th>\n      <td>lugar</td>\n      <td>['mes', 'sismo', 'año', 'periodo', 'febrero', ...</td>\n      <td>-0.752</td>\n      <td>La Jornada</td>\n      <td>Mexico</td>\n    </tr>\n    <tr>\n      <th>4</th>\n      <td>victima</td>\n      <td>NaN</td>\n      <td>NaN</td>\n      <td>La Jornada</td>\n      <td>Mexico</td>\n    </tr>\n  </tbody>\n</table>\n</div>"
     },
     "metadata": {},
     "execution_count": 54
    }
   ],
   "source": [
    "results_df.head()"
   ]
  },
  {
   "cell_type": "code",
   "execution_count": 62,
   "metadata": {},
   "outputs": [
    {
     "output_type": "execute_result",
     "data": {
      "text/html": "\n<div id=\"altair-viz-80541d6cb1b74c409054d60cf1f9df7e\"></div>\n<script type=\"text/javascript\">\n  (function(spec, embedOpt){\n    let outputDiv = document.currentScript.previousElementSibling;\n    if (outputDiv.id !== \"altair-viz-80541d6cb1b74c409054d60cf1f9df7e\") {\n      outputDiv = document.getElementById(\"altair-viz-80541d6cb1b74c409054d60cf1f9df7e\");\n    }\n    const paths = {\n      \"vega\": \"https://cdn.jsdelivr.net/npm//vega@5?noext\",\n      \"vega-lib\": \"https://cdn.jsdelivr.net/npm//vega-lib?noext\",\n      \"vega-lite\": \"https://cdn.jsdelivr.net/npm//vega-lite@4.8.1?noext\",\n      \"vega-embed\": \"https://cdn.jsdelivr.net/npm//vega-embed@6?noext\",\n    };\n\n    function loadScript(lib) {\n      return new Promise(function(resolve, reject) {\n        var s = document.createElement('script');\n        s.src = paths[lib];\n        s.async = true;\n        s.onload = () => resolve(paths[lib]);\n        s.onerror = () => reject(`Error loading script: ${paths[lib]}`);\n        document.getElementsByTagName(\"head\")[0].appendChild(s);\n      });\n    }\n\n    function showError(err) {\n      outputDiv.innerHTML = `<div class=\"error\" style=\"color:red;\">${err}</div>`;\n      throw err;\n    }\n\n    function displayChart(vegaEmbed) {\n      vegaEmbed(outputDiv, spec, embedOpt)\n        .catch(err => showError(`Javascript Error: ${err.message}<br>This usually means there's a typo in your chart specification. See the javascript console for the full traceback.`));\n    }\n\n    if(typeof define === \"function\" && define.amd) {\n      requirejs.config({paths});\n      require([\"vega-embed\"], displayChart, err => showError(`Error loading script: ${err.message}`));\n    } else if (typeof vegaEmbed === \"function\") {\n      displayChart(vegaEmbed);\n    } else {\n      loadScript(\"vega\")\n        .then(() => loadScript(\"vega-lite\"))\n        .then(() => loadScript(\"vega-embed\"))\n        .catch(showError)\n        .then(() => displayChart(vegaEmbed));\n    }\n  })({\"config\": {\"view\": {\"continuousWidth\": 400, \"continuousHeight\": 300, \"stroke\": null}, \"axisY\": {\"titleAngle\": -90, \"titleX\": -40, \"titleY\": 250}, \"facet\": {\"spacing\": 1}}, \"data\": {\"name\": \"data-21107fe608ff04488eee6715566433be\"}, \"mark\": {\"type\": \"point\", \"filled\": true, \"size\": 150}, \"encoding\": {\"color\": {\"type\": \"nominal\", \"field\": \"source\", \"scale\": {\"domain\": [\"The Guardian\", \"The Times\", \"The Sun\", \"Glove\"], \"range\": [\"#00D2D5\", \"#008CF9\", \"#5DDF84\", \"#009050\"]}}, \"shape\": {\"type\": \"nominal\", \"field\": \"Embedding\"}, \"x\": {\"type\": \"nominal\", \"field\": \"keyword\"}, \"y\": {\"type\": \"quantitative\", \"field\": \"sentiment\"}}, \"height\": 400, \"title\": {\"text\": \"Sentiment Associated to Keywords in UK Embedings\"}, \"width\": 300, \"$schema\": \"https://vega.github.io/schema/vega-lite/v4.8.1.json\", \"datasets\": {\"data-21107fe608ff04488eee6715566433be\": [{\"keyword\": \"man\", \"closest\": \"['teenager', 'girl', 'boy', 'rapist', 'male', 'attacker', '73-year', 'suspicion', 'grope', 'people.</p']\", \"sentiment\": -0.9042, \"source\": \"The Guardian\", \"Embedding\": \"UK\"}, {\"keyword\": \"woman\", \"closest\": \"['women.</p', 'female', 'male', 'girl', 'man', 'survivor', 'gender', 'people', 'athlete', 'adult']\", \"sentiment\": 0.3612, \"source\": \"The Guardian\", \"Embedding\": \"UK\"}, {\"keyword\": \"abuse\", \"closest\": \"['abuse.</p', 'abuse</a', 'assaults.</p', 'exploitation', 'violence.</p', 'assault.</p', 'violence', 'abuser', 'misconduct', 'violence</a']\", \"sentiment\": -0.8271, \"source\": \"The Guardian\", \"Embedding\": \"UK\"}, {\"keyword\": \"place\", \"closest\": \"['advantage', 'seriously', 'step', 'approach', 'place.</p', 'action.</p', 'responsibility', 'safe', 'build', 'necessitate']\", \"sentiment\": 0.4939, \"source\": \"The Guardian\", \"Embedding\": \"UK\"}, {\"keyword\": \"victim\", \"closest\": \"['perpetrator', 'survivor', 'abuser', 'instance', 'prosecute', 'homicide', 'partner', 'client', 'stalker', 'offender']\", \"sentiment\": -0.8591, \"source\": \"The Guardian\", \"Embedding\": \"UK\"}, {\"keyword\": \"blame\", \"closest\": \"['ignore', 'mistreatment', 'motivate', 'failure', 'responsible', 'threaten', 'fail', 'punish', 'tactic', 'undermine']\", \"sentiment\": -0.9118, \"source\": \"The Guardian\", \"Embedding\": \"UK\"}, {\"keyword\": \"responsibility\", \"closest\": \"['seriously', 'proper', 'practice', 'appropriate', 'ensure', 'properly', 'engage', 'belief', 'duty', 'consideration']\", \"sentiment\": 0.5106, \"source\": \"The Guardian\", \"Embedding\": \"UK\"}, {\"keyword\": \"man\", \"closest\": \"['age', 'british', 'include', 'murder', 'mr', 'live', 'family', 'life', 'run', 'force']\", \"sentiment\": -0.6908, \"source\": \"The Times\", \"Embedding\": \"UK\"}, {\"keyword\": \"woman\", \"closest\": \"['accuse', 'man', 'include', 'age', 'case', 'convict', 'country', 'call', 'death', 'force']\", \"sentiment\": -0.6908, \"source\": \"The Times\", \"Embedding\": \"UK\"}, {\"keyword\": \"abuse\", \"closest\": \"['child', 'victim', 'offence', 'harassment', 'sexual', 'assault', 'inquiry', 'violence', 'report', 'allege']\", \"sentiment\": -0.9403, \"source\": \"The Times\", \"Embedding\": \"UK\"}, {\"keyword\": \"place\", \"closest\": \"['work', 'company', 'house', 'right', 'state', 'family', 'way', 'day', 'run', 'british']\", \"sentiment\": 0.0, \"source\": \"The Times\", \"Embedding\": \"UK\"}, {\"keyword\": \"victim\", \"closest\": \"['report', 'allege', 'charge', 'sex', 'numb', 'offence', 'investigation', 'violence', 'case', 'allegation']\", \"sentiment\": -0.8271, \"source\": \"The Times\", \"Embedding\": \"UK\"}, {\"keyword\": \"blame\", \"closest\": \"['mr', 'president', 'feel', 'make', 'mark', 'age', 'world', 'good', 'half', 'come']\", \"sentiment\": 0.4404, \"source\": \"The Times\", \"Embedding\": \"UK\"}, {\"keyword\": \"responsibility\", \"closest\": \"['london', 'city', 'story', 'mean', 'serve', 'work', 'party', 'period', 'publish', 'order']\", \"sentiment\": 0.4019, \"source\": \"The Times\", \"Embedding\": \"UK\"}, {\"keyword\": \"man\", \"closest\": \"['20s', 'attacker', 'female', 'unconscious', 'mile', 'transit', '65-year', 'attack', '14-year', 'relowicz']\", \"sentiment\": -0.7783, \"source\": \"The Sun\", \"Embedding\": \"UK\"}, {\"keyword\": \"woman\", \"closest\": \"['female', 'male', 'fear', 'girl', 'harass', 'mutilation', 'harassment', 'victim', 'man', 'target']\", \"sentiment\": -0.9001, \"source\": \"The Sun\", \"Embedding\": \"UK\"}, {\"keyword\": \"abuse\", \"closest\": \"['hotline', 'intimacy', 'groom', 'harassment', 'misconduct', 'exploitation', 'hitmaker', 'expose', 'consent', 'harass']\", \"sentiment\": -0.7506, \"source\": \"The Sun\", \"Embedding\": \"UK\"}, {\"keyword\": \"place\", \"closest\": \"['seriously', 'advantage', 'reassurance', 'kilometre', 'delhi', 'hundred', 'demonstration', 'street', 'take', 'curfew']\", \"sentiment\": 0.4939, \"source\": \"The Sun\", \"Embedding\": \"UK\"}, {\"keyword\": \"victim\", \"closest\": \"['female', 'horrific', 'sexually', 'attacker', 'authority', 'involve', 'ordeal', 'initially', 'domestic', 'commit']\", \"sentiment\": -0.765, \"source\": \"The Sun\", \"Embedding\": \"UK\"}, {\"keyword\": \"blame\", \"closest\": \"['intimidate', 'unreported', 'scale', 'trigger', 'wolf', 'perpetrator', 'whistle', 'misogynistic', 'ignore', 'perpetrate']\", \"sentiment\": -0.7579, \"source\": \"The Sun\", \"Embedding\": \"UK\"}, {\"keyword\": \"responsibility\", \"closest\": \"['vital', 'specific', 'system', 'discussion', 'scale', 'outcome', 'appropriate', 'strengthen', 'consider', 'position']\", \"sentiment\": 0.5423, \"source\": \"The Sun\", \"Embedding\": \"UK\"}, {\"keyword\": \"man\", \"closest\": \"['woman', 'boy', 'one', 'person', 'another', 'old', 'life', 'father', 'turned', 'who']\", \"sentiment\": 0.0, \"source\": \"Glove\", \"Embedding\": \"Glove\"}, {\"keyword\": \"woman\", \"closest\": \"['girl', 'man', 'mother', 'boy', 'she', 'child', 'wife', 'her', 'herself', 'daughter']\", \"sentiment\": 0.0, \"source\": \"Glove\", \"Embedding\": \"Glove\"}, {\"keyword\": \"abuse\", \"closest\": \"['sexual', 'sex', 'abuses', 'allegations', 'rape', 'harassment', 'misconduct', 'torture', 'corruption', 'child']\", \"sentiment\": -0.9493, \"source\": \"Glove\", \"Embedding\": \"Glove\"}, {\"keyword\": \"place\", \"closest\": \"['time', 'only', 'one', 'take', 'next', 'this', 'the', 'places', 'where', 'spot']\", \"sentiment\": 0.0, \"source\": \"Glove\", \"Embedding\": \"Glove\"}, {\"keyword\": \"victim\", \"closest\": \"['victims', 'woman', 'child', 'man', 'murder', 'death', 'witness', 'suspect', 'person', 'case']\", \"sentiment\": -0.9201, \"source\": \"Glove\", \"Embedding\": \"Glove\"}, {\"keyword\": \"blame\", \"closest\": \"['blaming', 'blamed', 'ignore', 'ignoring', 'wrong', 'responsibility', 'fear', 'say', 'avoid', 'worry']\", \"sentiment\": -0.9678, \"source\": \"Glove\", \"Embedding\": \"Glove\"}, {\"keyword\": \"responsibility\", \"closest\": \"['responsible', 'responsibilities', 'leadership', 'blame', 'actions', 'committed', 'involvement', 'our', 'involved', 'commitment']\", \"sentiment\": 0.5574, \"source\": \"Glove\", \"Embedding\": \"Glove\"}]}}, {\"mode\": \"vega-lite\"});\n</script>",
      "text/plain": [
       "alt.Chart(...)"
      ]
     },
     "metadata": {},
     "execution_count": 62
    }
   ],
   "source": [
    "palette = [\"#00D2D5\", \"#008CF9\", \"#5DDF84\", \"#009050\"]\n",
    "\n",
    "main_fig = alt.Chart(results_df[results_df.Embedding.isin([\"UK\", \"Glove\"])]\n",
    "                     ,title=alt.TitleParams(\"Sentiment Associated to Keywords in UK Embedings\"),\n",
    "          height=400, width=300).mark_point(filled=True, size=150).encode(\n",
    "    x=alt.X('keyword:N'),\n",
    "    y=alt.Y('sentiment:Q'),\n",
    "    shape=alt.Shape(\n",
    "        'Embedding:N'),\n",
    "    color=alt.Color(\n",
    "        'source:N', scale = alt.Scale(domain=[\"The Guardian\", \"The Times\",\n",
    "                                                          \"The Sun\", \"Glove\"],\n",
    "                                                   range=palette)))\n",
    "\n",
    "\n",
    "main_fig.properties().configure_facet(\n",
    "    spacing=1\n",
    ").configure_view(\n",
    "    stroke=None\n",
    ").configure_axisY(\n",
    "    titleAngle=-90, titleY = 250, titleX = -40\n",
    ")"
   ]
  },
  {
   "cell_type": "code",
   "execution_count": 65,
   "metadata": {},
   "outputs": [
    {
     "output_type": "execute_result",
     "data": {
      "text/html": "\n<div id=\"altair-viz-85455515f7024a4587bc211bdd286419\"></div>\n<script type=\"text/javascript\">\n  (function(spec, embedOpt){\n    let outputDiv = document.currentScript.previousElementSibling;\n    if (outputDiv.id !== \"altair-viz-85455515f7024a4587bc211bdd286419\") {\n      outputDiv = document.getElementById(\"altair-viz-85455515f7024a4587bc211bdd286419\");\n    }\n    const paths = {\n      \"vega\": \"https://cdn.jsdelivr.net/npm//vega@5?noext\",\n      \"vega-lib\": \"https://cdn.jsdelivr.net/npm//vega-lib?noext\",\n      \"vega-lite\": \"https://cdn.jsdelivr.net/npm//vega-lite@4.8.1?noext\",\n      \"vega-embed\": \"https://cdn.jsdelivr.net/npm//vega-embed@6?noext\",\n    };\n\n    function loadScript(lib) {\n      return new Promise(function(resolve, reject) {\n        var s = document.createElement('script');\n        s.src = paths[lib];\n        s.async = true;\n        s.onload = () => resolve(paths[lib]);\n        s.onerror = () => reject(`Error loading script: ${paths[lib]}`);\n        document.getElementsByTagName(\"head\")[0].appendChild(s);\n      });\n    }\n\n    function showError(err) {\n      outputDiv.innerHTML = `<div class=\"error\" style=\"color:red;\">${err}</div>`;\n      throw err;\n    }\n\n    function displayChart(vegaEmbed) {\n      vegaEmbed(outputDiv, spec, embedOpt)\n        .catch(err => showError(`Javascript Error: ${err.message}<br>This usually means there's a typo in your chart specification. See the javascript console for the full traceback.`));\n    }\n\n    if(typeof define === \"function\" && define.amd) {\n      requirejs.config({paths});\n      require([\"vega-embed\"], displayChart, err => showError(`Error loading script: ${err.message}`));\n    } else if (typeof vegaEmbed === \"function\") {\n      displayChart(vegaEmbed);\n    } else {\n      loadScript(\"vega\")\n        .then(() => loadScript(\"vega-lite\"))\n        .then(() => loadScript(\"vega-embed\"))\n        .catch(showError)\n        .then(() => displayChart(vegaEmbed));\n    }\n  })({\"config\": {\"view\": {\"continuousWidth\": 400, \"continuousHeight\": 300, \"stroke\": null}, \"axisY\": {\"titleAngle\": -90, \"titleX\": -40, \"titleY\": 250}, \"facet\": {\"spacing\": 1}}, \"data\": {\"name\": \"data-3a2b5beb858b2e330450436e59e0207d\"}, \"mark\": {\"type\": \"point\", \"filled\": true, \"size\": 150}, \"encoding\": {\"color\": {\"type\": \"nominal\", \"field\": \"source\", \"scale\": {\"domain\": [\"Dawn\", \"The News\", \"Glove\"], \"range\": [\"#85FF6C\", \"#B74CFF\", \"#009050\"]}}, \"shape\": {\"type\": \"nominal\", \"field\": \"Embedding\"}, \"x\": {\"type\": \"nominal\", \"field\": \"keyword\"}, \"y\": {\"type\": \"quantitative\", \"field\": \"sentiment\"}}, \"height\": 400, \"title\": {\"text\": \"Sentiment Associated to Keywords in Pakistan Embedings\"}, \"width\": 300, \"$schema\": \"https://vega.github.io/schema/vega-lite/v4.8.1.json\", \"datasets\": {\"data-3a2b5beb858b2e330450436e59e0207d\": [{\"keyword\": \"man\", \"closest\": \"['minor', 'murder', 'kidnap', 'girl', 'mother', 'teenage', 'robber', 'kill', 'september', 'assault']\", \"sentiment\": -0.9571, \"source\": \"The News\", \"Embedding\": \"Pakistan\"}, {\"keyword\": \"woman\", \"closest\": \"['child', 'domestic', 'subject', 'sexual', 'harassment', 'rise', 'assault', 'cent', 'month', 'prevent']\", \"sentiment\": -0.802, \"source\": \"The News\", \"Embedding\": \"Pakistan\"}, {\"keyword\": \"abuse\", \"closest\": \"['sexual', 'child', 'woman', 'domestic', 'year', 'assault', 'subject', 'harassment', 'cent', 'report']\", \"sentiment\": -0.8074, \"source\": \"The News\", \"Embedding\": \"Pakistan\"}, {\"keyword\": \"place\", \"closest\": \"['hour', 'suggest', 'week', 'carry', 'follow', 'learn', 'away', 'get', 'despite', 'rapist']\", \"sentiment\": 0.5975, \"source\": \"The News\", \"Embedding\": \"Pakistan\"}, {\"keyword\": \"victim\", \"closest\": \"['file', 'involve', 'accord', 'night', 'claim', 'tuesday', 'culprit', 'month', 'confess', 'allege']\", \"sentiment\": 0.0, \"source\": \"The News\", \"Embedding\": \"Pakistan\"}, {\"keyword\": \"blame\", \"closest\": \"['follow', 'authority', 'anti', 'bring', 'culture', 'share', 'despite', 'come', 'want', 'job']\", \"sentiment\": -0.0057, \"source\": \"The News\", \"Embedding\": \"Pakistan\"}, {\"keyword\": \"responsibility\", \"closest\": \"['give', 'offer', 'home', 'president', 'director', 'senator', 'matt', 'new', 'use', 'meet']\", \"sentiment\": 0.0, \"source\": \"The News\", \"Embedding\": \"Pakistan\"}, {\"keyword\": \"man\", \"closest\": \"['woman', 'justice', 'say', 'work', 'police', 'take', 'case', 'law', 'state', 'family']\", \"sentiment\": 0.5267, \"source\": \"Dawn\", \"Embedding\": \"Pakistan\"}, {\"keyword\": \"woman\", \"closest\": \"['say', 'violence', 'ali', 'police', 'justice', 'law', 'state', 'take', 'country', 'court']\", \"sentiment\": -0.1779, \"source\": \"Dawn\", \"Embedding\": \"Pakistan\"}, {\"keyword\": \"abuse\", \"closest\": \"['child', 'sexual', 'say', 'state', 'case', 'country', 'police', 'woman', 'work', 'court']\", \"sentiment\": 0.0, \"source\": \"Dawn\", \"Embedding\": \"Pakistan\"}, {\"keyword\": \"place\", \"closest\": \"['justice', 'law', 'say', 'government', 'take', 'country', 'officer', 'case', 'right', 'police']\", \"sentiment\": 0.5267, \"source\": \"Dawn\", \"Embedding\": \"Pakistan\"}, {\"keyword\": \"victim\", \"closest\": \"['police', 'say', 'law', 'state', 'report', 'woman', 'people', 'justice', 'pakistan', 'country']\", \"sentiment\": 0.5267, \"source\": \"Dawn\", \"Embedding\": \"Pakistan\"}, {\"keyword\": \"blame\", \"closest\": \"['adviser', 'anti', 'hour', 'behaviour', 'keep', 'drug', 'bring', 'soon', 'public', 'culture']\", \"sentiment\": -0.3182, \"source\": \"Dawn\", \"Embedding\": \"Pakistan\"}, {\"keyword\": \"responsibility\", \"closest\": \"['complainant', 'court', 'woman', 'minister', 'allege', 'law', 'high', 'take', 'girl', 'ali']\", \"sentiment\": -0.1779, \"source\": \"Dawn\", \"Embedding\": \"Pakistan\"}, {\"keyword\": \"man\", \"closest\": \"['woman', 'boy', 'one', 'person', 'another', 'old', 'life', 'father', 'turned', 'who']\", \"sentiment\": 0.0, \"source\": \"Glove\", \"Embedding\": \"Glove\"}, {\"keyword\": \"woman\", \"closest\": \"['girl', 'man', 'mother', 'boy', 'she', 'child', 'wife', 'her', 'herself', 'daughter']\", \"sentiment\": 0.0, \"source\": \"Glove\", \"Embedding\": \"Glove\"}, {\"keyword\": \"abuse\", \"closest\": \"['sexual', 'sex', 'abuses', 'allegations', 'rape', 'harassment', 'misconduct', 'torture', 'corruption', 'child']\", \"sentiment\": -0.9493, \"source\": \"Glove\", \"Embedding\": \"Glove\"}, {\"keyword\": \"place\", \"closest\": \"['time', 'only', 'one', 'take', 'next', 'this', 'the', 'places', 'where', 'spot']\", \"sentiment\": 0.0, \"source\": \"Glove\", \"Embedding\": \"Glove\"}, {\"keyword\": \"victim\", \"closest\": \"['victims', 'woman', 'child', 'man', 'murder', 'death', 'witness', 'suspect', 'person', 'case']\", \"sentiment\": -0.9201, \"source\": \"Glove\", \"Embedding\": \"Glove\"}, {\"keyword\": \"blame\", \"closest\": \"['blaming', 'blamed', 'ignore', 'ignoring', 'wrong', 'responsibility', 'fear', 'say', 'avoid', 'worry']\", \"sentiment\": -0.9678, \"source\": \"Glove\", \"Embedding\": \"Glove\"}, {\"keyword\": \"responsibility\", \"closest\": \"['responsible', 'responsibilities', 'leadership', 'blame', 'actions', 'committed', 'involvement', 'our', 'involved', 'commitment']\", \"sentiment\": 0.5574, \"source\": \"Glove\", \"Embedding\": \"Glove\"}]}}, {\"mode\": \"vega-lite\"});\n</script>",
      "text/plain": [
       "alt.Chart(...)"
      ]
     },
     "metadata": {},
     "execution_count": 65
    }
   ],
   "source": [
    "palette = [\"#85FF6C\", \"#B74CFF\", \"#009050\"]\n",
    "\n",
    "main_fig = alt.Chart(results_df[results_df.Embedding.isin([\"Pakistan\", \"Glove\"])]\n",
    "                     ,title=alt.TitleParams(\"Sentiment Associated to Keywords in Pakistan Embedings\"),\n",
    "          height=400, width=300).mark_point(filled=True, size=150).encode(\n",
    "    x=alt.X('keyword:N'),\n",
    "    y=alt.Y('sentiment:Q'),\n",
    "    shape=alt.Shape(\n",
    "        'Embedding:N'),\n",
    "    color=alt.Color(\n",
    "        'source:N', \n",
    "        scale = alt.Scale(domain=[\"Dawn\", \"The News\", \"Glove\"],\n",
    "                                                   range=palette)))\n",
    "\n",
    "\n",
    "main_fig.properties().configure_facet(\n",
    "    spacing=1\n",
    ").configure_view(\n",
    "    stroke=None\n",
    ").configure_axisY(\n",
    "    titleAngle=-90, titleY = 250, titleX = -40\n",
    ")"
   ]
  },
  {
   "cell_type": "code",
   "execution_count": 66,
   "metadata": {},
   "outputs": [
    {
     "output_type": "execute_result",
     "data": {
      "text/html": "\n<div id=\"altair-viz-cb93c493b62e4a0d982e0c51ce792074\"></div>\n<script type=\"text/javascript\">\n  (function(spec, embedOpt){\n    let outputDiv = document.currentScript.previousElementSibling;\n    if (outputDiv.id !== \"altair-viz-cb93c493b62e4a0d982e0c51ce792074\") {\n      outputDiv = document.getElementById(\"altair-viz-cb93c493b62e4a0d982e0c51ce792074\");\n    }\n    const paths = {\n      \"vega\": \"https://cdn.jsdelivr.net/npm//vega@5?noext\",\n      \"vega-lib\": \"https://cdn.jsdelivr.net/npm//vega-lib?noext\",\n      \"vega-lite\": \"https://cdn.jsdelivr.net/npm//vega-lite@4.8.1?noext\",\n      \"vega-embed\": \"https://cdn.jsdelivr.net/npm//vega-embed@6?noext\",\n    };\n\n    function loadScript(lib) {\n      return new Promise(function(resolve, reject) {\n        var s = document.createElement('script');\n        s.src = paths[lib];\n        s.async = true;\n        s.onload = () => resolve(paths[lib]);\n        s.onerror = () => reject(`Error loading script: ${paths[lib]}`);\n        document.getElementsByTagName(\"head\")[0].appendChild(s);\n      });\n    }\n\n    function showError(err) {\n      outputDiv.innerHTML = `<div class=\"error\" style=\"color:red;\">${err}</div>`;\n      throw err;\n    }\n\n    function displayChart(vegaEmbed) {\n      vegaEmbed(outputDiv, spec, embedOpt)\n        .catch(err => showError(`Javascript Error: ${err.message}<br>This usually means there's a typo in your chart specification. See the javascript console for the full traceback.`));\n    }\n\n    if(typeof define === \"function\" && define.amd) {\n      requirejs.config({paths});\n      require([\"vega-embed\"], displayChart, err => showError(`Error loading script: ${err.message}`));\n    } else if (typeof vegaEmbed === \"function\") {\n      displayChart(vegaEmbed);\n    } else {\n      loadScript(\"vega\")\n        .then(() => loadScript(\"vega-lite\"))\n        .then(() => loadScript(\"vega-embed\"))\n        .catch(showError)\n        .then(() => displayChart(vegaEmbed));\n    }\n  })({\"config\": {\"view\": {\"continuousWidth\": 400, \"continuousHeight\": 300, \"stroke\": null}, \"axisY\": {\"titleAngle\": -90, \"titleX\": -40, \"titleY\": 250}, \"facet\": {\"spacing\": 1}}, \"data\": {\"name\": \"data-43c08ad1840eeb81e517364ad6fa84fe\"}, \"mark\": {\"type\": \"point\", \"filled\": true, \"size\": 150}, \"encoding\": {\"color\": {\"type\": \"nominal\", \"field\": \"source\", \"scale\": {\"domain\": [\"La Jornada\", \"El Universal\", \"El heraldo\", \"SpanishBW\"], \"range\": [\"#44EC98\", \"#FF3647\", \"#0096A8\", \"#009050\"]}}, \"shape\": {\"type\": \"nominal\", \"field\": \"Embedding\"}, \"x\": {\"type\": \"nominal\", \"field\": \"keyword\"}, \"y\": {\"type\": \"quantitative\", \"field\": \"sentiment\"}}, \"height\": 400, \"title\": {\"text\": \"Sentiment Associated to Keywords in Mexico Embedings\"}, \"width\": 300, \"$schema\": \"https://vega.github.io/schema/vega-lite/v4.8.1.json\", \"datasets\": {\"data-43c08ad1840eeb81e517364ad6fa84fe\": [{\"keyword\": \"hombre\", \"closest\": \"['muri\\u00f3', 'desaparecida', 'detenido', 'joven', 'sujeto', 'hallado', 'sentenciado', 'asesinada', 'reportada', 'encontrado']\", \"sentiment\": -0.068, \"source\": \"La Jornada\", \"Embedding\": \"Mexico\"}, {\"keyword\": \"mujer\", \"closest\": \"['ni\\u00f1a', 'menor', 'v\\u00edctima', 'joven', 'muerte', 'consentida', 'cuerpo', 'adolescente', 'asesinada', 'edad']\", \"sentiment\": 0.101, \"source\": \"La Jornada\", \"Embedding\": \"Mexico\"}, {\"keyword\": \"abuso\", \"closest\": \"['agresi\\u00f3n', 'sexual', 'acoso', 'penetraci\\u00f3n', 'inapropiada', 'agravada', 'robo', 'equiparada', 'conducta', 'secuestro']\", \"sentiment\": -0.936, \"source\": \"La Jornada\", \"Embedding\": \"Mexico\"}, {\"keyword\": \"lugar\", \"closest\": \"['mes', 'sismo', 'a\\u00f1o', 'periodo', 'febrero', 'transportaba', 'agosto', 'crimen', 'sitio', 'trimestre']\", \"sentiment\": -0.752, \"source\": \"La Jornada\", \"Embedding\": \"Mexico\"}, {\"keyword\": \"victima\", \"closest\": null, \"sentiment\": null, \"source\": \"La Jornada\", \"Embedding\": \"Mexico\"}, {\"keyword\": \"culpa\", \"closest\": \"['cosa', 'opci\\u00f3n', 'fuerte', 'supervivencia', 'cierto', 'palabra', 'est\\u00e9', 'metiendo', 'siento', 'fruto']\", \"sentiment\": -0.987, \"source\": \"La Jornada\", \"Embedding\": \"Mexico\"}, {\"keyword\": \"responsabilidad\", \"closest\": \"['posible', 'autoridad', 'causa', 'debido', 'participaci\\u00f3n', 'libertad', 'constituye', 'embarazo', 'inter\\u00e9s', 'totalidad']\", \"sentiment\": 0.278, \"source\": \"La Jornada\", \"Embedding\": \"Mexico\"}, {\"keyword\": \"hombre\", \"closest\": \"['identifica', 'merec\\u00eda', 'indignante', 'marido', 'hablaba', 'cena', 'amor', 'ven\\u00eda', 'habl\\u00e9', 'molest\\u00f3']\", \"sentiment\": -0.829, \"source\": \"El Universal\", \"Embedding\": \"Mexico\"}, {\"keyword\": \"mujer\", \"closest\": \"['violente', 'autosuficiencia', 'clasificado', 'vez', 'situaci\\u00f3n', 'representada', 'educado', 'historia', 'expuesta', 'inimaginable']\", \"sentiment\": -0.586, \"source\": \"El Universal\", \"Embedding\": \"Mexico\"}, {\"keyword\": \"abuso\", \"closest\": \"['sexual', 'acoso', 'agresi\\u00f3n', 'acusado', 'violaci\\u00f3n', 'parte', 'sufri\\u00f3', 'menores', 'acusaciones', 'confesiones']\", \"sentiment\": -0.039, \"source\": \"El Universal\", \"Embedding\": \"Mexico\"}, {\"keyword\": \"lugar\", \"closest\": \"['p\\u00fablico', 'lanzamiento', 'proceso', 'cant\\u00f3', 'movimiento', 'proyecto', 'punto', 'reportaje', 'fin', 'equipo']\", \"sentiment\": 0.354, \"source\": \"El Universal\", \"Embedding\": \"Mexico\"}, {\"keyword\": \"victima\", \"closest\": null, \"sentiment\": null, \"source\": \"El Universal\", \"Embedding\": \"Mexico\"}, {\"keyword\": \"culpa\", \"closest\": \"['hago', 'pregunta', 'sorpresa', 'coraz\\u00f3n', 'jam\\u00e1s', 'irme', 'conozco', 'volver', 'buscarla', 'amor']\", \"sentiment\": 0.017, \"source\": \"El Universal\", \"Embedding\": \"Mexico\"}, {\"keyword\": \"responsabilidad\", \"closest\": \"['existencia', 'labor', 'instituci\\u00f3n', 'respuesta', 'pr\\u00e1ctica', 'autoridad', 'posici\\u00f3n', 'actividad', 'fuerza', 'capacidad']\", \"sentiment\": -0.806, \"source\": \"El Universal\", \"Embedding\": \"Mexico\"}, {\"keyword\": \"hombre\", \"closest\": \"['ni\\u00f1o', 'beb\\u00e9', 'sujeto', 'ten\\u00eda', 'muri\\u00f3', 'sexualmente', 'adolescente', 'hijo', 'abus\\u00f3', 'peque\\u00f1a']\", \"sentiment\": -0.904, \"source\": \"El Heraldo\", \"Embedding\": \"Mexico\"}, {\"keyword\": \"mujer\", \"closest\": \"['muerte', 'priv\\u00f3', 'embarazada', 'ni\\u00f1a', 'acera', 'menor', 'resguardada', 'vecina', 'peque\\u00f1a', 'perdi\\u00f3']\", \"sentiment\": -0.067, \"source\": \"El Heraldo\", \"Embedding\": \"Mexico\"}, {\"keyword\": \"abuso\", \"closest\": \"['agresi\\u00f3n', 'depredador', 'acoso', 'inapropiada', 'explotaci\\u00f3n', 'reproductiva', '\\u00edndole', 'simulando', 'diversidad', 'intimidad']\", \"sentiment\": -0.004, \"source\": \"El Heraldo\", \"Embedding\": \"Mexico\"}, {\"keyword\": \"lugar\", \"closest\": \"['interior', 'transcurso', 'veh\\u00edculo', 'ocurrieron', 'sitio', 'diciembre', 'octubre', 'noviembre', 'domicilio', 'arribo']\", \"sentiment\": -0.283, \"source\": \"El Heraldo\", \"Embedding\": \"Mexico\"}, {\"keyword\": \"victima\", \"closest\": \"['nacionalidad', 'tragedia', 'cruel', 'restricci\\u00f3n', 'lanzada', 'banda', 'memoria', 'impotencia', 'avioneta', 'intercambiaron']\", \"sentiment\": -0.004, \"source\": \"El Heraldo\", \"Embedding\": \"Mexico\"}, {\"keyword\": \"culpa\", \"closest\": \"['triste', 'm\\u00eda', 'siento', 'inc\\u00f3moda', 'feliz', 'sentir', 'pregunta', 'veo', 'cosa', 'dije']\", \"sentiment\": -1.0, \"source\": \"El Heraldo\", \"Embedding\": \"Mexico\"}, {\"keyword\": \"responsabilidad\", \"closest\": \"['legislaci\\u00f3n', 'obligaci\\u00f3n', 'agravios', 'acci\\u00f3n', 'actuaci\\u00f3n', 'magnitud', 'problem\\u00e1tica', 'calidad', 'soluci\\u00f3n', 'presentar']\", \"sentiment\": -0.775, \"source\": \"El Heraldo\", \"Embedding\": \"Mexico\"}, {\"keyword\": \"hombre\", \"closest\": \"['mujer', 'muchacho', 'joven', 'anciano', 'gavillero', 'individuo', 'ladr\\u00f3n', 'balearse', 'apu\\u0144alada', 'Gorbal']\", \"sentiment\": -0.045, \"source\": \"SpanishBW\", \"Embedding\": \"SpanishBW\"}, {\"keyword\": \"mujer\", \"closest\": \"['ni\\u00f1a', 'muchacha', 'persona', 'hombre', 'f\\u00e9mina', 'anciana', 'joven', 'jovencita', 'marido', 'esposo']\", \"sentiment\": -0.124, \"source\": \"SpanishBW\", \"Embedding\": \"SpanishBW\"}, {\"keyword\": \"abuso\", \"closest\": \"['abusos', 'maltrato', 'abusado', 'abusivo', 'pornografia', 'rufianer\\u00eda', 'violaci\\u00f3n', 'sexual', 'Abuso', 'abusadores']\", \"sentiment\": -0.004, \"source\": \"SpanishBW\", \"Embedding\": \"SpanishBW\"}, {\"keyword\": \"lugar\", \"closest\": \"['Haw\\u00e1ian', 'Captree', 'Alderwood', 'Claverack', 'Johnsville', 'Wescosville', 'Fallsburg', 'Harleigh', 'Berrydale', 'Mahopac']\", \"sentiment\": -0.004, \"source\": \"SpanishBW\", \"Embedding\": \"SpanishBW\"}, {\"keyword\": \"victima\", \"closest\": \"['v\\u00edctima', 'victimario', 'extorsionarla', 'CUYOTENANGO', 'agraviado', 'f\\u00e9mina', 'victimas', 'agredida', 'victimada', 'sexoservidora']\", \"sentiment\": -0.004, \"source\": \"SpanishBW\", \"Embedding\": \"SpanishBW\"}, {\"keyword\": \"culpa\", \"closest\": \"['culpar', 'culpando', 'culpas', 'desgracia', 'achacar', 'achacarle', 'enrostra', 'exp\\u00ede', 'culparla', 'responsabilidad']\", \"sentiment\": -0.064, \"source\": \"SpanishBW\", \"Embedding\": \"SpanishBW\"}, {\"keyword\": \"responsabilidad\", \"closest\": \"['responsabilidades', 'obligaci\\u00f3n', 'deber', 'reponsabilidad', 'Recae', 'asumir', 'asuman', 'Asumo', 'corresponsabilidad', 'irresponsabilidad']\", \"sentiment\": -0.004, \"source\": \"SpanishBW\", \"Embedding\": \"SpanishBW\"}]}}, {\"mode\": \"vega-lite\"});\n</script>",
      "text/plain": [
       "alt.Chart(...)"
      ]
     },
     "metadata": {},
     "execution_count": 66
    }
   ],
   "source": [
    "palette = [\"#44EC98\", \"#FF3647\", \"#0096A8\", \"#009050\"]\n",
    "\n",
    "main_fig = alt.Chart(results_df[results_df.Embedding.isin([\"Mexico\", \"SpanishBW\"])]\n",
    "                     ,title=alt.TitleParams(\"Sentiment Associated to Keywords in Mexico Embedings\"),\n",
    "          height=400, width=300).mark_point(filled=True, size=150).encode(\n",
    "    x=alt.X('keyword:N'),\n",
    "    y=alt.Y('sentiment:Q'),\n",
    "    shape=alt.Shape(\n",
    "        'Embedding:N'),\n",
    "    color=alt.Color(\n",
    "        'source:N', \n",
    "        scale = alt.Scale(domain=[\"La Jornada\", \"El Universal\", \"El heraldo\", \"SpanishBW\"],\n",
    "                                                   range=palette)))\n",
    "\n",
    "\n",
    "main_fig.properties().configure_facet(\n",
    "    spacing=1\n",
    ").configure_view(\n",
    "    stroke=None\n",
    ").configure_axisY(\n",
    "    titleAngle=-90, titleY = 250, titleX = -40\n",
    ")"
   ]
  }
 ]
}