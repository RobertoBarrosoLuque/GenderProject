{
 "cells": [
  {
   "cell_type": "code",
   "execution_count": 1,
   "metadata": {},
   "outputs": [],
   "source": [
    "import os, requests, re\n",
    "import unicodecsv as csv\n",
    "from nltk import word_tokenize\n",
    "from nltk import sent_tokenize\n",
    "\n",
    "from bs4 import BeautifulSoup\n",
    "\n"
   ]
  },
  {
   "cell_type": "code",
   "execution_count": 6,
   "metadata": {},
   "outputs": [
    {
     "name": "stderr",
     "output_type": "stream",
     "text": [
      "Downloading https://raw.githubusercontent.com/stanfordnlp/stanza-resources/master/resources_1.2.0.json: 128kB [00:00, 14.0MB/s]                    \n",
      "2021-05-19 02:31:26 INFO: Downloading default packages for language: en (English)...\n",
      "2021-05-19 02:31:27 INFO: File exists: /Users/rukhshan/stanza_resources/en/default.zip.\n",
      "2021-05-19 02:31:36 INFO: Finished downloading models and saved to /Users/rukhshan/stanza_resources.\n"
     ]
    }
   ],
   "source": [
    "#! pip install stanza\n",
    "import stanza\n",
    "stanza.download('en')"
   ]
  },
  {
   "cell_type": "code",
   "execution_count": 7,
   "metadata": {},
   "outputs": [
    {
     "name": "stderr",
     "output_type": "stream",
     "text": [
      "2021-05-19 02:31:44 WARNING: Can not find mwt: default from official model list. Ignoring it.\n",
      "2021-05-19 02:31:44 INFO: Loading these models for language: en (English):\n",
      "========================\n",
      "| Processor | Package  |\n",
      "------------------------\n",
      "| tokenize  | combined |\n",
      "| pos       | combined |\n",
      "| lemma     | combined |\n",
      "| depparse  | combined |\n",
      "========================\n",
      "\n",
      "2021-05-19 02:31:44 INFO: Use device: cpu\n",
      "2021-05-19 02:31:44 INFO: Loading: tokenize\n",
      "2021-05-19 02:31:44 INFO: Loading: pos\n",
      "2021-05-19 02:31:44 INFO: Loading: lemma\n",
      "2021-05-19 02:31:45 INFO: Loading: depparse\n",
      "2021-05-19 02:31:45 INFO: Done loading processors!\n"
     ]
    }
   ],
   "source": [
    "dep_parser = stanza.Pipeline(lang='en', processors='tokenize,mwt,pos,lemma,depparse')"
   ]
  },
  {
   "cell_type": "code",
   "execution_count": 39,
   "metadata": {},
   "outputs": [
    {
     "name": "stdout",
     "output_type": "stream",
     "text": [
      "id: 1\tword: they\thead id: 2\thead: did\tdeprel: nsubj\n",
      "id: 2\tword: did\thead id: 0\thead: root\tdeprel: root\n",
      "id: 3\tword: a\thead id: 5\thead: thing\tdeprel: det\n",
      "id: 4\tword: bad\thead id: 5\thead: thing\tdeprel: amod\n",
      "id: 5\tword: thing\thead id: 2\thead: did\tdeprel: obj\n"
     ]
    }
   ],
   "source": [
    "doc = dep_parser(\"they did a bad thing\")\n",
    "print(*[f'id: {word.id}\\tword: {word.text}\\thead id: {word.head}\\thead: {sent.words[word.head-1].text if word.head > 0 else \"root\"}\\tdeprel: {word.deprel}' for sent in doc.sentences for word in sent.words], sep='\\n')"
   ]
  },
  {
   "cell_type": "code",
   "execution_count": null,
   "metadata": {},
   "outputs": [],
   "source": []
  },
  {
   "cell_type": "code",
   "execution_count": 33,
   "metadata": {},
   "outputs": [
    {
     "name": "stderr",
     "output_type": "stream",
     "text": [
      "2021-05-19 02:45:33 INFO: Loading these models for language: es (Spanish):\n",
      "=======================\n",
      "| Processor | Package |\n",
      "-----------------------\n",
      "| tokenize  | ancora  |\n",
      "| mwt       | ancora  |\n",
      "| pos       | ancora  |\n",
      "| lemma     | ancora  |\n",
      "| depparse  | ancora  |\n",
      "=======================\n",
      "\n",
      "2021-05-19 02:45:33 INFO: Use device: cpu\n",
      "2021-05-19 02:45:33 INFO: Loading: tokenize\n",
      "2021-05-19 02:45:33 INFO: Loading: mwt\n",
      "2021-05-19 02:45:33 INFO: Loading: pos\n",
      "2021-05-19 02:45:33 INFO: Loading: lemma\n",
      "2021-05-19 02:45:33 INFO: Loading: depparse\n",
      "2021-05-19 02:45:33 INFO: Done loading processors!\n"
     ]
    }
   ],
   "source": [
    "#stanza.download('es')\n",
    "nlp = stanza.Pipeline(lang='es', processors='tokenize,mwt,pos,lemma,depparse')"
   ]
  },
  {
   "cell_type": "code",
   "execution_count": 37,
   "metadata": {},
   "outputs": [
    {
     "name": "stdout",
     "output_type": "stream",
     "text": [
      "id: 1\tword: Yo\thead id: 2\thead: escribí\tdeprel: nsubj\n",
      "id: 2\tword: escribí\thead id: 0\thead: root\tdeprel: root\n",
      "id: 3\tword: estas\thead id: 4\thead: cartas\tdeprel: det\n",
      "id: 4\tword: cartas\thead id: 2\thead: escribí\tdeprel: obj\n",
      "id: 5\tword: .\thead id: 2\thead: escribí\tdeprel: punct\n"
     ]
    }
   ],
   "source": [
    "doc = nlp('Yo escribí estas cartas. ')\n",
    "print(*[f'id: {word.id}\\tword: {word.text}\\thead id: {word.head}\\thead: {sent.words[word.head-1].text if word.head > 0 else \"root\"}\\tdeprel: {word.deprel}' for sent in doc.sentences for word in sent.words], sep='\\n')"
   ]
  },
  {
   "cell_type": "code",
   "execution_count": 38,
   "metadata": {},
   "outputs": [
    {
     "name": "stdout",
     "output_type": "stream",
     "text": [
      "id: 1\tword: El\thead id: 2\thead: poema\tdeprel: det\n",
      "id: 2\tword: poema\thead id: 4\thead: escrito\tdeprel: nsubj\n",
      "id: 3\tword: fue\thead id: 4\thead: escrito\tdeprel: aux\n",
      "id: 4\tword: escrito\thead id: 0\thead: root\tdeprel: root\n",
      "id: 5\tword: por\thead id: 6\thead: Mateo\tdeprel: case\n",
      "id: 6\tword: Mateo\thead id: 4\thead: escrito\tdeprel: obj\n",
      "id: 7\tword: .\thead id: 4\thead: escrito\tdeprel: punct\n"
     ]
    }
   ],
   "source": [
    "doc = nlp(\"El poema fue escrito por Mateo.\")\n",
    "print(*[f'id: {word.id}\\tword: {word.text}\\thead id: {word.head}\\thead: {sent.words[word.head-1].text if word.head > 0 else \"root\"}\\tdeprel: {word.deprel}' for sent in doc.sentences for word in sent.words], sep='\\n')"
   ]
  },
  {
   "cell_type": "code",
   "execution_count": 40,
   "metadata": {},
   "outputs": [
    {
     "name": "stdout",
     "output_type": "stream",
     "text": [
      "id: 1\tword: La\thead id: 2\thead: pizza\tdeprel: det\n",
      "id: 2\tword: pizza\thead id: 4\thead: cocida\tdeprel: nsubj\n",
      "id: 3\tword: fue\thead id: 4\thead: cocida\tdeprel: aux\n",
      "id: 4\tword: cocida\thead id: 0\thead: root\tdeprel: root\n",
      "id: 5\tword: por\thead id: 7\thead: madre\tdeprel: case\n",
      "id: 6\tword: mi\thead id: 7\thead: madre\tdeprel: det\n",
      "id: 7\tword: madre\thead id: 4\thead: cocida\tdeprel: obj\n",
      "id: 8\tword: .\thead id: 4\thead: cocida\tdeprel: punct\n"
     ]
    }
   ],
   "source": [
    "doc = nlp(\"La pizza fue cocida por mi madre.\")\n",
    "print(*[f'id: {word.id}\\tword: {word.text}\\thead id: {word.head}\\thead: {sent.words[word.head-1].text if word.head > 0 else \"root\"}\\tdeprel: {word.deprel}' for sent in doc.sentences for word in sent.words], sep='\\n')"
   ]
  },
  {
   "cell_type": "code",
   "execution_count": 41,
   "metadata": {},
   "outputs": [
    {
     "name": "stdout",
     "output_type": "stream",
     "text": [
      "id: 1\tword: La\thead id: 2\thead: pizza\tdeprel: det\n",
      "id: 2\tword: pizza\thead id: 4\thead: cocida\tdeprel: nsubj\n",
      "id: 3\tword: fue\thead id: 4\thead: cocida\tdeprel: aux\n",
      "id: 4\tword: cocida\thead id: 0\thead: root\tdeprel: root\n",
      "id: 5\tword: por\thead id: 7\thead: madre\tdeprel: case\n",
      "id: 6\tword: mi\thead id: 7\thead: madre\tdeprel: det\n",
      "id: 7\tword: madre\thead id: 4\thead: cocida\tdeprel: obj\n",
      "id: 8\tword: .\thead id: 4\thead: cocida\tdeprel: punct\n"
     ]
    }
   ],
   "source": [
    "doc = nlp(\"La pizza fue cocida por mi madre.\")\n",
    "print(*[f'id: {word.id}\\tword: {word.text}\\thead id: {word.head}\\thead: {sent.words[word.head-1].text if word.head > 0 else \"root\"}\\tdeprel: {word.deprel}' for sent in doc.sentences for word in sent.words], sep='\\n')"
   ]
  }
 ],
 "metadata": {
  "kernelspec": {
   "display_name": "Python 3.7.4 64-bit ('anaconda3': virtualenv)",
   "name": "python374jvsc74a57bd00b65bf2ef877b533c0c05565d5bad13d8e3150e05880d1fab37ebf6665e2b872"
  },
  "language_info": {
   "codemirror_mode": {
    "name": "ipython",
    "version": 3
   },
   "file_extension": ".py",
   "mimetype": "text/x-python",
   "name": "python",
   "nbconvert_exporter": "python",
   "pygments_lexer": "ipython3",
   "version": "3.7.4"
  }
 },
 "nbformat": 4,
 "nbformat_minor": 4
}