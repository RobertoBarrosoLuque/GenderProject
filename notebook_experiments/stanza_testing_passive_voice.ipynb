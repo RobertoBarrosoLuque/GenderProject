{
 "cells": [
  {
   "cell_type": "code",
   "execution_count": 267,
   "metadata": {},
   "outputs": [],
   "source": [
    "import os, requests, re\n",
    "import unicodecsv as csv\n",
    "from nltk import word_tokenize\n",
    "from nltk import sent_tokenize\n",
    "\n",
    "from bs4 import BeautifulSoup\n",
    "\n"
   ]
  },
  {
   "cell_type": "code",
   "execution_count": 268,
   "metadata": {},
   "outputs": [],
   "source": [
    "#! pip install stanza\n",
    "import stanza\n",
    "#stanza.download('en')"
   ]
  },
  {
   "cell_type": "code",
   "execution_count": 325,
   "metadata": {},
   "outputs": [
    {
     "name": "stderr",
     "output_type": "stream",
     "text": [
      "2021-05-22 19:21:39 WARNING: Can not find mwt: default from official model list. Ignoring it.\n",
      "2021-05-22 19:21:39 INFO: Loading these models for language: en (English):\n",
      "========================\n",
      "| Processor | Package  |\n",
      "------------------------\n",
      "| tokenize  | combined |\n",
      "| pos       | combined |\n",
      "| lemma     | combined |\n",
      "| depparse  | combined |\n",
      "========================\n",
      "\n",
      "2021-05-22 19:21:39 INFO: Use device: cpu\n",
      "2021-05-22 19:21:39 INFO: Loading: tokenize\n",
      "2021-05-22 19:21:40 INFO: Loading: pos\n",
      "2021-05-22 19:21:40 INFO: Loading: lemma\n",
      "2021-05-22 19:21:40 INFO: Loading: depparse\n",
      "2021-05-22 19:21:41 INFO: Done loading processors!\n"
     ]
    }
   ],
   "source": [
    "dep_parser = stanza.Pipeline(lang='en', processors='tokenize,mwt,pos,lemma,depparse')"
   ]
  },
  {
   "cell_type": "code",
   "execution_count": 330,
   "metadata": {},
   "outputs": [
    {
     "name": "stdout",
     "output_type": "stream",
     "text": [
      "id: 1\tword: During\thead id: 4\thead: period\tdeprel: case\n",
      "id: 2\tword: that\thead id: 4\thead: period\tdeprel: det\n",
      "id: 3\tword: time\thead id: 4\thead: period\tdeprel: compound\n",
      "id: 4\tword: period\thead id: 6\thead: constructed\tdeprel: nsubj:pass\n",
      "id: 5\tword: were\thead id: 6\thead: constructed\tdeprel: aux:pass\n",
      "id: 6\tword: constructed\thead id: 0\thead: root\tdeprel: root\n",
      "id: 7\tword: numerous\thead id: 8\thead: monuments\tdeprel: amod\n",
      "id: 8\tword: monuments\thead id: 6\thead: constructed\tdeprel: obj\n",
      "id: 9\tword: and\thead id: 10\thead: temples\tdeprel: cc\n",
      "id: 10\tword: temples\thead id: 8\thead: monuments\tdeprel: conj\n",
      "id: 11\tword: .\thead id: 6\thead: constructed\tdeprel: punct\n"
     ]
    }
   ],
   "source": [
    "doc = dep_parser(\"During that time period were constructed numerous monuments and temples.\")\n",
    "print(*[f'id: {word.id}\\tword: {word.text}\\thead id: {word.head}\\thead: {sent.words[word.head-1].text if word.head > 0 else \"root\"}\\tdeprel: {word.deprel}' for sent in doc.sentences for word in sent.words], sep='\\n')"
   ]
  },
  {
   "cell_type": "code",
   "execution_count": null,
   "metadata": {},
   "outputs": [],
   "source": []
  },
  {
   "cell_type": "code",
   "execution_count": 271,
   "metadata": {},
   "outputs": [
    {
     "name": "stderr",
     "output_type": "stream",
     "text": [
      "2021-05-21 11:57:51 INFO: Loading these models for language: es (Spanish):\n",
      "=======================\n",
      "| Processor | Package |\n",
      "-----------------------\n",
      "| tokenize  | ancora  |\n",
      "| mwt       | ancora  |\n",
      "| pos       | ancora  |\n",
      "| lemma     | ancora  |\n",
      "| depparse  | ancora  |\n",
      "=======================\n",
      "\n",
      "2021-05-21 11:57:51 INFO: Use device: cpu\n",
      "2021-05-21 11:57:51 INFO: Loading: tokenize\n",
      "2021-05-21 11:57:51 INFO: Loading: mwt\n",
      "2021-05-21 11:57:52 INFO: Loading: pos\n",
      "2021-05-21 11:57:52 INFO: Loading: lemma\n",
      "2021-05-21 11:57:52 INFO: Loading: depparse\n",
      "2021-05-21 11:57:53 INFO: Done loading processors!\n"
     ]
    }
   ],
   "source": [
    "#stanza.download('es')\n",
    "nlp = stanza.Pipeline(lang='es', processors='tokenize,mwt,pos,lemma,depparse')"
   ]
  },
  {
   "cell_type": "code",
   "execution_count": 274,
   "metadata": {},
   "outputs": [
    {
     "name": "stdout",
     "output_type": "stream",
     "text": [
      "id: 1\tword: Los\thead id: 2\thead: niños\tdeprel: det\n",
      "id: 2\tword: niños\thead id: 3\thead: rompieron\tdeprel: nsubj\n",
      "id: 3\tword: rompieron\thead id: 0\thead: root\tdeprel: root\n",
      "id: 4\tword: el\thead id: 5\thead: vidrio\tdeprel: det\n",
      "id: 5\tword: vidrio\thead id: 3\thead: rompieron\tdeprel: obj\n",
      "id: 6\tword: .\thead id: 3\thead: rompieron\tdeprel: punct\n"
     ]
    }
   ],
   "source": [
    "doc = nlp('Los niños rompieron el vidrio.')\n",
    "print(*[f'id: {word.id}\\tword: {word.text}\\thead id: {word.head}\\thead: {sent.words[word.head-1].text if word.head > 0 else \"root\"}\\tdeprel: {word.deprel}' for sent in doc.sentences for word in sent.words], sep='\\n')"
   ]
  },
  {
   "cell_type": "code",
   "execution_count": 240,
   "metadata": {},
   "outputs": [
    {
     "name": "stdout",
     "output_type": "stream",
     "text": [
      "id: 1\tword: El\thead id: 2\thead: libro\tdeprel: det\n",
      "id: 2\tword: libro\thead id: 4\thead: escrito\tdeprel: nsubj\n",
      "id: 3\tword: fue\thead id: 4\thead: escrito\tdeprel: aux\n",
      "id: 4\tword: escrito\thead id: 0\thead: root\tdeprel: root\n",
      "id: 5\tword: por\thead id: 6\thead: Emilio\tdeprel: case\n",
      "id: 6\tword: Emilio\thead id: 4\thead: escrito\tdeprel: obj\n",
      "id: 7\tword: .\thead id: 4\thead: escrito\tdeprel: punct\n"
     ]
    }
   ],
   "source": [
    "doc = nlp(\"El libro fue escrito por Emilio.\")\n",
    "print(*[f'id: {word.id}\\tword: {word.text}\\thead id: {word.head}\\thead: {sent.words[word.head-1].text if word.head > 0 else \"root\"}\\tdeprel: {word.deprel}' for sent in doc.sentences for word in sent.words], sep='\\n')"
   ]
  },
  {
   "cell_type": "code",
   "execution_count": 40,
   "metadata": {},
   "outputs": [
    {
     "name": "stdout",
     "output_type": "stream",
     "text": [
      "id: 1\tword: La\thead id: 2\thead: pizza\tdeprel: det\n",
      "id: 2\tword: pizza\thead id: 4\thead: cocida\tdeprel: nsubj\n",
      "id: 3\tword: fue\thead id: 4\thead: cocida\tdeprel: aux\n",
      "id: 4\tword: cocida\thead id: 0\thead: root\tdeprel: root\n",
      "id: 5\tword: por\thead id: 7\thead: madre\tdeprel: case\n",
      "id: 6\tword: mi\thead id: 7\thead: madre\tdeprel: det\n",
      "id: 7\tword: madre\thead id: 4\thead: cocida\tdeprel: obj\n",
      "id: 8\tword: .\thead id: 4\thead: cocida\tdeprel: punct\n"
     ]
    }
   ],
   "source": [
    "doc = nlp(\"La pizza fue cocida por mi madre.\")\n",
    "print(*[f'id: {word.id}\\tword: {word.text}\\thead id: {word.head}\\thead: {sent.words[word.head-1].text if word.head > 0 else \"root\"}\\tdeprel: {word.deprel}' for sent in doc.sentences for word in sent.words], sep='\\n')"
   ]
  },
  {
   "cell_type": "code",
   "execution_count": 283,
   "metadata": {},
   "outputs": [
    {
     "name": "stdout",
     "output_type": "stream",
     "text": [
      "id: 1\tword: En\thead id: 3\thead: épocas\tdeprel: case\n",
      "id: 2\tword: otras\thead id: 3\thead: épocas\tdeprel: det\n",
      "id: 3\tword: épocas\thead id: 8\thead: invitadas\tdeprel: obl\n",
      "id: 4\tword: ,\thead id: 3\thead: épocas\tdeprel: punct\n",
      "id: 5\tword: las\thead id: 6\thead: mujeres\tdeprel: det\n",
      "id: 6\tword: mujeres\thead id: 8\thead: invitadas\tdeprel: nsubj\n",
      "id: 7\tword: eran\thead id: 8\thead: invitadas\tdeprel: aux\n",
      "id: 8\tword: invitadas\thead id: 0\thead: root\tdeprel: root\n",
      "id: 9\tword: a\thead id: 10\thead: bailar\tdeprel: mark\n",
      "id: 10\tword: bailar\thead id: 8\thead: invitadas\tdeprel: xcomp\n",
      "id: 11\tword: por\thead id: 13\thead: hombres\tdeprel: case\n",
      "id: 12\tword: los\thead id: 13\thead: hombres\tdeprel: det\n",
      "id: 13\tword: hombres\thead id: 10\thead: bailar\tdeprel: obj\n",
      "id: 14\tword: .\thead id: 8\thead: invitadas\tdeprel: punct\n"
     ]
    }
   ],
   "source": [
    "doc = nlp(\"En otras épocas, las mujeres eran invitadas a bailar por los hombres.\")\n",
    "print(*[f'id: {word.id}\\tword: {word.text}\\thead id: {word.head}\\thead: {sent.words[word.head-1].text if word.head > 0 else \"root\"}\\tdeprel: {word.deprel}' for sent in doc.sentences for word in sent.words], sep='\\n')"
   ]
  },
  {
   "cell_type": "code",
   "execution_count": 23,
   "metadata": {},
   "outputs": [],
   "source": [
    "#! python -m spacy download en_core_web_sm\n",
    "#! python -m spacy download es_core_news_sm"
   ]
  },
  {
   "cell_type": "code",
   "execution_count": 181,
   "metadata": {},
   "outputs": [],
   "source": [
    "#! pip install spacy\n",
    "import pandas as pd\n",
    "\n",
    "test_df = pd.read_csv(\"../data/Pakistan/pak_extracted_combined_2020.csv\")\n",
    "\n",
    "test_df['combined_text'] = test_df['title'] + \" \" + test_df['text']\n",
    "\n",
    "import spacy\n",
    "\n",
    "nlp = spacy.load(\"en_core_web_sm\")\n"
   ]
  },
  {
   "cell_type": "code",
   "execution_count": 186,
   "metadata": {},
   "outputs": [],
   "source": [
    "#first_dialogue = test_df.head(1).loc[0, \"combined_text\"]\n",
    "test_df0 = test_df\n",
    "test_df0[\"combined_text_token\"] = test_df0[\"combined_text\"].apply(lambda x: [sent.text for sent in nlp(x).sents])\n"
   ]
  },
  {
   "cell_type": "code",
   "execution_count": null,
   "metadata": {},
   "outputs": [],
   "source": []
  },
  {
   "cell_type": "code",
   "execution_count": 430,
   "metadata": {},
   "outputs": [],
   "source": [
    "def check_if_passive(sentence, dep_parser):\n",
    "\n",
    "    doc = dep_parser(sentence)\n",
    "    \n",
    "    for sent in doc.sentences:\n",
    "        num_passive = 0\n",
    "        sent_list = []\n",
    "        for word in sent.words:\n",
    "            deprel = word.deprel\n",
    "            print(deprel)\n",
    "            if \"pass\" in deprel or \":pv\" in deprel:\n",
    "                num_passive += 1\n",
    "                sent_list.append(sent)\n",
    "            else:\n",
    "                pass\n",
    "\n",
    "    return [num_passive, sent]"
   ]
  },
  {
   "cell_type": "code",
   "execution_count": null,
   "metadata": {},
   "outputs": [],
   "source": []
  },
  {
   "cell_type": "code",
   "execution_count": 433,
   "metadata": {},
   "outputs": [
    {
     "name": "stderr",
     "output_type": "stream",
     "text": [
      "2021-05-23 11:00:42 WARNING: Can not find mwt: default from official model list. Ignoring it.\n",
      "2021-05-23 11:00:42 INFO: Loading these models for language: en (English):\n",
      "========================\n",
      "| Processor | Package  |\n",
      "------------------------\n",
      "| tokenize  | combined |\n",
      "| pos       | combined |\n",
      "| lemma     | combined |\n",
      "| depparse  | combined |\n",
      "========================\n",
      "\n",
      "2021-05-23 11:00:42 INFO: Use device: cpu\n",
      "2021-05-23 11:00:42 INFO: Loading: tokenize\n",
      "2021-05-23 11:00:42 INFO: Loading: pos\n",
      "2021-05-23 11:00:43 INFO: Loading: lemma\n",
      "2021-05-23 11:00:43 INFO: Loading: depparse\n"
     ]
    },
    {
     "ename": "KeyboardInterrupt",
     "evalue": "",
     "output_type": "error",
     "traceback": [
      "\u001b[0;31m---------------------------------------------------------------------------\u001b[0m",
      "\u001b[0;31mKeyboardInterrupt\u001b[0m                         Traceback (most recent call last)",
      "\u001b[0;32m<ipython-input-433-1784f981aac2>\u001b[0m in \u001b[0;36m<module>\u001b[0;34m\u001b[0m\n\u001b[0;32m----> 1\u001b[0;31m \u001b[0mdep_parser\u001b[0m \u001b[0;34m=\u001b[0m \u001b[0mstanza\u001b[0m\u001b[0;34m.\u001b[0m\u001b[0mPipeline\u001b[0m\u001b[0;34m(\u001b[0m\u001b[0mlang\u001b[0m\u001b[0;34m=\u001b[0m\u001b[0;34m'en'\u001b[0m\u001b[0;34m,\u001b[0m \u001b[0mprocessors\u001b[0m\u001b[0;34m=\u001b[0m\u001b[0;34m'tokenize,mwt,pos,lemma,depparse'\u001b[0m\u001b[0;34m)\u001b[0m\u001b[0;34m\u001b[0m\u001b[0;34m\u001b[0m\u001b[0m\n\u001b[0m\u001b[1;32m      2\u001b[0m \u001b[0mtest_df0\u001b[0m\u001b[0;34m[\u001b[0m\u001b[0;34m\"pass\"\u001b[0m\u001b[0;34m]\u001b[0m \u001b[0;34m=\u001b[0m \u001b[0mtest_df0\u001b[0m\u001b[0;34m[\u001b[0m\u001b[0;34m'combined_text'\u001b[0m\u001b[0;34m]\u001b[0m\u001b[0;34m.\u001b[0m\u001b[0mapply\u001b[0m\u001b[0;34m(\u001b[0m\u001b[0mcheck_if_passive\u001b[0m\u001b[0;34m,\u001b[0m \u001b[0mdep_parser\u001b[0m\u001b[0;34m=\u001b[0m\u001b[0mdep_parser\u001b[0m\u001b[0;34m)\u001b[0m\u001b[0;34m\u001b[0m\u001b[0;34m\u001b[0m\u001b[0m\n",
      "\u001b[0;32m~/opt/anaconda3/lib/python3.7/site-packages/stanza/pipeline/core.py\u001b[0m in \u001b[0;36m__init__\u001b[0;34m(self, lang, dir, package, processors, logging_level, verbose, use_gpu, **kwargs)\u001b[0m\n\u001b[1;32m    128\u001b[0m                 self.processors[processor_name] = NAME_TO_PROCESSOR_CLASS[processor_name](config=curr_processor_config,\n\u001b[1;32m    129\u001b[0m                                                                                           \u001b[0mpipeline\u001b[0m\u001b[0;34m=\u001b[0m\u001b[0mself\u001b[0m\u001b[0;34m,\u001b[0m\u001b[0;34m\u001b[0m\u001b[0;34m\u001b[0m\u001b[0m\n\u001b[0;32m--> 130\u001b[0;31m                                                                                           use_gpu=self.use_gpu)\n\u001b[0m\u001b[1;32m    131\u001b[0m             \u001b[0;32mexcept\u001b[0m \u001b[0mProcessorRequirementsException\u001b[0m \u001b[0;32mas\u001b[0m \u001b[0me\u001b[0m\u001b[0;34m:\u001b[0m\u001b[0;34m\u001b[0m\u001b[0;34m\u001b[0m\u001b[0m\n\u001b[1;32m    132\u001b[0m                 \u001b[0;31m# if there was a requirements issue, add it to list which will be printed at end\u001b[0m\u001b[0;34m\u001b[0m\u001b[0;34m\u001b[0m\u001b[0;34m\u001b[0m\u001b[0m\n",
      "\u001b[0;32m~/opt/anaconda3/lib/python3.7/site-packages/stanza/pipeline/depparse_processor.py\u001b[0m in \u001b[0;36m__init__\u001b[0;34m(self, config, pipeline, use_gpu)\u001b[0m\n\u001b[1;32m     23\u001b[0m     \u001b[0;32mdef\u001b[0m \u001b[0m__init__\u001b[0m\u001b[0;34m(\u001b[0m\u001b[0mself\u001b[0m\u001b[0;34m,\u001b[0m \u001b[0mconfig\u001b[0m\u001b[0;34m,\u001b[0m \u001b[0mpipeline\u001b[0m\u001b[0;34m,\u001b[0m \u001b[0muse_gpu\u001b[0m\u001b[0;34m)\u001b[0m\u001b[0;34m:\u001b[0m\u001b[0;34m\u001b[0m\u001b[0;34m\u001b[0m\u001b[0m\n\u001b[1;32m     24\u001b[0m         \u001b[0mself\u001b[0m\u001b[0;34m.\u001b[0m\u001b[0m_pretagged\u001b[0m \u001b[0;34m=\u001b[0m \u001b[0;32mNone\u001b[0m\u001b[0;34m\u001b[0m\u001b[0;34m\u001b[0m\u001b[0m\n\u001b[0;32m---> 25\u001b[0;31m         \u001b[0msuper\u001b[0m\u001b[0;34m(\u001b[0m\u001b[0;34m)\u001b[0m\u001b[0;34m.\u001b[0m\u001b[0m__init__\u001b[0m\u001b[0;34m(\u001b[0m\u001b[0mconfig\u001b[0m\u001b[0;34m,\u001b[0m \u001b[0mpipeline\u001b[0m\u001b[0;34m,\u001b[0m \u001b[0muse_gpu\u001b[0m\u001b[0;34m)\u001b[0m\u001b[0;34m\u001b[0m\u001b[0;34m\u001b[0m\u001b[0m\n\u001b[0m\u001b[1;32m     26\u001b[0m \u001b[0;34m\u001b[0m\u001b[0m\n\u001b[1;32m     27\u001b[0m     \u001b[0;32mdef\u001b[0m \u001b[0m_set_up_requires\u001b[0m\u001b[0;34m(\u001b[0m\u001b[0mself\u001b[0m\u001b[0;34m)\u001b[0m\u001b[0;34m:\u001b[0m\u001b[0;34m\u001b[0m\u001b[0;34m\u001b[0m\u001b[0m\n",
      "\u001b[0;32m~/opt/anaconda3/lib/python3.7/site-packages/stanza/pipeline/processor.py\u001b[0m in \u001b[0;36m__init__\u001b[0;34m(self, config, pipeline, use_gpu)\u001b[0m\n\u001b[1;32m    153\u001b[0m         \u001b[0mself\u001b[0m\u001b[0;34m.\u001b[0m\u001b[0m_vocab\u001b[0m \u001b[0;34m=\u001b[0m \u001b[0;32mNone\u001b[0m\u001b[0;34m\u001b[0m\u001b[0;34m\u001b[0m\u001b[0m\n\u001b[1;32m    154\u001b[0m         \u001b[0;32mif\u001b[0m \u001b[0;32mnot\u001b[0m \u001b[0mhasattr\u001b[0m\u001b[0;34m(\u001b[0m\u001b[0mself\u001b[0m\u001b[0;34m,\u001b[0m \u001b[0;34m'_variant'\u001b[0m\u001b[0;34m)\u001b[0m\u001b[0;34m:\u001b[0m\u001b[0;34m\u001b[0m\u001b[0;34m\u001b[0m\u001b[0m\n\u001b[0;32m--> 155\u001b[0;31m             \u001b[0mself\u001b[0m\u001b[0;34m.\u001b[0m\u001b[0m_set_up_model\u001b[0m\u001b[0;34m(\u001b[0m\u001b[0mconfig\u001b[0m\u001b[0;34m,\u001b[0m \u001b[0muse_gpu\u001b[0m\u001b[0;34m)\u001b[0m\u001b[0;34m\u001b[0m\u001b[0;34m\u001b[0m\u001b[0m\n\u001b[0m\u001b[1;32m    156\u001b[0m \u001b[0;34m\u001b[0m\u001b[0m\n\u001b[1;32m    157\u001b[0m         \u001b[0;31m# build the final config for the processor\u001b[0m\u001b[0;34m\u001b[0m\u001b[0;34m\u001b[0m\u001b[0;34m\u001b[0m\u001b[0m\n",
      "\u001b[0;32m~/opt/anaconda3/lib/python3.7/site-packages/stanza/pipeline/depparse_processor.py\u001b[0m in \u001b[0;36m_set_up_model\u001b[0;34m(self, config, use_gpu)\u001b[0m\n\u001b[1;32m     34\u001b[0m     \u001b[0;32mdef\u001b[0m \u001b[0m_set_up_model\u001b[0m\u001b[0;34m(\u001b[0m\u001b[0mself\u001b[0m\u001b[0;34m,\u001b[0m \u001b[0mconfig\u001b[0m\u001b[0;34m,\u001b[0m \u001b[0muse_gpu\u001b[0m\u001b[0;34m)\u001b[0m\u001b[0;34m:\u001b[0m\u001b[0;34m\u001b[0m\u001b[0;34m\u001b[0m\u001b[0m\n\u001b[1;32m     35\u001b[0m         \u001b[0mself\u001b[0m\u001b[0;34m.\u001b[0m\u001b[0m_pretrain\u001b[0m \u001b[0;34m=\u001b[0m \u001b[0mPretrain\u001b[0m\u001b[0;34m(\u001b[0m\u001b[0mconfig\u001b[0m\u001b[0;34m[\u001b[0m\u001b[0;34m'pretrain_path'\u001b[0m\u001b[0;34m]\u001b[0m\u001b[0;34m)\u001b[0m \u001b[0;32mif\u001b[0m \u001b[0;34m'pretrain_path'\u001b[0m \u001b[0;32min\u001b[0m \u001b[0mconfig\u001b[0m \u001b[0;32melse\u001b[0m \u001b[0;32mNone\u001b[0m\u001b[0;34m\u001b[0m\u001b[0;34m\u001b[0m\u001b[0m\n\u001b[0;32m---> 36\u001b[0;31m         \u001b[0mself\u001b[0m\u001b[0;34m.\u001b[0m\u001b[0m_trainer\u001b[0m \u001b[0;34m=\u001b[0m \u001b[0mTrainer\u001b[0m\u001b[0;34m(\u001b[0m\u001b[0mpretrain\u001b[0m\u001b[0;34m=\u001b[0m\u001b[0mself\u001b[0m\u001b[0;34m.\u001b[0m\u001b[0mpretrain\u001b[0m\u001b[0;34m,\u001b[0m \u001b[0mmodel_file\u001b[0m\u001b[0;34m=\u001b[0m\u001b[0mconfig\u001b[0m\u001b[0;34m[\u001b[0m\u001b[0;34m'model_path'\u001b[0m\u001b[0;34m]\u001b[0m\u001b[0;34m,\u001b[0m \u001b[0muse_cuda\u001b[0m\u001b[0;34m=\u001b[0m\u001b[0muse_gpu\u001b[0m\u001b[0;34m)\u001b[0m\u001b[0;34m\u001b[0m\u001b[0;34m\u001b[0m\u001b[0m\n\u001b[0m\u001b[1;32m     37\u001b[0m \u001b[0;34m\u001b[0m\u001b[0m\n\u001b[1;32m     38\u001b[0m     \u001b[0;32mdef\u001b[0m \u001b[0mprocess\u001b[0m\u001b[0;34m(\u001b[0m\u001b[0mself\u001b[0m\u001b[0;34m,\u001b[0m \u001b[0mdocument\u001b[0m\u001b[0;34m)\u001b[0m\u001b[0;34m:\u001b[0m\u001b[0;34m\u001b[0m\u001b[0;34m\u001b[0m\u001b[0m\n",
      "\u001b[0;32m~/opt/anaconda3/lib/python3.7/site-packages/stanza/models/depparse/trainer.py\u001b[0m in \u001b[0;36m__init__\u001b[0;34m(self, args, vocab, pretrain, model_file, use_cuda)\u001b[0m\n\u001b[1;32m     34\u001b[0m         \u001b[0;32mif\u001b[0m \u001b[0mmodel_file\u001b[0m \u001b[0;32mis\u001b[0m \u001b[0;32mnot\u001b[0m \u001b[0;32mNone\u001b[0m\u001b[0;34m:\u001b[0m\u001b[0;34m\u001b[0m\u001b[0;34m\u001b[0m\u001b[0m\n\u001b[1;32m     35\u001b[0m             \u001b[0;31m# load everything from file\u001b[0m\u001b[0;34m\u001b[0m\u001b[0;34m\u001b[0m\u001b[0;34m\u001b[0m\u001b[0m\n\u001b[0;32m---> 36\u001b[0;31m             \u001b[0mself\u001b[0m\u001b[0;34m.\u001b[0m\u001b[0mload\u001b[0m\u001b[0;34m(\u001b[0m\u001b[0mmodel_file\u001b[0m\u001b[0;34m,\u001b[0m \u001b[0mpretrain\u001b[0m\u001b[0;34m)\u001b[0m\u001b[0;34m\u001b[0m\u001b[0;34m\u001b[0m\u001b[0m\n\u001b[0m\u001b[1;32m     37\u001b[0m         \u001b[0;32melse\u001b[0m\u001b[0;34m:\u001b[0m\u001b[0;34m\u001b[0m\u001b[0;34m\u001b[0m\u001b[0m\n\u001b[1;32m     38\u001b[0m             \u001b[0;31m# build model from scratch\u001b[0m\u001b[0;34m\u001b[0m\u001b[0;34m\u001b[0m\u001b[0;34m\u001b[0m\u001b[0m\n",
      "\u001b[0;32m~/opt/anaconda3/lib/python3.7/site-packages/stanza/models/depparse/trainer.py\u001b[0m in \u001b[0;36mload\u001b[0;34m(self, filename, pretrain)\u001b[0m\n\u001b[1;32m    115\u001b[0m         \u001b[0;32mif\u001b[0m \u001b[0mself\u001b[0m\u001b[0;34m.\u001b[0m\u001b[0margs\u001b[0m\u001b[0;34m[\u001b[0m\u001b[0;34m'pretrain'\u001b[0m\u001b[0;34m]\u001b[0m \u001b[0;32mand\u001b[0m \u001b[0mpretrain\u001b[0m \u001b[0;32mis\u001b[0m \u001b[0;32mnot\u001b[0m \u001b[0;32mNone\u001b[0m\u001b[0;34m:\u001b[0m \u001b[0;31m# we use pretrain only if args['pretrain'] == True and pretrain is not None\u001b[0m\u001b[0;34m\u001b[0m\u001b[0;34m\u001b[0m\u001b[0m\n\u001b[1;32m    116\u001b[0m             \u001b[0memb_matrix\u001b[0m \u001b[0;34m=\u001b[0m \u001b[0mpretrain\u001b[0m\u001b[0;34m.\u001b[0m\u001b[0memb\u001b[0m\u001b[0;34m\u001b[0m\u001b[0;34m\u001b[0m\u001b[0m\n\u001b[0;32m--> 117\u001b[0;31m         \u001b[0mself\u001b[0m\u001b[0;34m.\u001b[0m\u001b[0mmodel\u001b[0m \u001b[0;34m=\u001b[0m \u001b[0mParser\u001b[0m\u001b[0;34m(\u001b[0m\u001b[0mself\u001b[0m\u001b[0;34m.\u001b[0m\u001b[0margs\u001b[0m\u001b[0;34m,\u001b[0m \u001b[0mself\u001b[0m\u001b[0;34m.\u001b[0m\u001b[0mvocab\u001b[0m\u001b[0;34m,\u001b[0m \u001b[0memb_matrix\u001b[0m\u001b[0;34m=\u001b[0m\u001b[0memb_matrix\u001b[0m\u001b[0;34m)\u001b[0m\u001b[0;34m\u001b[0m\u001b[0;34m\u001b[0m\u001b[0m\n\u001b[0m\u001b[1;32m    118\u001b[0m         \u001b[0mself\u001b[0m\u001b[0;34m.\u001b[0m\u001b[0mmodel\u001b[0m\u001b[0;34m.\u001b[0m\u001b[0mload_state_dict\u001b[0m\u001b[0;34m(\u001b[0m\u001b[0mcheckpoint\u001b[0m\u001b[0;34m[\u001b[0m\u001b[0;34m'model'\u001b[0m\u001b[0;34m]\u001b[0m\u001b[0;34m,\u001b[0m \u001b[0mstrict\u001b[0m\u001b[0;34m=\u001b[0m\u001b[0;32mFalse\u001b[0m\u001b[0;34m)\u001b[0m\u001b[0;34m\u001b[0m\u001b[0;34m\u001b[0m\u001b[0m\n\u001b[1;32m    119\u001b[0m \u001b[0;34m\u001b[0m\u001b[0m\n",
      "\u001b[0;32m~/opt/anaconda3/lib/python3.7/site-packages/stanza/models/depparse/model.py\u001b[0m in \u001b[0;36m__init__\u001b[0;34m(self, args, vocab, emb_matrix, share_hid)\u001b[0m\n\u001b[1;32m     68\u001b[0m \u001b[0;34m\u001b[0m\u001b[0m\n\u001b[1;32m     69\u001b[0m         \u001b[0;31m# classifiers\u001b[0m\u001b[0;34m\u001b[0m\u001b[0;34m\u001b[0m\u001b[0;34m\u001b[0m\u001b[0m\n\u001b[0;32m---> 70\u001b[0;31m         \u001b[0mself\u001b[0m\u001b[0;34m.\u001b[0m\u001b[0munlabeled\u001b[0m \u001b[0;34m=\u001b[0m \u001b[0mDeepBiaffineScorer\u001b[0m\u001b[0;34m(\u001b[0m\u001b[0;36m2\u001b[0m \u001b[0;34m*\u001b[0m \u001b[0mself\u001b[0m\u001b[0;34m.\u001b[0m\u001b[0margs\u001b[0m\u001b[0;34m[\u001b[0m\u001b[0;34m'hidden_dim'\u001b[0m\u001b[0;34m]\u001b[0m\u001b[0;34m,\u001b[0m \u001b[0;36m2\u001b[0m \u001b[0;34m*\u001b[0m \u001b[0mself\u001b[0m\u001b[0;34m.\u001b[0m\u001b[0margs\u001b[0m\u001b[0;34m[\u001b[0m\u001b[0;34m'hidden_dim'\u001b[0m\u001b[0;34m]\u001b[0m\u001b[0;34m,\u001b[0m \u001b[0mself\u001b[0m\u001b[0;34m.\u001b[0m\u001b[0margs\u001b[0m\u001b[0;34m[\u001b[0m\u001b[0;34m'deep_biaff_hidden_dim'\u001b[0m\u001b[0;34m]\u001b[0m\u001b[0;34m,\u001b[0m \u001b[0;36m1\u001b[0m\u001b[0;34m,\u001b[0m \u001b[0mpairwise\u001b[0m\u001b[0;34m=\u001b[0m\u001b[0;32mTrue\u001b[0m\u001b[0;34m,\u001b[0m \u001b[0mdropout\u001b[0m\u001b[0;34m=\u001b[0m\u001b[0margs\u001b[0m\u001b[0;34m[\u001b[0m\u001b[0;34m'dropout'\u001b[0m\u001b[0;34m]\u001b[0m\u001b[0;34m)\u001b[0m\u001b[0;34m\u001b[0m\u001b[0;34m\u001b[0m\u001b[0m\n\u001b[0m\u001b[1;32m     71\u001b[0m         \u001b[0mself\u001b[0m\u001b[0;34m.\u001b[0m\u001b[0mdeprel\u001b[0m \u001b[0;34m=\u001b[0m \u001b[0mDeepBiaffineScorer\u001b[0m\u001b[0;34m(\u001b[0m\u001b[0;36m2\u001b[0m \u001b[0;34m*\u001b[0m \u001b[0mself\u001b[0m\u001b[0;34m.\u001b[0m\u001b[0margs\u001b[0m\u001b[0;34m[\u001b[0m\u001b[0;34m'hidden_dim'\u001b[0m\u001b[0;34m]\u001b[0m\u001b[0;34m,\u001b[0m \u001b[0;36m2\u001b[0m \u001b[0;34m*\u001b[0m \u001b[0mself\u001b[0m\u001b[0;34m.\u001b[0m\u001b[0margs\u001b[0m\u001b[0;34m[\u001b[0m\u001b[0;34m'hidden_dim'\u001b[0m\u001b[0;34m]\u001b[0m\u001b[0;34m,\u001b[0m \u001b[0mself\u001b[0m\u001b[0;34m.\u001b[0m\u001b[0margs\u001b[0m\u001b[0;34m[\u001b[0m\u001b[0;34m'deep_biaff_hidden_dim'\u001b[0m\u001b[0;34m]\u001b[0m\u001b[0;34m,\u001b[0m \u001b[0mlen\u001b[0m\u001b[0;34m(\u001b[0m\u001b[0mvocab\u001b[0m\u001b[0;34m[\u001b[0m\u001b[0;34m'deprel'\u001b[0m\u001b[0;34m]\u001b[0m\u001b[0;34m)\u001b[0m\u001b[0;34m,\u001b[0m \u001b[0mpairwise\u001b[0m\u001b[0;34m=\u001b[0m\u001b[0;32mTrue\u001b[0m\u001b[0;34m,\u001b[0m \u001b[0mdropout\u001b[0m\u001b[0;34m=\u001b[0m\u001b[0margs\u001b[0m\u001b[0;34m[\u001b[0m\u001b[0;34m'dropout'\u001b[0m\u001b[0;34m]\u001b[0m\u001b[0;34m)\u001b[0m\u001b[0;34m\u001b[0m\u001b[0;34m\u001b[0m\u001b[0m\n\u001b[1;32m     72\u001b[0m         \u001b[0;32mif\u001b[0m \u001b[0margs\u001b[0m\u001b[0;34m[\u001b[0m\u001b[0;34m'linearization'\u001b[0m\u001b[0;34m]\u001b[0m\u001b[0;34m:\u001b[0m\u001b[0;34m\u001b[0m\u001b[0;34m\u001b[0m\u001b[0m\n",
      "\u001b[0;32m~/opt/anaconda3/lib/python3.7/site-packages/stanza/models/common/biaffine.py\u001b[0m in \u001b[0;36m__init__\u001b[0;34m(self, input1_size, input2_size, hidden_size, output_size, hidden_func, dropout, pairwise)\u001b[0m\n\u001b[1;32m     62\u001b[0m     \u001b[0;32mdef\u001b[0m \u001b[0m__init__\u001b[0m\u001b[0;34m(\u001b[0m\u001b[0mself\u001b[0m\u001b[0;34m,\u001b[0m \u001b[0minput1_size\u001b[0m\u001b[0;34m,\u001b[0m \u001b[0minput2_size\u001b[0m\u001b[0;34m,\u001b[0m \u001b[0mhidden_size\u001b[0m\u001b[0;34m,\u001b[0m \u001b[0moutput_size\u001b[0m\u001b[0;34m,\u001b[0m \u001b[0mhidden_func\u001b[0m\u001b[0;34m=\u001b[0m\u001b[0mF\u001b[0m\u001b[0;34m.\u001b[0m\u001b[0mrelu\u001b[0m\u001b[0;34m,\u001b[0m \u001b[0mdropout\u001b[0m\u001b[0;34m=\u001b[0m\u001b[0;36m0\u001b[0m\u001b[0;34m,\u001b[0m \u001b[0mpairwise\u001b[0m\u001b[0;34m=\u001b[0m\u001b[0;32mTrue\u001b[0m\u001b[0;34m)\u001b[0m\u001b[0;34m:\u001b[0m\u001b[0;34m\u001b[0m\u001b[0;34m\u001b[0m\u001b[0m\n\u001b[1;32m     63\u001b[0m         \u001b[0msuper\u001b[0m\u001b[0;34m(\u001b[0m\u001b[0;34m)\u001b[0m\u001b[0;34m.\u001b[0m\u001b[0m__init__\u001b[0m\u001b[0;34m(\u001b[0m\u001b[0;34m)\u001b[0m\u001b[0;34m\u001b[0m\u001b[0;34m\u001b[0m\u001b[0m\n\u001b[0;32m---> 64\u001b[0;31m         \u001b[0mself\u001b[0m\u001b[0;34m.\u001b[0m\u001b[0mW1\u001b[0m \u001b[0;34m=\u001b[0m \u001b[0mnn\u001b[0m\u001b[0;34m.\u001b[0m\u001b[0mLinear\u001b[0m\u001b[0;34m(\u001b[0m\u001b[0minput1_size\u001b[0m\u001b[0;34m,\u001b[0m \u001b[0mhidden_size\u001b[0m\u001b[0;34m)\u001b[0m\u001b[0;34m\u001b[0m\u001b[0;34m\u001b[0m\u001b[0m\n\u001b[0m\u001b[1;32m     65\u001b[0m         \u001b[0mself\u001b[0m\u001b[0;34m.\u001b[0m\u001b[0mW2\u001b[0m \u001b[0;34m=\u001b[0m \u001b[0mnn\u001b[0m\u001b[0;34m.\u001b[0m\u001b[0mLinear\u001b[0m\u001b[0;34m(\u001b[0m\u001b[0minput2_size\u001b[0m\u001b[0;34m,\u001b[0m \u001b[0mhidden_size\u001b[0m\u001b[0;34m)\u001b[0m\u001b[0;34m\u001b[0m\u001b[0;34m\u001b[0m\u001b[0m\n\u001b[1;32m     66\u001b[0m         \u001b[0mself\u001b[0m\u001b[0;34m.\u001b[0m\u001b[0mhidden_func\u001b[0m \u001b[0;34m=\u001b[0m \u001b[0mhidden_func\u001b[0m\u001b[0;34m\u001b[0m\u001b[0;34m\u001b[0m\u001b[0m\n",
      "\u001b[0;32m~/opt/anaconda3/lib/python3.7/site-packages/torch/nn/modules/linear.py\u001b[0m in \u001b[0;36m__init__\u001b[0;34m(self, in_features, out_features, bias)\u001b[0m\n\u001b[1;32m     82\u001b[0m         \u001b[0;32melse\u001b[0m\u001b[0;34m:\u001b[0m\u001b[0;34m\u001b[0m\u001b[0;34m\u001b[0m\u001b[0m\n\u001b[1;32m     83\u001b[0m             \u001b[0mself\u001b[0m\u001b[0;34m.\u001b[0m\u001b[0mregister_parameter\u001b[0m\u001b[0;34m(\u001b[0m\u001b[0;34m'bias'\u001b[0m\u001b[0;34m,\u001b[0m \u001b[0;32mNone\u001b[0m\u001b[0;34m)\u001b[0m\u001b[0;34m\u001b[0m\u001b[0;34m\u001b[0m\u001b[0m\n\u001b[0;32m---> 84\u001b[0;31m         \u001b[0mself\u001b[0m\u001b[0;34m.\u001b[0m\u001b[0mreset_parameters\u001b[0m\u001b[0;34m(\u001b[0m\u001b[0;34m)\u001b[0m\u001b[0;34m\u001b[0m\u001b[0;34m\u001b[0m\u001b[0m\n\u001b[0m\u001b[1;32m     85\u001b[0m \u001b[0;34m\u001b[0m\u001b[0m\n\u001b[1;32m     86\u001b[0m     \u001b[0;32mdef\u001b[0m \u001b[0mreset_parameters\u001b[0m\u001b[0;34m(\u001b[0m\u001b[0mself\u001b[0m\u001b[0;34m)\u001b[0m \u001b[0;34m->\u001b[0m \u001b[0;32mNone\u001b[0m\u001b[0;34m:\u001b[0m\u001b[0;34m\u001b[0m\u001b[0;34m\u001b[0m\u001b[0m\n",
      "\u001b[0;32m~/opt/anaconda3/lib/python3.7/site-packages/torch/nn/modules/linear.py\u001b[0m in \u001b[0;36mreset_parameters\u001b[0;34m(self)\u001b[0m\n\u001b[1;32m     85\u001b[0m \u001b[0;34m\u001b[0m\u001b[0m\n\u001b[1;32m     86\u001b[0m     \u001b[0;32mdef\u001b[0m \u001b[0mreset_parameters\u001b[0m\u001b[0;34m(\u001b[0m\u001b[0mself\u001b[0m\u001b[0;34m)\u001b[0m \u001b[0;34m->\u001b[0m \u001b[0;32mNone\u001b[0m\u001b[0;34m:\u001b[0m\u001b[0;34m\u001b[0m\u001b[0;34m\u001b[0m\u001b[0m\n\u001b[0;32m---> 87\u001b[0;31m         \u001b[0minit\u001b[0m\u001b[0;34m.\u001b[0m\u001b[0mkaiming_uniform_\u001b[0m\u001b[0;34m(\u001b[0m\u001b[0mself\u001b[0m\u001b[0;34m.\u001b[0m\u001b[0mweight\u001b[0m\u001b[0;34m,\u001b[0m \u001b[0ma\u001b[0m\u001b[0;34m=\u001b[0m\u001b[0mmath\u001b[0m\u001b[0;34m.\u001b[0m\u001b[0msqrt\u001b[0m\u001b[0;34m(\u001b[0m\u001b[0;36m5\u001b[0m\u001b[0;34m)\u001b[0m\u001b[0;34m)\u001b[0m\u001b[0;34m\u001b[0m\u001b[0;34m\u001b[0m\u001b[0m\n\u001b[0m\u001b[1;32m     88\u001b[0m         \u001b[0;32mif\u001b[0m \u001b[0mself\u001b[0m\u001b[0;34m.\u001b[0m\u001b[0mbias\u001b[0m \u001b[0;32mis\u001b[0m \u001b[0;32mnot\u001b[0m \u001b[0;32mNone\u001b[0m\u001b[0;34m:\u001b[0m\u001b[0;34m\u001b[0m\u001b[0;34m\u001b[0m\u001b[0m\n\u001b[1;32m     89\u001b[0m             \u001b[0mfan_in\u001b[0m\u001b[0;34m,\u001b[0m \u001b[0m_\u001b[0m \u001b[0;34m=\u001b[0m \u001b[0minit\u001b[0m\u001b[0;34m.\u001b[0m\u001b[0m_calculate_fan_in_and_fan_out\u001b[0m\u001b[0;34m(\u001b[0m\u001b[0mself\u001b[0m\u001b[0;34m.\u001b[0m\u001b[0mweight\u001b[0m\u001b[0;34m)\u001b[0m\u001b[0;34m\u001b[0m\u001b[0;34m\u001b[0m\u001b[0m\n",
      "\u001b[0;32m~/opt/anaconda3/lib/python3.7/site-packages/torch/nn/init.py\u001b[0m in \u001b[0;36mkaiming_uniform_\u001b[0;34m(tensor, a, mode, nonlinearity)\u001b[0m\n\u001b[1;32m    377\u001b[0m     \u001b[0mbound\u001b[0m \u001b[0;34m=\u001b[0m \u001b[0mmath\u001b[0m\u001b[0;34m.\u001b[0m\u001b[0msqrt\u001b[0m\u001b[0;34m(\u001b[0m\u001b[0;36m3.0\u001b[0m\u001b[0;34m)\u001b[0m \u001b[0;34m*\u001b[0m \u001b[0mstd\u001b[0m  \u001b[0;31m# Calculate uniform bounds from standard deviation\u001b[0m\u001b[0;34m\u001b[0m\u001b[0;34m\u001b[0m\u001b[0m\n\u001b[1;32m    378\u001b[0m     \u001b[0;32mwith\u001b[0m \u001b[0mtorch\u001b[0m\u001b[0;34m.\u001b[0m\u001b[0mno_grad\u001b[0m\u001b[0;34m(\u001b[0m\u001b[0;34m)\u001b[0m\u001b[0;34m:\u001b[0m\u001b[0;34m\u001b[0m\u001b[0;34m\u001b[0m\u001b[0m\n\u001b[0;32m--> 379\u001b[0;31m         \u001b[0;32mreturn\u001b[0m \u001b[0mtensor\u001b[0m\u001b[0;34m.\u001b[0m\u001b[0muniform_\u001b[0m\u001b[0;34m(\u001b[0m\u001b[0;34m-\u001b[0m\u001b[0mbound\u001b[0m\u001b[0;34m,\u001b[0m \u001b[0mbound\u001b[0m\u001b[0;34m)\u001b[0m\u001b[0;34m\u001b[0m\u001b[0;34m\u001b[0m\u001b[0m\n\u001b[0m\u001b[1;32m    380\u001b[0m \u001b[0;34m\u001b[0m\u001b[0m\n\u001b[1;32m    381\u001b[0m \u001b[0;34m\u001b[0m\u001b[0m\n",
      "\u001b[0;31mKeyboardInterrupt\u001b[0m: "
     ]
    }
   ],
   "source": [
    "dep_parser = stanza.Pipeline(lang='en', processors='tokenize,mwt,pos,lemma,depparse')\n",
    "test_df0[\"pass\"] = test_df0['combined_text'].apply(check_if_passive, dep_parser=dep_parser)"
   ]
  },
  {
   "cell_type": "code",
   "execution_count": null,
   "metadata": {},
   "outputs": [
    {
     "data": {
      "text/plain": "newspaper  num_pass\ndawn       0           106\n           2             6\n           1             1\n           4             1\n           5             1\nnation     0           203\n           2            52\n           4             8\n           1             4\n           3             2\n           5             2\nnews       0           307\n           2           135\n           4            17\n           1            16\n           3             6\n           5             3\n           7             1\nName: num_pass, dtype: int64"
     },
     "execution_count": 265,
     "metadata": {},
     "output_type": "execute_result"
    }
   ],
   "source": [
    "import os\n",
    "\n",
    "test_df0['num_pass']= test_df0['pass'].str[0]\n",
    "test_df0.num_pass.value_counts()\n",
    "test_df0.groupby('newspaper')['num_pass'].value_counts()\n",
    "#test_df0.to_csv(\"testing_pak_passive_stanza.csv\")\n",
    "#look at passive instances as a proportion"
   ]
  },
  {
   "cell_type": "code",
   "execution_count": 218,
   "metadata": {},
   "outputs": [
    {
     "name": "stderr",
     "output_type": "stream",
     "text": [
      "2021-05-20 21:39:02 INFO: Loading these models for language: es (Spanish):\n",
      "=======================\n",
      "| Processor | Package |\n",
      "-----------------------\n",
      "| tokenize  | ancora  |\n",
      "| mwt       | ancora  |\n",
      "| pos       | ancora  |\n",
      "| lemma     | ancora  |\n",
      "| depparse  | ancora  |\n",
      "=======================\n",
      "\n",
      "2021-05-20 21:39:02 INFO: Use device: cpu\n",
      "2021-05-20 21:39:02 INFO: Loading: tokenize\n",
      "2021-05-20 21:39:02 INFO: Loading: mwt\n",
      "2021-05-20 21:39:02 INFO: Loading: pos\n",
      "2021-05-20 21:39:02 INFO: Loading: lemma\n",
      "2021-05-20 21:39:02 INFO: Loading: depparse\n",
      "2021-05-20 21:39:03 INFO: Done loading processors!\n"
     ]
    },
    {
     "data": {
      "text/html": "<div>\n<style scoped>\n    .dataframe tbody tr th:only-of-type {\n        vertical-align: middle;\n    }\n\n    .dataframe tbody tr th {\n        vertical-align: top;\n    }\n\n    .dataframe thead th {\n        text-align: right;\n    }\n</style>\n<table border=\"1\" class=\"dataframe\">\n  <thead>\n    <tr style=\"text-align: right;\">\n      <th></th>\n      <th>Unnamed: 0</th>\n      <th>link</th>\n      <th>datetime</th>\n      <th>title</th>\n      <th>text</th>\n      <th>authors</th>\n      <th>summary</th>\n      <th>keywords</th>\n      <th>images</th>\n      <th>has_top_image</th>\n      <th>top_image</th>\n      <th>successfully_scraped</th>\n      <th>is_valid_url</th>\n      <th>meta_lang</th>\n      <th>meta_data</th>\n      <th>media_links</th>\n      <th>combined_text</th>\n      <th>pass</th>\n    </tr>\n  </thead>\n  <tbody>\n    <tr>\n      <td>0</td>\n      <td>0</td>\n      <td>https://heraldodemexico.com.mx//espectaculos/2...</td>\n      <td>2021-04-12 00:00:00</td>\n      <td>Frida Sofía asegura que recibió GOLPIZA por pa...</td>\n      <td>La polémica no termina. Luego de que Frida Sof...</td>\n      <td>['Heraldo De México', 'Por']</td>\n      <td>Frida Sofía ha desmentido a su mamá, quien la ...</td>\n      <td>['parte', 'se', 'por', 'es', 'parar', 'frida',...</td>\n      <td>{'https://heraldodemexico.com.mx/u/fotografias...</td>\n      <td>1.0</td>\n      <td>https://heraldodemexico.com.mx/u/fotografias/m...</td>\n      <td>1</td>\n      <td>NaN</td>\n      <td>NaN</td>\n      <td>NaN</td>\n      <td>NaN</td>\n      <td>0       Frida Sofía asegura que recibió GOLPIZ...</td>\n      <td>[0, [\\n  {\\n    \"id\": 1,\\n    \"text\": \"Length\"...</td>\n    </tr>\n    <tr>\n      <td>1</td>\n      <td>1</td>\n      <td>https://heraldodemexico.com.mx//nacional/2021/...</td>\n      <td>2021-01-27 00:00:00</td>\n      <td>Nuevo León: ¡Otra vez! Jauría ataca a ovejas c...</td>\n      <td>Luego de que, en días pasados, se dio a conoce...</td>\n      <td>['Heraldo De México', 'Por']</td>\n      <td>Luego de que, en días pasados, se dio a conoce...</td>\n      <td>['pastora', 'león', 'el', 'se', 'las', 'vez', ...</td>\n      <td>{'https://heraldodemexico.com.mx/u/aps/noticia...</td>\n      <td>1.0</td>\n      <td>https://heraldodemexico.com.mx/u/fotografias/m...</td>\n      <td>1</td>\n      <td>NaN</td>\n      <td>NaN</td>\n      <td>NaN</td>\n      <td>NaN</td>\n      <td>0       Frida Sofía asegura que recibió GOLPIZ...</td>\n      <td>[0, [\\n  {\\n    \"id\": 1,\\n    \"text\": \"Length\"...</td>\n    </tr>\n    <tr>\n      <td>2</td>\n      <td>2</td>\n      <td>https://heraldodemexico.com.mx//espectaculos/2...</td>\n      <td>2021-03-08 00:00:00</td>\n      <td>Space Jam 2: Warner Bros decidió ELIMINAR a Pe...</td>\n      <td>\"Space Jam: Nuevas Leyendas\" está cada vez más...</td>\n      <td>['Heraldo De México', 'Por']</td>\n      <td>Las críticas al personaje animado se dieron de...</td>\n      <td>['se', 'warner', 'por', 'eliminar', 'el', 'tra...</td>\n      <td>{'https://heraldodemexico.com.mx/u/aps/noticia...</td>\n      <td>1.0</td>\n      <td>https://heraldodemexico.com.mx/u/fotografias/m...</td>\n      <td>1</td>\n      <td>NaN</td>\n      <td>NaN</td>\n      <td>NaN</td>\n      <td>NaN</td>\n      <td>0       Frida Sofía asegura que recibió GOLPIZ...</td>\n      <td>[0, [\\n  {\\n    \"id\": 1,\\n    \"text\": \"Length\"...</td>\n    </tr>\n    <tr>\n      <td>3</td>\n      <td>3</td>\n      <td>https://heraldodemexico.com.mx//nacional/2021/...</td>\n      <td>2021-02-25 00:00:00</td>\n      <td>Acapulco: Hombres asesinan a vendedor en Playa...</td>\n      <td>La tarde de este jueves se reportó el asesinat...</td>\n      <td>['Heraldo De México', 'Por']</td>\n      <td>La tarde de este jueves se reportó el asesinat...</td>\n      <td>['el', 'se', 'por', 'las', 'hombres', 'acuátic...</td>\n      <td>{'https://heraldodemexico.com.mx/u/fotografias...</td>\n      <td>1.0</td>\n      <td>https://heraldodemexico.com.mx/u/fotografias/m...</td>\n      <td>1</td>\n      <td>NaN</td>\n      <td>NaN</td>\n      <td>NaN</td>\n      <td>NaN</td>\n      <td>0       Frida Sofía asegura que recibió GOLPIZ...</td>\n      <td>[0, [\\n  {\\n    \"id\": 1,\\n    \"text\": \"Length\"...</td>\n    </tr>\n    <tr>\n      <td>4</td>\n      <td>4</td>\n      <td>https://heraldodemexico.com.mx//nacional/2021/...</td>\n      <td>2021-02-16 00:00:00</td>\n      <td>Fiscalía de Veracruz investiga filtración de f...</td>\n      <td>Durante la comparecencia de la titular de la F...</td>\n      <td>['Heraldo De México', 'Por']</td>\n      <td>Además de garantizar el castigo a los que revi...</td>\n      <td>['sobre', 'el', 'investiga', 'se', 'las', 'fis...</td>\n      <td>{'https://heraldodemexico.com.mx/u/aps/noticia...</td>\n      <td>1.0</td>\n      <td>https://heraldodemexico.com.mx/u/fotografias/m...</td>\n      <td>1</td>\n      <td>NaN</td>\n      <td>NaN</td>\n      <td>NaN</td>\n      <td>NaN</td>\n      <td>0       Frida Sofía asegura que recibió GOLPIZ...</td>\n      <td>[0, [\\n  {\\n    \"id\": 1,\\n    \"text\": \"Length\"...</td>\n    </tr>\n    <tr>\n      <td>...</td>\n      <td>...</td>\n      <td>...</td>\n      <td>...</td>\n      <td>...</td>\n      <td>...</td>\n      <td>...</td>\n      <td>...</td>\n      <td>...</td>\n      <td>...</td>\n      <td>...</td>\n      <td>...</td>\n      <td>...</td>\n      <td>...</td>\n      <td>...</td>\n      <td>...</td>\n      <td>...</td>\n      <td>...</td>\n      <td>...</td>\n    </tr>\n    <tr>\n      <td>2094</td>\n      <td>2094</td>\n      <td>https://www.jornada.com.mx/ultimas/2021/04/02/...</td>\n      <td>2021-04-02 00:00:00</td>\n      <td>Secuestrador pretendía abusar de Sofía Abigail...</td>\n      <td>Monterrey, NL. El vicefiscal del Ministerio Pú...</td>\n      <td>['Editorial Demos', 'Raúl Robledo']</td>\n      <td>El vicefiscal del Ministerio Público, Luis Enr...</td>\n      <td>['se', 'pretendía', 'secuestrador', 'la', 'y',...</td>\n      <td>{'https://www.jornada.com.mx/theme/img/logo_ne...</td>\n      <td>1.0</td>\n      <td>https://www.jornada.com.mx/ultimas/2021/04/02/...</td>\n      <td>1</td>\n      <td>NaN</td>\n      <td>NaN</td>\n      <td>NaN</td>\n      <td>NaN</td>\n      <td>0       Frida Sofía asegura que recibió GOLPIZ...</td>\n      <td>[0, [\\n  {\\n    \"id\": 1,\\n    \"text\": \"Length\"...</td>\n    </tr>\n    <tr>\n      <td>2095</td>\n      <td>2095</td>\n      <td>https://www.jornada.com.mx/ultimas/2020/03/02/...</td>\n      <td>2020-03-02 00:00:00</td>\n      <td>\"Desde nosotras\", la mirada fotográfica de las...</td>\n      <td>Ciudad de México. Esta exposición de fotografí...</td>\n      <td>['Blanche Petrich']</td>\n      <td>En su segunda edición –como en la primera— est...</td>\n      <td>['y', 'la', 'fotográfica', 'mujeres', 'desde',...</td>\n      <td>{'https://www.jornada.com.mx/ultimas/2020/03/0...</td>\n      <td>1.0</td>\n      <td>https://www.jornada.com.mx/ultimas/2020/03/02/...</td>\n      <td>1</td>\n      <td>NaN</td>\n      <td>NaN</td>\n      <td>NaN</td>\n      <td>NaN</td>\n      <td>0       Frida Sofía asegura que recibió GOLPIZ...</td>\n      <td>[0, [\\n  {\\n    \"id\": 1,\\n    \"text\": \"Length\"...</td>\n    </tr>\n    <tr>\n      <td>2096</td>\n      <td>2096</td>\n      <td>https://www.jornada.com.mx/ultimas/2020/04/11/...</td>\n      <td>2020-04-11 00:00:00</td>\n      <td>Con Motín, presos de Bolivia exigen “indulto t...</td>\n      <td>La Paz. Los reclusos de una cárcel al sur de B...</td>\n      <td>[]</td>\n      <td>En imágenes de la televisión local se observó ...</td>\n      <td>['se', 'y', 'bolivia', 'la', 'los', 'las', 'in...</td>\n      <td>{'https://media.jornada.com.mx/ultimas/2021/04...</td>\n      <td>1.0</td>\n      <td>https://www.jornada.com.mx/ultimas/2020/04/11/...</td>\n      <td>1</td>\n      <td>NaN</td>\n      <td>NaN</td>\n      <td>NaN</td>\n      <td>NaN</td>\n      <td>0       Frida Sofía asegura que recibió GOLPIZ...</td>\n      <td>[0, [\\n  {\\n    \"id\": 1,\\n    \"text\": \"Length\"...</td>\n    </tr>\n    <tr>\n      <td>2097</td>\n      <td>2097</td>\n      <td>https://www.jornada.com.mx/ultimas/2020/09/27/...</td>\n      <td>2020-09-27 00:00:00</td>\n      <td>Claman justicia en Michoacán por el asesinato ...</td>\n      <td>Morelia, Mich. En las ciudades de Uruapan, Hue...</td>\n      <td>['Ernesto Martínez Elorriaga']</td>\n      <td>Morelia, Mich. En las ciudades de Uruapan, Hue...</td>\n      <td>['se', 'y', 'la', 'mujeres', 'los', 'las', 'mi...</td>\n      <td>{'https://media.jornada.com.mx/ultimas/2021/04...</td>\n      <td>1.0</td>\n      <td>https://www.jornada.com.mx/ultimas/2020/09/27/...</td>\n      <td>1</td>\n      <td>NaN</td>\n      <td>NaN</td>\n      <td>NaN</td>\n      <td>NaN</td>\n      <td>0       Frida Sofía asegura que recibió GOLPIZ...</td>\n      <td>[0, [\\n  {\\n    \"id\": 1,\\n    \"text\": \"Length\"...</td>\n    </tr>\n    <tr>\n      <td>2098</td>\n      <td>2098</td>\n      <td>https://www.jornada.com.mx/ultimas/2021/02/18/...</td>\n      <td>2021-02-18 00:00:00</td>\n      <td>Fernández acusa a empresas de causar desabasto...</td>\n      <td>Buenos Aires. Mientras miles de mujeres se man...</td>\n      <td>['Editorial Demos', 'Stella Calloni']</td>\n      <td>El desabasto era evidente en los días reciente...</td>\n      <td>['acusa', 'y', 'se', 'la', 'una', 'los', 'caus...</td>\n      <td>{'https://www.jornada.com.mx/ultimas/2021/02/2...</td>\n      <td>1.0</td>\n      <td>https://www.jornada.com.mx/ultimas/2021/02/18/...</td>\n      <td>1</td>\n      <td>NaN</td>\n      <td>NaN</td>\n      <td>NaN</td>\n      <td>NaN</td>\n      <td>0       Frida Sofía asegura que recibió GOLPIZ...</td>\n      <td>[0, [\\n  {\\n    \"id\": 1,\\n    \"text\": \"Length\"...</td>\n    </tr>\n  </tbody>\n</table>\n<p>8432 rows × 18 columns</p>\n</div>",
      "text/plain": "      Unnamed: 0                                               link  \\\n0              0  https://heraldodemexico.com.mx//espectaculos/2...   \n1              1  https://heraldodemexico.com.mx//nacional/2021/...   \n2              2  https://heraldodemexico.com.mx//espectaculos/2...   \n3              3  https://heraldodemexico.com.mx//nacional/2021/...   \n4              4  https://heraldodemexico.com.mx//nacional/2021/...   \n...          ...                                                ...   \n2094        2094  https://www.jornada.com.mx/ultimas/2021/04/02/...   \n2095        2095  https://www.jornada.com.mx/ultimas/2020/03/02/...   \n2096        2096  https://www.jornada.com.mx/ultimas/2020/04/11/...   \n2097        2097  https://www.jornada.com.mx/ultimas/2020/09/27/...   \n2098        2098  https://www.jornada.com.mx/ultimas/2021/02/18/...   \n\n                 datetime                                              title  \\\n0     2021-04-12 00:00:00  Frida Sofía asegura que recibió GOLPIZA por pa...   \n1     2021-01-27 00:00:00  Nuevo León: ¡Otra vez! Jauría ataca a ovejas c...   \n2     2021-03-08 00:00:00  Space Jam 2: Warner Bros decidió ELIMINAR a Pe...   \n3     2021-02-25 00:00:00  Acapulco: Hombres asesinan a vendedor en Playa...   \n4     2021-02-16 00:00:00  Fiscalía de Veracruz investiga filtración de f...   \n...                   ...                                                ...   \n2094  2021-04-02 00:00:00  Secuestrador pretendía abusar de Sofía Abigail...   \n2095  2020-03-02 00:00:00  \"Desde nosotras\", la mirada fotográfica de las...   \n2096  2020-04-11 00:00:00  Con Motín, presos de Bolivia exigen “indulto t...   \n2097  2020-09-27 00:00:00  Claman justicia en Michoacán por el asesinato ...   \n2098  2021-02-18 00:00:00  Fernández acusa a empresas de causar desabasto...   \n\n                                                   text  \\\n0     La polémica no termina. Luego de que Frida Sof...   \n1     Luego de que, en días pasados, se dio a conoce...   \n2     \"Space Jam: Nuevas Leyendas\" está cada vez más...   \n3     La tarde de este jueves se reportó el asesinat...   \n4     Durante la comparecencia de la titular de la F...   \n...                                                 ...   \n2094  Monterrey, NL. El vicefiscal del Ministerio Pú...   \n2095  Ciudad de México. Esta exposición de fotografí...   \n2096  La Paz. Los reclusos de una cárcel al sur de B...   \n2097  Morelia, Mich. En las ciudades de Uruapan, Hue...   \n2098  Buenos Aires. Mientras miles de mujeres se man...   \n\n                                    authors  \\\n0              ['Heraldo De México', 'Por']   \n1              ['Heraldo De México', 'Por']   \n2              ['Heraldo De México', 'Por']   \n3              ['Heraldo De México', 'Por']   \n4              ['Heraldo De México', 'Por']   \n...                                     ...   \n2094    ['Editorial Demos', 'Raúl Robledo']   \n2095                    ['Blanche Petrich']   \n2096                                     []   \n2097         ['Ernesto Martínez Elorriaga']   \n2098  ['Editorial Demos', 'Stella Calloni']   \n\n                                                summary  \\\n0     Frida Sofía ha desmentido a su mamá, quien la ...   \n1     Luego de que, en días pasados, se dio a conoce...   \n2     Las críticas al personaje animado se dieron de...   \n3     La tarde de este jueves se reportó el asesinat...   \n4     Además de garantizar el castigo a los que revi...   \n...                                                 ...   \n2094  El vicefiscal del Ministerio Público, Luis Enr...   \n2095  En su segunda edición –como en la primera— est...   \n2096  En imágenes de la televisión local se observó ...   \n2097  Morelia, Mich. En las ciudades de Uruapan, Hue...   \n2098  El desabasto era evidente en los días reciente...   \n\n                                               keywords  \\\n0     ['parte', 'se', 'por', 'es', 'parar', 'frida',...   \n1     ['pastora', 'león', 'el', 'se', 'las', 'vez', ...   \n2     ['se', 'warner', 'por', 'eliminar', 'el', 'tra...   \n3     ['el', 'se', 'por', 'las', 'hombres', 'acuátic...   \n4     ['sobre', 'el', 'investiga', 'se', 'las', 'fis...   \n...                                                 ...   \n2094  ['se', 'pretendía', 'secuestrador', 'la', 'y',...   \n2095  ['y', 'la', 'fotográfica', 'mujeres', 'desde',...   \n2096  ['se', 'y', 'bolivia', 'la', 'los', 'las', 'in...   \n2097  ['se', 'y', 'la', 'mujeres', 'los', 'las', 'mi...   \n2098  ['acusa', 'y', 'se', 'la', 'una', 'los', 'caus...   \n\n                                                 images  has_top_image  \\\n0     {'https://heraldodemexico.com.mx/u/fotografias...            1.0   \n1     {'https://heraldodemexico.com.mx/u/aps/noticia...            1.0   \n2     {'https://heraldodemexico.com.mx/u/aps/noticia...            1.0   \n3     {'https://heraldodemexico.com.mx/u/fotografias...            1.0   \n4     {'https://heraldodemexico.com.mx/u/aps/noticia...            1.0   \n...                                                 ...            ...   \n2094  {'https://www.jornada.com.mx/theme/img/logo_ne...            1.0   \n2095  {'https://www.jornada.com.mx/ultimas/2020/03/0...            1.0   \n2096  {'https://media.jornada.com.mx/ultimas/2021/04...            1.0   \n2097  {'https://media.jornada.com.mx/ultimas/2021/04...            1.0   \n2098  {'https://www.jornada.com.mx/ultimas/2021/02/2...            1.0   \n\n                                              top_image  successfully_scraped  \\\n0     https://heraldodemexico.com.mx/u/fotografias/m...                     1   \n1     https://heraldodemexico.com.mx/u/fotografias/m...                     1   \n2     https://heraldodemexico.com.mx/u/fotografias/m...                     1   \n3     https://heraldodemexico.com.mx/u/fotografias/m...                     1   \n4     https://heraldodemexico.com.mx/u/fotografias/m...                     1   \n...                                                 ...                   ...   \n2094  https://www.jornada.com.mx/ultimas/2021/04/02/...                     1   \n2095  https://www.jornada.com.mx/ultimas/2020/03/02/...                     1   \n2096  https://www.jornada.com.mx/ultimas/2020/04/11/...                     1   \n2097  https://www.jornada.com.mx/ultimas/2020/09/27/...                     1   \n2098  https://www.jornada.com.mx/ultimas/2021/02/18/...                     1   \n\n      is_valid_url  meta_lang  meta_data  media_links  \\\n0              NaN        NaN        NaN          NaN   \n1              NaN        NaN        NaN          NaN   \n2              NaN        NaN        NaN          NaN   \n3              NaN        NaN        NaN          NaN   \n4              NaN        NaN        NaN          NaN   \n...            ...        ...        ...          ...   \n2094           NaN        NaN        NaN          NaN   \n2095           NaN        NaN        NaN          NaN   \n2096           NaN        NaN        NaN          NaN   \n2097           NaN        NaN        NaN          NaN   \n2098           NaN        NaN        NaN          NaN   \n\n                                          combined_text  \\\n0     0       Frida Sofía asegura que recibió GOLPIZ...   \n1     0       Frida Sofía asegura que recibió GOLPIZ...   \n2     0       Frida Sofía asegura que recibió GOLPIZ...   \n3     0       Frida Sofía asegura que recibió GOLPIZ...   \n4     0       Frida Sofía asegura que recibió GOLPIZ...   \n...                                                 ...   \n2094  0       Frida Sofía asegura que recibió GOLPIZ...   \n2095  0       Frida Sofía asegura que recibió GOLPIZ...   \n2096  0       Frida Sofía asegura que recibió GOLPIZ...   \n2097  0       Frida Sofía asegura que recibió GOLPIZ...   \n2098  0       Frida Sofía asegura que recibió GOLPIZ...   \n\n                                                   pass  \n0     [0, [\\n  {\\n    \"id\": 1,\\n    \"text\": \"Length\"...  \n1     [0, [\\n  {\\n    \"id\": 1,\\n    \"text\": \"Length\"...  \n2     [0, [\\n  {\\n    \"id\": 1,\\n    \"text\": \"Length\"...  \n3     [0, [\\n  {\\n    \"id\": 1,\\n    \"text\": \"Length\"...  \n4     [0, [\\n  {\\n    \"id\": 1,\\n    \"text\": \"Length\"...  \n...                                                 ...  \n2094  [0, [\\n  {\\n    \"id\": 1,\\n    \"text\": \"Length\"...  \n2095  [0, [\\n  {\\n    \"id\": 1,\\n    \"text\": \"Length\"...  \n2096  [0, [\\n  {\\n    \"id\": 1,\\n    \"text\": \"Length\"...  \n2097  [0, [\\n  {\\n    \"id\": 1,\\n    \"text\": \"Length\"...  \n2098  [0, [\\n  {\\n    \"id\": 1,\\n    \"text\": \"Length\"...  \n\n[8432 rows x 18 columns]"
     },
     "execution_count": 218,
     "metadata": {},
     "output_type": "execute_result"
    }
   ],
   "source": [
    "test_df_m_her = pd.read_excel(\"../data/Mexico/Heraldo_scraped.xlsx\")\n",
    "test_df_m_elu = pd.read_excel(\"../data/Mexico/el_universal_scraped.xlsx\")\n",
    "test_df_m_laj = pd.read_excel(\"../data/Mexico/la_jornada_scraped.xlsx\")\n",
    "\n",
    "test_m_comb = test_df_m_her.append(test_df_m_elu).append(test_df_m_laj)\n",
    "test_m_comb['combined_text'] = str(test_m_comb['title'] + \" \" + test_m_comb['text'])\n",
    "\n",
    "dep_parser = stanza.Pipeline(lang='es', processors='tokenize,mwt,pos,lemma,depparse')\n",
    "test_m_comb[\"pass\"] = test_m_comb['combined_text'].apply(check_if_passive, dep_parser=dep_parser)"
   ]
  },
  {
   "cell_type": "code",
   "execution_count": 223,
   "metadata": {},
   "outputs": [],
   "source": [
    "test_m0 = test_m_comb.head(4)"
   ]
  },
  {
   "cell_type": "code",
   "execution_count": 284,
   "metadata": {},
   "outputs": [
    {
     "name": "stderr",
     "output_type": "stream",
     "text": [
      "ipykernel_launcher:4: SettingWithCopyWarning: \n",
      "A value is trying to be set on a copy of a slice from a DataFrame.\n",
      "Try using .loc[row_indexer,col_indexer] = value instead\n",
      "\n",
      "See the caveats in the documentation: http://pandas.pydata.org/pandas-docs/stable/user_guide/indexing.html#returning-a-view-versus-a-copy\n",
      "ipykernel_launcher:5: SettingWithCopyWarning: \n",
      "A value is trying to be set on a copy of a slice from a DataFrame.\n",
      "Try using .loc[row_indexer,col_indexer] = value instead\n",
      "\n",
      "See the caveats in the documentation: http://pandas.pydata.org/pandas-docs/stable/user_guide/indexing.html#returning-a-view-versus-a-copy\n"
     ]
    }
   ],
   "source": [
    "#first_dialogue = test_df.head(1).loc[0, \"combined_text\"]\n",
    "nlp = spacy.load(\"es_core_news_sm\")\n",
    "test_m0_expl = test_m_comb.head(20)\n",
    "test_m0_expl['combined_text'] = test_m0_expl['title'] + test_m0_expl['text']\n",
    "test_m0_expl[\"combined_text_token\"] = test_m0_expl[\"combined_text\"].apply(lambda x: [sent.text for sent in nlp(x).sents])\n",
    "test_m0_expl = test_m0_expl.explode('combined_text_token')\n",
    "\n",
    "#dep_parser = stanza.Pipeline(lang='es', processors='tokenize,mwt,pos,lemma,depparse')\n",
    "#test_m0_expl[\"pass\"] = test_m0_expl['combined_text_token'].apply(check_if_passive, dep_parser=dep_parser)\n"
   ]
  },
  {
   "cell_type": "code",
   "execution_count": 334,
   "metadata": {},
   "outputs": [
    {
     "name": "stderr",
     "output_type": "stream",
     "text": [
      "2021-05-22 19:35:46 INFO: Loading these models for language: es (Spanish):\n",
      "=======================\n",
      "| Processor | Package |\n",
      "-----------------------\n",
      "| tokenize  | ancora  |\n",
      "| mwt       | ancora  |\n",
      "| pos       | ancora  |\n",
      "| lemma     | ancora  |\n",
      "| depparse  | ancora  |\n",
      "=======================\n",
      "\n",
      "2021-05-22 19:35:46 INFO: Use device: cpu\n",
      "2021-05-22 19:35:46 INFO: Loading: tokenize\n",
      "2021-05-22 19:35:46 INFO: Loading: mwt\n",
      "2021-05-22 19:35:46 INFO: Loading: pos\n",
      "2021-05-22 19:35:46 INFO: Loading: lemma\n",
      "2021-05-22 19:35:46 INFO: Loading: depparse\n",
      "2021-05-22 19:35:47 INFO: Done loading processors!\n",
      "ipykernel_launcher:29: SettingWithCopyWarning: \n",
      "A value is trying to be set on a copy of a slice from a DataFrame.\n",
      "Try using .loc[row_indexer,col_indexer] = value instead\n",
      "\n",
      "See the caveats in the documentation: http://pandas.pydata.org/pandas-docs/stable/user_guide/indexing.html#returning-a-view-versus-a-copy\n",
      "ipykernel_launcher:31: SettingWithCopyWarning: \n",
      "A value is trying to be set on a copy of a slice from a DataFrame.\n",
      "Try using .loc[row_indexer,col_indexer] = value instead\n",
      "\n",
      "See the caveats in the documentation: http://pandas.pydata.org/pandas-docs/stable/user_guide/indexing.html#returning-a-view-versus-a-copy\n",
      "ipykernel_launcher:38: SettingWithCopyWarning: \n",
      "A value is trying to be set on a copy of a slice from a DataFrame.\n",
      "Try using .loc[row_indexer,col_indexer] = value instead\n",
      "\n",
      "See the caveats in the documentation: http://pandas.pydata.org/pandas-docs/stable/user_guide/indexing.html#returning-a-view-versus-a-copy\n",
      "2021-05-22 19:36:04 INFO: Loading these models for language: es (Spanish):\n",
      "=======================\n",
      "| Processor | Package |\n",
      "-----------------------\n",
      "| tokenize  | ancora  |\n",
      "| mwt       | ancora  |\n",
      "| pos       | ancora  |\n",
      "| lemma     | ancora  |\n",
      "| depparse  | ancora  |\n",
      "=======================\n",
      "\n",
      "2021-05-22 19:36:04 INFO: Use device: cpu\n",
      "2021-05-22 19:36:04 INFO: Loading: tokenize\n",
      "2021-05-22 19:36:04 INFO: Loading: mwt\n",
      "2021-05-22 19:36:04 INFO: Loading: pos\n",
      "2021-05-22 19:36:05 INFO: Loading: lemma\n",
      "2021-05-22 19:36:05 INFO: Loading: depparse\n",
      "2021-05-22 19:36:06 INFO: Done loading processors!\n",
      "ipykernel_launcher:40: SettingWithCopyWarning: \n",
      "A value is trying to be set on a copy of a slice from a DataFrame.\n",
      "Try using .loc[row_indexer,col_indexer] = value instead\n",
      "\n",
      "See the caveats in the documentation: http://pandas.pydata.org/pandas-docs/stable/user_guide/indexing.html#returning-a-view-versus-a-copy\n"
     ]
    },
    {
     "data": {
      "text/html": "<div>\n<style scoped>\n    .dataframe tbody tr th:only-of-type {\n        vertical-align: middle;\n    }\n\n    .dataframe tbody tr th {\n        vertical-align: top;\n    }\n\n    .dataframe thead th {\n        text-align: right;\n    }\n</style>\n<table border=\"1\" class=\"dataframe\">\n  <thead>\n    <tr style=\"text-align: right;\">\n      <th></th>\n      <th>Unnamed: 0</th>\n      <th>link</th>\n      <th>datetime</th>\n      <th>title</th>\n      <th>text</th>\n      <th>authors</th>\n      <th>summary</th>\n      <th>keywords</th>\n      <th>images</th>\n      <th>has_top_image</th>\n      <th>top_image</th>\n      <th>successfully_scraped</th>\n      <th>is_valid_url</th>\n      <th>meta_lang</th>\n      <th>meta_data</th>\n      <th>media_links</th>\n      <th>combined_text</th>\n      <th>pass</th>\n    </tr>\n  </thead>\n  <tbody>\n    <tr>\n      <td>0</td>\n      <td>0</td>\n      <td>https://heraldodemexico.com.mx//espectaculos/2...</td>\n      <td>2021-04-12 00:00:00</td>\n      <td>Frida Sofía asegura que recibió GOLPIZA por pa...</td>\n      <td>La polémica no termina. Luego de que Frida Sof...</td>\n      <td>['Heraldo De México', 'Por']</td>\n      <td>Frida Sofía ha desmentido a su mamá, quien la ...</td>\n      <td>['parte', 'se', 'por', 'es', 'parar', 'frida',...</td>\n      <td>{'https://heraldodemexico.com.mx/u/fotografias...</td>\n      <td>1.0</td>\n      <td>https://heraldodemexico.com.mx/u/fotografias/m...</td>\n      <td>1</td>\n      <td>NaN</td>\n      <td>NaN</td>\n      <td>NaN</td>\n      <td>NaN</td>\n      <td>Frida Sofía asegura que recibió GOLPIZA por pa...</td>\n      <td>0</td>\n    </tr>\n    <tr>\n      <td>1</td>\n      <td>1</td>\n      <td>https://heraldodemexico.com.mx//nacional/2021/...</td>\n      <td>2021-01-27 00:00:00</td>\n      <td>Nuevo León: ¡Otra vez! Jauría ataca a ovejas c...</td>\n      <td>Luego de que, en días pasados, se dio a conoce...</td>\n      <td>['Heraldo De México', 'Por']</td>\n      <td>Luego de que, en días pasados, se dio a conoce...</td>\n      <td>['pastora', 'león', 'el', 'se', 'las', 'vez', ...</td>\n      <td>{'https://heraldodemexico.com.mx/u/aps/noticia...</td>\n      <td>1.0</td>\n      <td>https://heraldodemexico.com.mx/u/fotografias/m...</td>\n      <td>1</td>\n      <td>NaN</td>\n      <td>NaN</td>\n      <td>NaN</td>\n      <td>NaN</td>\n      <td>Nuevo León: ¡Otra vez! Jauría ataca a ovejas c...</td>\n      <td>0</td>\n    </tr>\n    <tr>\n      <td>2</td>\n      <td>2</td>\n      <td>https://heraldodemexico.com.mx//espectaculos/2...</td>\n      <td>2021-03-08 00:00:00</td>\n      <td>Space Jam 2: Warner Bros decidió ELIMINAR a Pe...</td>\n      <td>\"Space Jam: Nuevas Leyendas\" está cada vez más...</td>\n      <td>['Heraldo De México', 'Por']</td>\n      <td>Las críticas al personaje animado se dieron de...</td>\n      <td>['se', 'warner', 'por', 'eliminar', 'el', 'tra...</td>\n      <td>{'https://heraldodemexico.com.mx/u/aps/noticia...</td>\n      <td>1.0</td>\n      <td>https://heraldodemexico.com.mx/u/fotografias/m...</td>\n      <td>1</td>\n      <td>NaN</td>\n      <td>NaN</td>\n      <td>NaN</td>\n      <td>NaN</td>\n      <td>Space Jam 2: Warner Bros decidió ELIMINAR a Pe...</td>\n      <td>0</td>\n    </tr>\n    <tr>\n      <td>3</td>\n      <td>3</td>\n      <td>https://heraldodemexico.com.mx//nacional/2021/...</td>\n      <td>2021-02-25 00:00:00</td>\n      <td>Acapulco: Hombres asesinan a vendedor en Playa...</td>\n      <td>La tarde de este jueves se reportó el asesinat...</td>\n      <td>['Heraldo De México', 'Por']</td>\n      <td>La tarde de este jueves se reportó el asesinat...</td>\n      <td>['el', 'se', 'por', 'las', 'hombres', 'acuátic...</td>\n      <td>{'https://heraldodemexico.com.mx/u/fotografias...</td>\n      <td>1.0</td>\n      <td>https://heraldodemexico.com.mx/u/fotografias/m...</td>\n      <td>1</td>\n      <td>NaN</td>\n      <td>NaN</td>\n      <td>NaN</td>\n      <td>NaN</td>\n      <td>Acapulco: Hombres asesinan a vendedor en Playa...</td>\n      <td>0</td>\n    </tr>\n    <tr>\n      <td>4</td>\n      <td>4</td>\n      <td>https://heraldodemexico.com.mx//nacional/2021/...</td>\n      <td>2021-02-16 00:00:00</td>\n      <td>Fiscalía de Veracruz investiga filtración de f...</td>\n      <td>Durante la comparecencia de la titular de la F...</td>\n      <td>['Heraldo De México', 'Por']</td>\n      <td>Además de garantizar el castigo a los que revi...</td>\n      <td>['sobre', 'el', 'investiga', 'se', 'las', 'fis...</td>\n      <td>{'https://heraldodemexico.com.mx/u/aps/noticia...</td>\n      <td>1.0</td>\n      <td>https://heraldodemexico.com.mx/u/fotografias/m...</td>\n      <td>1</td>\n      <td>NaN</td>\n      <td>NaN</td>\n      <td>NaN</td>\n      <td>NaN</td>\n      <td>Fiscalía de Veracruz investiga filtración de f...</td>\n      <td>0</td>\n    </tr>\n    <tr>\n      <td>...</td>\n      <td>...</td>\n      <td>...</td>\n      <td>...</td>\n      <td>...</td>\n      <td>...</td>\n      <td>...</td>\n      <td>...</td>\n      <td>...</td>\n      <td>...</td>\n      <td>...</td>\n      <td>...</td>\n      <td>...</td>\n      <td>...</td>\n      <td>...</td>\n      <td>...</td>\n      <td>...</td>\n      <td>...</td>\n      <td>...</td>\n    </tr>\n    <tr>\n      <td>95</td>\n      <td>96</td>\n      <td>https://heraldodemexico.com.mx//nacional/2020/...</td>\n      <td>2020-11-25 00:00:00</td>\n      <td>Mujeres encapuchadas se enfrentan con policías...</td>\n      <td>Grupos radicales de mujeres encapuchadas logra...</td>\n      <td>['Heraldo De México', 'Por']</td>\n      <td>Grupos radicales de mujeres encapuchadas logra...</td>\n      <td>['nacional', 'se', 'por', 'mujeres', 'que', 'e...</td>\n      <td>{'https://heraldodemexico.com.mx/u/aps/noticia...</td>\n      <td>1.0</td>\n      <td>https://heraldodemexico.com.mx/u/fotografias/m...</td>\n      <td>1</td>\n      <td>NaN</td>\n      <td>NaN</td>\n      <td>NaN</td>\n      <td>NaN</td>\n      <td>Mujeres encapuchadas se enfrentan con policías...</td>\n      <td>0</td>\n    </tr>\n    <tr>\n      <td>96</td>\n      <td>97</td>\n      <td>https://heraldodemexico.com.mx//espectaculos/2...</td>\n      <td>2021-04-14 00:00:00</td>\n      <td>Laura Bozzo le pide a Frida Sofía que \"present...</td>\n      <td>Más personas del espectáculo se han sumado a o...</td>\n      <td>['Heraldo De México', 'Por']</td>\n      <td>Laura Bozzo da su opinión del temaAhora fue La...</td>\n      <td>['sobre', 'se', 'por', 'las', 'quien', 'le', '...</td>\n      <td>{'https://heraldodemexico.com.mx/a/plantillas/...</td>\n      <td>1.0</td>\n      <td>https://heraldodemexico.com.mx/u/fotografias/m...</td>\n      <td>1</td>\n      <td>NaN</td>\n      <td>NaN</td>\n      <td>NaN</td>\n      <td>NaN</td>\n      <td>Laura Bozzo le pide a Frida Sofía que \"present...</td>\n      <td>0</td>\n    </tr>\n    <tr>\n      <td>97</td>\n      <td>98</td>\n      <td>https://heraldodemexico.com.mx//espectaculos/2...</td>\n      <td>2021-01-18 00:00:00</td>\n      <td>\"Las mujeres no podemos estar festejando que s...</td>\n      <td>La famosa cantante mexicana Lupita DAlessio, ...</td>\n      <td>['Heraldo De México', 'Por']</td>\n      <td>La famosa cantante mexicana Lupita DAlessio, ...</td>\n      <td>['sobre', 'podemos', 'se', 'el', 'una', 'las',...</td>\n      <td>{'https://heraldodemexico.com.mx/u/aps/noticia...</td>\n      <td>1.0</td>\n      <td>https://heraldodemexico.com.mx/u/fotografias/m...</td>\n      <td>1</td>\n      <td>NaN</td>\n      <td>NaN</td>\n      <td>NaN</td>\n      <td>NaN</td>\n      <td>\"Las mujeres no podemos estar festejando que s...</td>\n      <td>0</td>\n    </tr>\n    <tr>\n      <td>98</td>\n      <td>99</td>\n      <td>https://heraldodemexico.com.mx//opinion/2021/3...</td>\n      <td>2021-03-04 00:00:00</td>\n      <td>Se rompe el tabú del abuso sexual en la familia</td>\n      <td>Se está rompiendo en México el tabú del abuso ...</td>\n      <td>['Alejandro Sánchez', 'Por']</td>\n      <td>Se está rompiendo en México el tabú del abuso ...</td>\n      <td>['rompe', 'se', 'el', 'abuso', 'por', 'una', '...</td>\n      <td>{'https://heraldodemexico.com.mx/u/aps/noticia...</td>\n      <td>1.0</td>\n      <td>https://heraldodemexico.com.mx/u/fotografias/m...</td>\n      <td>1</td>\n      <td>NaN</td>\n      <td>NaN</td>\n      <td>NaN</td>\n      <td>NaN</td>\n      <td>Se rompe el tabú del abuso sexual en la famili...</td>\n      <td>0</td>\n    </tr>\n    <tr>\n      <td>99</td>\n      <td>100</td>\n      <td>https://heraldodemexico.com.mx//espectaculos/2...</td>\n      <td>2021-03-11 00:00:00</td>\n      <td>Yuliana Martínez, ganadora de La Voz, hace f...</td>\n      <td>La ganadora de la quinta temporada de La Voz ...</td>\n      <td>['Heraldo De México', 'Por']</td>\n      <td>La ganadora de la quinta temporada de La Voz ...</td>\n      <td>['se', 'por', 'los', 'hija', 'martínez', 'hace...</td>\n      <td>{'https://heraldodemexico.com.mx/u/aps/noticia...</td>\n      <td>1.0</td>\n      <td>https://heraldodemexico.com.mx/u/fotografias/m...</td>\n      <td>1</td>\n      <td>NaN</td>\n      <td>NaN</td>\n      <td>NaN</td>\n      <td>NaN</td>\n      <td>Yuliana Martínez, ganadora de La Voz, hace f...</td>\n      <td>0</td>\n    </tr>\n  </tbody>\n</table>\n<p>100 rows × 18 columns</p>\n</div>",
      "text/plain": "    Unnamed: 0                                               link  \\\n0            0  https://heraldodemexico.com.mx//espectaculos/2...   \n1            1  https://heraldodemexico.com.mx//nacional/2021/...   \n2            2  https://heraldodemexico.com.mx//espectaculos/2...   \n3            3  https://heraldodemexico.com.mx//nacional/2021/...   \n4            4  https://heraldodemexico.com.mx//nacional/2021/...   \n..         ...                                                ...   \n95          96  https://heraldodemexico.com.mx//nacional/2020/...   \n96          97  https://heraldodemexico.com.mx//espectaculos/2...   \n97          98  https://heraldodemexico.com.mx//espectaculos/2...   \n98          99  https://heraldodemexico.com.mx//opinion/2021/3...   \n99         100  https://heraldodemexico.com.mx//espectaculos/2...   \n\n               datetime                                              title  \\\n0   2021-04-12 00:00:00  Frida Sofía asegura que recibió GOLPIZA por pa...   \n1   2021-01-27 00:00:00  Nuevo León: ¡Otra vez! Jauría ataca a ovejas c...   \n2   2021-03-08 00:00:00  Space Jam 2: Warner Bros decidió ELIMINAR a Pe...   \n3   2021-02-25 00:00:00  Acapulco: Hombres asesinan a vendedor en Playa...   \n4   2021-02-16 00:00:00  Fiscalía de Veracruz investiga filtración de f...   \n..                  ...                                                ...   \n95  2020-11-25 00:00:00  Mujeres encapuchadas se enfrentan con policías...   \n96  2021-04-14 00:00:00  Laura Bozzo le pide a Frida Sofía que \"present...   \n97  2021-01-18 00:00:00  \"Las mujeres no podemos estar festejando que s...   \n98  2021-03-04 00:00:00    Se rompe el tabú del abuso sexual en la familia   \n99  2021-03-11 00:00:00  Yuliana Martínez, ganadora de La Voz, hace f...   \n\n                                                 text  \\\n0   La polémica no termina. Luego de que Frida Sof...   \n1   Luego de que, en días pasados, se dio a conoce...   \n2   \"Space Jam: Nuevas Leyendas\" está cada vez más...   \n3   La tarde de este jueves se reportó el asesinat...   \n4   Durante la comparecencia de la titular de la F...   \n..                                                ...   \n95  Grupos radicales de mujeres encapuchadas logra...   \n96  Más personas del espectáculo se han sumado a o...   \n97  La famosa cantante mexicana Lupita DAlessio, ...   \n98  Se está rompiendo en México el tabú del abuso ...   \n99  La ganadora de la quinta temporada de La Voz ...   \n\n                         authors  \\\n0   ['Heraldo De México', 'Por']   \n1   ['Heraldo De México', 'Por']   \n2   ['Heraldo De México', 'Por']   \n3   ['Heraldo De México', 'Por']   \n4   ['Heraldo De México', 'Por']   \n..                           ...   \n95  ['Heraldo De México', 'Por']   \n96  ['Heraldo De México', 'Por']   \n97  ['Heraldo De México', 'Por']   \n98  ['Alejandro Sánchez', 'Por']   \n99  ['Heraldo De México', 'Por']   \n\n                                              summary  \\\n0   Frida Sofía ha desmentido a su mamá, quien la ...   \n1   Luego de que, en días pasados, se dio a conoce...   \n2   Las críticas al personaje animado se dieron de...   \n3   La tarde de este jueves se reportó el asesinat...   \n4   Además de garantizar el castigo a los que revi...   \n..                                                ...   \n95  Grupos radicales de mujeres encapuchadas logra...   \n96  Laura Bozzo da su opinión del temaAhora fue La...   \n97  La famosa cantante mexicana Lupita DAlessio, ...   \n98  Se está rompiendo en México el tabú del abuso ...   \n99  La ganadora de la quinta temporada de La Voz ...   \n\n                                             keywords  \\\n0   ['parte', 'se', 'por', 'es', 'parar', 'frida',...   \n1   ['pastora', 'león', 'el', 'se', 'las', 'vez', ...   \n2   ['se', 'warner', 'por', 'eliminar', 'el', 'tra...   \n3   ['el', 'se', 'por', 'las', 'hombres', 'acuátic...   \n4   ['sobre', 'el', 'investiga', 'se', 'las', 'fis...   \n..                                                ...   \n95  ['nacional', 'se', 'por', 'mujeres', 'que', 'e...   \n96  ['sobre', 'se', 'por', 'las', 'quien', 'le', '...   \n97  ['sobre', 'podemos', 'se', 'el', 'una', 'las',...   \n98  ['rompe', 'se', 'el', 'abuso', 'por', 'una', '...   \n99  ['se', 'por', 'los', 'hija', 'martínez', 'hace...   \n\n                                               images  has_top_image  \\\n0   {'https://heraldodemexico.com.mx/u/fotografias...            1.0   \n1   {'https://heraldodemexico.com.mx/u/aps/noticia...            1.0   \n2   {'https://heraldodemexico.com.mx/u/aps/noticia...            1.0   \n3   {'https://heraldodemexico.com.mx/u/fotografias...            1.0   \n4   {'https://heraldodemexico.com.mx/u/aps/noticia...            1.0   \n..                                                ...            ...   \n95  {'https://heraldodemexico.com.mx/u/aps/noticia...            1.0   \n96  {'https://heraldodemexico.com.mx/a/plantillas/...            1.0   \n97  {'https://heraldodemexico.com.mx/u/aps/noticia...            1.0   \n98  {'https://heraldodemexico.com.mx/u/aps/noticia...            1.0   \n99  {'https://heraldodemexico.com.mx/u/aps/noticia...            1.0   \n\n                                            top_image  successfully_scraped  \\\n0   https://heraldodemexico.com.mx/u/fotografias/m...                     1   \n1   https://heraldodemexico.com.mx/u/fotografias/m...                     1   \n2   https://heraldodemexico.com.mx/u/fotografias/m...                     1   \n3   https://heraldodemexico.com.mx/u/fotografias/m...                     1   \n4   https://heraldodemexico.com.mx/u/fotografias/m...                     1   \n..                                                ...                   ...   \n95  https://heraldodemexico.com.mx/u/fotografias/m...                     1   \n96  https://heraldodemexico.com.mx/u/fotografias/m...                     1   \n97  https://heraldodemexico.com.mx/u/fotografias/m...                     1   \n98  https://heraldodemexico.com.mx/u/fotografias/m...                     1   \n99  https://heraldodemexico.com.mx/u/fotografias/m...                     1   \n\n    is_valid_url  meta_lang  meta_data  media_links  \\\n0            NaN        NaN        NaN          NaN   \n1            NaN        NaN        NaN          NaN   \n2            NaN        NaN        NaN          NaN   \n3            NaN        NaN        NaN          NaN   \n4            NaN        NaN        NaN          NaN   \n..           ...        ...        ...          ...   \n95           NaN        NaN        NaN          NaN   \n96           NaN        NaN        NaN          NaN   \n97           NaN        NaN        NaN          NaN   \n98           NaN        NaN        NaN          NaN   \n99           NaN        NaN        NaN          NaN   \n\n                                        combined_text  pass  \n0   Frida Sofía asegura que recibió GOLPIZA por pa...     0  \n1   Nuevo León: ¡Otra vez! Jauría ataca a ovejas c...     0  \n2   Space Jam 2: Warner Bros decidió ELIMINAR a Pe...     0  \n3   Acapulco: Hombres asesinan a vendedor en Playa...     0  \n4   Fiscalía de Veracruz investiga filtración de f...     0  \n..                                                ...   ...  \n95  Mujeres encapuchadas se enfrentan con policías...     0  \n96  Laura Bozzo le pide a Frida Sofía que \"present...     0  \n97  \"Las mujeres no podemos estar festejando que s...     0  \n98  Se rompe el tabú del abuso sexual en la famili...     0  \n99  Yuliana Martínez, ganadora de La Voz, hace f...     0  \n\n[100 rows x 18 columns]"
     },
     "execution_count": 334,
     "metadata": {},
     "output_type": "execute_result"
    }
   ],
   "source": [
    "dep_parser = stanza.Pipeline(lang='es', processors='tokenize,mwt,pos,lemma,depparse')\n",
    "\n",
    "def add_deprel(sentence, dep_parser):\n",
    "\n",
    "    doc = dep_parser(sentence)\n",
    "\n",
    "    # pr1 = ['det', 'nsubj', 'aux', 'root']\n",
    "    # pr2 = ['det', 'nsubj', 'advmod', 'aux', 'aux', 'root']\n",
    "    # pr3 = ['det', 'nsubj', 'amod', 'aux', 'root']\n",
    "    # pr4 = ['det', 'nsubj', 'aux', 'root', 'case', 'det']\n",
    "    pr1 = \"pass\"\n",
    "    for sent in doc.sentences:\n",
    "        num_passive = 0\n",
    "        sent_list = []\n",
    "        deprel_lst = []\n",
    "        for word in sent.words:\n",
    "            deprel = word.deprel\n",
    "            if pr1 in deprel:\n",
    "                num_passive += 1\n",
    "                \n",
    "    return num_passive\n",
    "\n",
    "pass_act_df = pd.read_excel(\"../data/Mexico/spanish_passive_active_examples.xlsx\")\n",
    "pass_act_df['passive_deprel'] = pass_act_df['passive'].apply(add_deprel, dep_parser=dep_parser)\n",
    "pass_act_df['active_deprel'] = pass_act_df['active'].apply(add_deprel, dep_parser=dep_parser)\n",
    "\n",
    "\n",
    "test_m0_expl = test_m_comb.head(100)\n",
    "test_m0_expl['combined_text'] = test_m0_expl['title'] + test_m0_expl['text']\n",
    "nlp = spacy.load(\"es_core_news_sm\")\n",
    "test_m0_expl[\"combined_text_token\"] = test_m0_expl[\"combined_text\"].apply(lambda x: [sent.text for sent in nlp(x).sents])\n",
    "\n",
    "test_m0_expl = test_m0_expl.explode('combined_text_token').head(40)\n",
    "test_m0_expl['pass_v2'] = test_m0_expl['combined_text_token'].apply(add_deprel, dep_parser=dep_parser)\n",
    "\n",
    "\n",
    "test_m0_noexpl = test_m_comb.head(100)\n",
    "test_m0_noexpl['combined_text'] = test_m0_noexpl['title'] + test_m0_noexpl['text']\n",
    "dep_parser = stanza.Pipeline(lang='es', processors='tokenize,mwt,pos,lemma,depparse')\n",
    "test_m0_noexpl['pass'] = test_m0_noexpl['combined_text'].apply(add_deprel, dep_parser=dep_parser)\n",
    "\n",
    "\n"
   ]
  },
  {
   "cell_type": "code",
   "execution_count": null,
   "metadata": {},
   "outputs": [],
   "source": []
  },
  {
   "cell_type": "code",
   "execution_count": null,
   "metadata": {},
   "outputs": [],
   "source": []
  },
  {
   "cell_type": "code",
   "execution_count": null,
   "metadata": {},
   "outputs": [],
   "source": []
  },
  {
   "cell_type": "code",
   "execution_count": 344,
   "metadata": {},
   "outputs": [
    {
     "data": {
      "text/html": "<div>\n<style scoped>\n    .dataframe tbody tr th:only-of-type {\n        vertical-align: middle;\n    }\n\n    .dataframe tbody tr th {\n        vertical-align: top;\n    }\n\n    .dataframe thead th {\n        text-align: right;\n    }\n</style>\n<table border=\"1\" class=\"dataframe\">\n  <thead>\n    <tr style=\"text-align: right;\">\n      <th></th>\n      <th>Unnamed: 0</th>\n      <th>link</th>\n      <th>datetime</th>\n      <th>title</th>\n      <th>text</th>\n      <th>authors</th>\n      <th>summary</th>\n      <th>keywords</th>\n      <th>images</th>\n      <th>has_top_image</th>\n      <th>top_image</th>\n      <th>successfully_scraped</th>\n      <th>is_valid_url</th>\n      <th>meta_lang</th>\n      <th>meta_data</th>\n      <th>media_links</th>\n      <th>combined_text</th>\n      <th>pass</th>\n      <th>pass_v2</th>\n    </tr>\n  </thead>\n  <tbody>\n    <tr>\n      <td>0</td>\n      <td>0</td>\n      <td>https://heraldodemexico.com.mx//espectaculos/2...</td>\n      <td>2021-04-12 00:00:00</td>\n      <td>Frida Sofía asegura que recibió GOLPIZA por pa...</td>\n      <td>La polémica no termina. Luego de que Frida Sof...</td>\n      <td>['Heraldo De México', 'Por']</td>\n      <td>Frida Sofía ha desmentido a su mamá, quien la ...</td>\n      <td>['parte', 'se', 'por', 'es', 'parar', 'frida',...</td>\n      <td>{'https://heraldodemexico.com.mx/u/fotografias...</td>\n      <td>1.0</td>\n      <td>https://heraldodemexico.com.mx/u/fotografias/m...</td>\n      <td>1</td>\n      <td>NaN</td>\n      <td>NaN</td>\n      <td>NaN</td>\n      <td>NaN</td>\n      <td>0       Frida Sofía asegura que recibió GOLPIZ...</td>\n      <td>[0, [\\n  {\\n    \"id\": 1,\\n    \"text\": \"Frida\",...</td>\n      <td>None</td>\n    </tr>\n    <tr>\n      <td>1</td>\n      <td>1</td>\n      <td>https://heraldodemexico.com.mx//nacional/2021/...</td>\n      <td>2021-01-27 00:00:00</td>\n      <td>Nuevo León: ¡Otra vez! Jauría ataca a ovejas c...</td>\n      <td>Luego de que, en días pasados, se dio a conoce...</td>\n      <td>['Heraldo De México', 'Por']</td>\n      <td>Luego de que, en días pasados, se dio a conoce...</td>\n      <td>['pastora', 'león', 'el', 'se', 'las', 'vez', ...</td>\n      <td>{'https://heraldodemexico.com.mx/u/aps/noticia...</td>\n      <td>1.0</td>\n      <td>https://heraldodemexico.com.mx/u/fotografias/m...</td>\n      <td>1</td>\n      <td>NaN</td>\n      <td>NaN</td>\n      <td>NaN</td>\n      <td>NaN</td>\n      <td>0       Frida Sofía asegura que recibió GOLPIZ...</td>\n      <td>[0, [\\n  {\\n    \"id\": 1,\\n    \"text\": \"Jauría\"...</td>\n      <td>None</td>\n    </tr>\n    <tr>\n      <td>2</td>\n      <td>2</td>\n      <td>https://heraldodemexico.com.mx//espectaculos/2...</td>\n      <td>2021-03-08 00:00:00</td>\n      <td>Space Jam 2: Warner Bros decidió ELIMINAR a Pe...</td>\n      <td>\"Space Jam: Nuevas Leyendas\" está cada vez más...</td>\n      <td>['Heraldo De México', 'Por']</td>\n      <td>Las críticas al personaje animado se dieron de...</td>\n      <td>['se', 'warner', 'por', 'eliminar', 'el', 'tra...</td>\n      <td>{'https://heraldodemexico.com.mx/u/aps/noticia...</td>\n      <td>1.0</td>\n      <td>https://heraldodemexico.com.mx/u/fotografias/m...</td>\n      <td>1</td>\n      <td>NaN</td>\n      <td>NaN</td>\n      <td>NaN</td>\n      <td>NaN</td>\n      <td>0       Frida Sofía asegura que recibió GOLPIZ...</td>\n      <td>[0, [\\n  {\\n    \"id\": 1,\\n    \"text\": \"Space\",...</td>\n      <td>None</td>\n    </tr>\n    <tr>\n      <td>3</td>\n      <td>3</td>\n      <td>https://heraldodemexico.com.mx//nacional/2021/...</td>\n      <td>2021-02-25 00:00:00</td>\n      <td>Acapulco: Hombres asesinan a vendedor en Playa...</td>\n      <td>La tarde de este jueves se reportó el asesinat...</td>\n      <td>['Heraldo De México', 'Por']</td>\n      <td>La tarde de este jueves se reportó el asesinat...</td>\n      <td>['el', 'se', 'por', 'las', 'hombres', 'acuátic...</td>\n      <td>{'https://heraldodemexico.com.mx/u/fotografias...</td>\n      <td>1.0</td>\n      <td>https://heraldodemexico.com.mx/u/fotografias/m...</td>\n      <td>1</td>\n      <td>NaN</td>\n      <td>NaN</td>\n      <td>NaN</td>\n      <td>NaN</td>\n      <td>0       Frida Sofía asegura que recibió GOLPIZ...</td>\n      <td>[0, [\\n  {\\n    \"id\": 1,\\n    \"text\": \"Acapulc...</td>\n      <td>None</td>\n    </tr>\n  </tbody>\n</table>\n</div>",
      "text/plain": "   Unnamed: 0                                               link  \\\n0           0  https://heraldodemexico.com.mx//espectaculos/2...   \n1           1  https://heraldodemexico.com.mx//nacional/2021/...   \n2           2  https://heraldodemexico.com.mx//espectaculos/2...   \n3           3  https://heraldodemexico.com.mx//nacional/2021/...   \n\n              datetime                                              title  \\\n0  2021-04-12 00:00:00  Frida Sofía asegura que recibió GOLPIZA por pa...   \n1  2021-01-27 00:00:00  Nuevo León: ¡Otra vez! Jauría ataca a ovejas c...   \n2  2021-03-08 00:00:00  Space Jam 2: Warner Bros decidió ELIMINAR a Pe...   \n3  2021-02-25 00:00:00  Acapulco: Hombres asesinan a vendedor en Playa...   \n\n                                                text  \\\n0  La polémica no termina. Luego de que Frida Sof...   \n1  Luego de que, en días pasados, se dio a conoce...   \n2  \"Space Jam: Nuevas Leyendas\" está cada vez más...   \n3  La tarde de este jueves se reportó el asesinat...   \n\n                        authors  \\\n0  ['Heraldo De México', 'Por']   \n1  ['Heraldo De México', 'Por']   \n2  ['Heraldo De México', 'Por']   \n3  ['Heraldo De México', 'Por']   \n\n                                             summary  \\\n0  Frida Sofía ha desmentido a su mamá, quien la ...   \n1  Luego de que, en días pasados, se dio a conoce...   \n2  Las críticas al personaje animado se dieron de...   \n3  La tarde de este jueves se reportó el asesinat...   \n\n                                            keywords  \\\n0  ['parte', 'se', 'por', 'es', 'parar', 'frida',...   \n1  ['pastora', 'león', 'el', 'se', 'las', 'vez', ...   \n2  ['se', 'warner', 'por', 'eliminar', 'el', 'tra...   \n3  ['el', 'se', 'por', 'las', 'hombres', 'acuátic...   \n\n                                              images  has_top_image  \\\n0  {'https://heraldodemexico.com.mx/u/fotografias...            1.0   \n1  {'https://heraldodemexico.com.mx/u/aps/noticia...            1.0   \n2  {'https://heraldodemexico.com.mx/u/aps/noticia...            1.0   \n3  {'https://heraldodemexico.com.mx/u/fotografias...            1.0   \n\n                                           top_image  successfully_scraped  \\\n0  https://heraldodemexico.com.mx/u/fotografias/m...                     1   \n1  https://heraldodemexico.com.mx/u/fotografias/m...                     1   \n2  https://heraldodemexico.com.mx/u/fotografias/m...                     1   \n3  https://heraldodemexico.com.mx/u/fotografias/m...                     1   \n\n   is_valid_url  meta_lang  meta_data  media_links  \\\n0           NaN        NaN        NaN          NaN   \n1           NaN        NaN        NaN          NaN   \n2           NaN        NaN        NaN          NaN   \n3           NaN        NaN        NaN          NaN   \n\n                                       combined_text  \\\n0  0       Frida Sofía asegura que recibió GOLPIZ...   \n1  0       Frida Sofía asegura que recibió GOLPIZ...   \n2  0       Frida Sofía asegura que recibió GOLPIZ...   \n3  0       Frida Sofía asegura que recibió GOLPIZ...   \n\n                                                pass pass_v2  \n0  [0, [\\n  {\\n    \"id\": 1,\\n    \"text\": \"Frida\",...    None  \n1  [0, [\\n  {\\n    \"id\": 1,\\n    \"text\": \"Jauría\"...    None  \n2  [0, [\\n  {\\n    \"id\": 1,\\n    \"text\": \"Space\",...    None  \n3  [0, [\\n  {\\n    \"id\": 1,\\n    \"text\": \"Acapulc...    None  "
     },
     "execution_count": 344,
     "metadata": {},
     "output_type": "execute_result"
    }
   ],
   "source": []
  },
  {
   "cell_type": "code",
   "execution_count": 349,
   "metadata": {},
   "outputs": [],
   "source": [
    "nlp = spacy.load(\"es_core_news_sm\")\n",
    "test_m_comb[\"combined_text_token\"] = test_m_comb[\"combined_text\"].apply(lambda x: [sent.text for sent in nlp(x).sents])"
   ]
  },
  {
   "cell_type": "code",
   "execution_count": 352,
   "metadata": {},
   "outputs": [
    {
     "data": {
      "text/plain": "(34831,)"
     },
     "execution_count": 352,
     "metadata": {},
     "output_type": "execute_result"
    }
   ],
   "source": [
    "test_m_comb_expl = test_m_comb['combined_text_token'].explode()\n",
    "test_m_comb_expl.shape"
   ]
  },
  {
   "cell_type": "markdown",
   "metadata": {},
   "source": [
    "# Importing Libraries"
   ]
  },
  {
   "cell_type": "code",
   "execution_count": 374,
   "metadata": {},
   "outputs": [],
   "source": [
    "import stanza\n",
    "import pandas as pd\n",
    "import numpy as np\n",
    "import re\n",
    "import spacy"
   ]
  },
  {
   "cell_type": "markdown",
   "metadata": {},
   "source": [
    "# Reading Data"
   ]
  },
  {
   "cell_type": "code",
   "execution_count": 411,
   "metadata": {},
   "outputs": [
    {
     "name": "stderr",
     "output_type": "stream",
     "text": [
      "/Users/rukhshan/opt/anaconda3/lib/python3.7/site-packages/pandas/core/frame.py:7123: FutureWarning: Sorting because non-concatenation axis is not aligned. A future version\n",
      "of pandas will change to not sort by default.\n",
      "\n",
      "To accept the future behavior, pass 'sort=False'.\n",
      "\n",
      "To retain the current behavior and silence the warning, pass 'sort=True'.\n",
      "\n",
      "  sort=sort,\n"
     ]
    }
   ],
   "source": [
    "df_mex_her = pd.read_excel(\"../data/Mexico/Heraldo_scraped.xlsx\")\n",
    "df_mex_elu = pd.read_excel(\"../data/Mexico/el_universal_scraped.xlsx\")\n",
    "df_mex_laj = pd.read_excel(\"../data/Mexico/la_jornada_scraped.xlsx\")\n",
    "\n",
    "df_mex_comb = df_mex_her.append(df_mex_elu).append(df_mex_laj)\n",
    "\n",
    "df_uk_sun = pd.read_csv(\"../data/UK/sun_scraped_cleaned.csv\")\n",
    "df_uk_tim = pd.read_csv(\"../data/UK/times_scraped_cleaned.csv\")\n",
    "df_uk_gua = pd.read_csv(\"../data/UK/guardian_scraped_cleaned.csv\")\n",
    "\n",
    "df_uk_gua['title'] = df_uk_gua['webTitle']\n",
    "df_uk_gua['text'] = df_uk_gua['body']\n",
    "\n",
    "df_uk_comb = df_uk_sun.append(df_uk_tim).append(df_uk_gua)\n",
    "\n",
    "df_pak_comb = pd.read_csv(\"../data/Pakistan/pak_extracted_combined_2020.csv\")\n",
    "\n",
    "\n",
    "\n",
    "\n"
   ]
  },
  {
   "cell_type": "markdown",
   "metadata": {},
   "source": [
    "# English dependency parser\n",
    "## Function"
   ]
  },
  {
   "cell_type": "code",
   "execution_count": 519,
   "metadata": {},
   "outputs": [
    {
     "name": "stderr",
     "output_type": "stream",
     "text": [
      "2021-05-23 12:20:38 WARNING: Can not find mwt: default from official model list. Ignoring it.\n",
      "2021-05-23 12:20:38 INFO: Loading these models for language: en (English):\n",
      "========================\n",
      "| Processor | Package  |\n",
      "------------------------\n",
      "| tokenize  | combined |\n",
      "| pos       | combined |\n",
      "| lemma     | combined |\n",
      "| depparse  | combined |\n",
      "========================\n",
      "\n",
      "2021-05-23 12:20:38 INFO: Use device: cpu\n",
      "2021-05-23 12:20:38 INFO: Loading: tokenize\n",
      "2021-05-23 12:20:38 INFO: Loading: pos\n",
      "2021-05-23 12:20:39 INFO: Loading: lemma\n",
      "2021-05-23 12:20:39 INFO: Loading: depparse\n",
      "2021-05-23 12:20:40 INFO: Done loading processors!\n"
     ]
    }
   ],
   "source": [
    "dep_parser_en = stanza.Pipeline(lang='en', processors='tokenize,mwt,pos,lemma,depparse')\n",
    "\n",
    "def check_if_passive_en(sentence, dep_parser, method1=True):\n",
    "    '''\n",
    "    ADD DOCSTRING\n",
    "    '''\n",
    "\n",
    "    sentence = str(sentence)\n",
    "    doc = dep_parser(sentence)\n",
    "    num_passive = 0\n",
    "    sent_lst = []\n",
    "\n",
    "    for sent in doc.sentences:\n",
    "        for word in sent.words:\n",
    "            deprel = word.deprel\n",
    "            if \"pass\" in deprel:\n",
    "                num_passive += 1\n",
    "                sent_lst.append(sent)\n",
    "\n",
    "    return [num_passive, sent_lst]"
   ]
  },
  {
   "cell_type": "markdown",
   "metadata": {},
   "source": [
    "## Method 1"
   ]
  },
  {
   "cell_type": "code",
   "execution_count": 520,
   "metadata": {},
   "outputs": [
    {
     "name": "stdout",
     "output_type": "stream",
     "text": [
      "Getting num_passive for Pakistan\n"
     ]
    },
    {
     "data": {
      "text/plain": "'\\ndf_uk_comb = df_uk_comb.head(100)\\nprint(\"Getting num_passive for the UK\")\\ndf_uk_comb[\\'passive_instances\\'] = df_uk_comb[\\'combined_text\\'].apply(check_if_passive_en, dep_parser=dep_parser_en)\\n'"
     },
     "execution_count": 520,
     "metadata": {},
     "output_type": "execute_result"
    }
   ],
   "source": [
    "df_pak_comb['combined_text'] = df_pak_comb['title'] + df_pak_comb['text']\n",
    "df_uk_comb['combined_text'] = df_uk_comb['title'] + df_uk_comb['text']\n",
    "\n",
    "df_pak_comb = df_pak_comb.head(10)\n",
    "print(\"Getting num_passive for Pakistan\")\n",
    "df_pak_comb['passive_instances'] = df_pak_comb['combined_text'].apply(check_if_passive_en, dep_parser=dep_parser_en)\n",
    "\n",
    "'''\n",
    "df_uk_comb = df_uk_comb.head(100)\n",
    "print(\"Getting num_passive for the UK\")\n",
    "df_uk_comb['passive_instances'] = df_uk_comb['combined_text'].apply(check_if_passive_en, dep_parser=dep_parser_en)\n",
    "'''\n",
    "#df_pak_comb.to_csv(\"../data/Pakistan/pakistan_stanza_passive.csv\")\n",
    "#df_uk_comb.to_csv(\"../data/UK/uk_stanza_passive.csv\")\n"
   ]
  },
  {
   "cell_type": "code",
   "execution_count": null,
   "metadata": {},
   "outputs": [],
   "source": []
  },
  {
   "cell_type": "markdown",
   "metadata": {},
   "source": [
    "## Method 2\n"
   ]
  },
  {
   "cell_type": "code",
   "execution_count": null,
   "metadata": {},
   "outputs": [],
   "source": []
  },
  {
   "cell_type": "code",
   "execution_count": null,
   "metadata": {},
   "outputs": [],
   "source": [
    "df_uk_comb['combined_text'] = df_uk_comb['title'] + df_uk_comb['text']\n",
    "df_uk_comb[\"combined_text_token\"] = df_uk_comb[\"combined_text\"].apply(lambda x: [sent.text for sent in nlp(x).sents])\n",
    "df_uk_comb_expl = df_uk_comb_expl.explode('combined_text_token')\n",
    "print(df_uk_comb_expl.shape)\n",
    "print(\"Checking if passive: UK\")\n",
    "df_uk_comb_expl['passive_instance'] = df_uk_comb_expl['combined_text_token'].apply(check_if_passive_en, dep_parser=dep_parser_en, method1=False)\n",
    "df_uk_comb_expl.passive_instance.str[0].value_counts()"
   ]
  },
  {
   "cell_type": "code",
   "execution_count": null,
   "metadata": {},
   "outputs": [],
   "source": []
  },
  {
   "cell_type": "markdown",
   "metadata": {},
   "source": []
  },
  {
   "cell_type": "markdown",
   "metadata": {},
   "source": [
    "# Spanish dependency parser\n",
    "\n",
    "## Function\n"
   ]
  },
  {
   "cell_type": "code",
   "execution_count": 506,
   "metadata": {},
   "outputs": [
    {
     "name": "stderr",
     "output_type": "stream",
     "text": [
      "2021-05-23 11:56:51 INFO: Loading these models for language: es (Spanish):\n",
      "=======================\n",
      "| Processor | Package |\n",
      "-----------------------\n",
      "| tokenize  | ancora  |\n",
      "| mwt       | ancora  |\n",
      "| pos       | ancora  |\n",
      "| lemma     | ancora  |\n",
      "| depparse  | ancora  |\n",
      "=======================\n",
      "\n",
      "2021-05-23 11:56:51 INFO: Use device: cpu\n",
      "2021-05-23 11:56:51 INFO: Loading: tokenize\n",
      "2021-05-23 11:56:51 INFO: Loading: mwt\n",
      "2021-05-23 11:56:51 INFO: Loading: pos\n",
      "2021-05-23 11:56:52 INFO: Loading: lemma\n",
      "2021-05-23 11:56:52 INFO: Loading: depparse\n",
      "2021-05-23 11:56:52 INFO: Done loading processors!\n"
     ]
    }
   ],
   "source": [
    "dep_parser_es = stanza.Pipeline(lang='es', processors='tokenize,mwt,pos,lemma,depparse')\n",
    "\n",
    "def check_if_passive_es(sentence, dep_parser, method1=True):\n",
    "    \n",
    "    '''\n",
    "    ADD DOCSTRING\n",
    "    '''\n",
    "\n",
    "    doc = dep_parser(sentence)\n",
    "\n",
    "    pr1 = ['det', 'nsubj', 'aux', 'root']\n",
    "    pr2 = ['det', 'nsubj', 'advmod', 'aux', 'aux', 'root']\n",
    "    pr3 = ['det', 'nsubj', 'amod', 'aux', 'root']\n",
    "    pr4 = ['det', 'nsubj', 'aux', 'root', 'case', 'det']\n",
    "    pr5 = \"pass\" #expletive passive\n",
    "\n",
    "\n",
    "    sent_lst = []\n",
    "    num_passive = 0\n",
    "    num_passive_expl = 0\n",
    "\n",
    "    for sent in doc.sentences:\n",
    "        num_passive = 0\n",
    "        num_passive_expl = 0\n",
    "\n",
    "        sent_lst = []\n",
    "        deprel_lst = []\n",
    "        for word in sent.words:\n",
    "            deprel = word.deprel\n",
    "            deprel_lst.append(deprel)\n",
    "            sent_lst.append(sent)\n",
    "\n",
    "            if pr1 in deprel_lst or pr2 in deprel_lst or pr3 in deprel_lst or pr4 in deprel_lst:\n",
    "                num_passive += 1\n",
    "                return [num_passive, num_passive_expl, sent_lst]\n",
    "\n",
    "            if pr5 in deprel:\n",
    "                num_passive_expl +=1\n",
    "                return [num_passive, num_passive_expl, sent_lst]\n",
    "            \n",
    "\n",
    "    return [num_passive, num_passive_expl, sent_lst]\n",
    "            "
   ]
  },
  {
   "cell_type": "markdown",
   "metadata": {},
   "source": [
    "## Method 1"
   ]
  },
  {
   "cell_type": "code",
   "execution_count": 507,
   "metadata": {},
   "outputs": [
    {
     "name": "stdout",
     "output_type": "stream",
     "text": [
      "Getting num_passive for Mexico\n"
     ]
    },
    {
     "data": {
      "text/plain": "0    [0, 1, [[\\n  {\\n    \"id\": 1,\\n    \"text\": \"Lue...\n1    [0, 1, [[\\n  {\\n    \"id\": 1,\\n    \"text\": \"Jau...\n2    [0, 1, [[\\n  {\\n    \"id\": 1,\\n    \"text\": \"Las...\n3    [0, 1, [[\\n  {\\n    \"id\": 1,\\n    \"text\": \"Aca...\n4    [0, 1, [[\\n  {\\n    \"id\": 1,\\n    \"text\": \"Ay...\n5    [0, 1, [[\\n  {\\n    \"id\": 1,\\n    \"text\": \"En\"...\n6    [0, 1, [[\\n  {\\n    \"id\": 1,\\n    \"text\": \"De\"...\n7    [0, 1, [[\\n  {\\n    \"id\": 1,\\n    \"text\": \"En\"...\n8    [0, 1, [[\\n  {\\n    \"id\": 1,\\n    \"text\": \"Los...\n9    [0, 1, [[\\n  {\\n    \"id\": 1,\\n    \"text\": \"Hay...\nName: passive_instances, dtype: object"
     },
     "execution_count": 507,
     "metadata": {},
     "output_type": "execute_result"
    }
   ],
   "source": [
    "df_mex_comb['combined_text'] = df_mex_comb['title'] + df_mex_comb['text']\n",
    "print(\"Getting num_passive for Mexico\")\n",
    "df_mex_comb['passive_instances'] = df_mex_comb['combined_text'].apply(check_if_passive_es, dep_parser=dep_parser_es)\n",
    "#df_mex_comb.to_csv(\"../data/Mexico/mexico_stanza_passive.csv\")"
   ]
  },
  {
   "cell_type": "code",
   "execution_count": null,
   "metadata": {},
   "outputs": [],
   "source": []
  },
  {
   "cell_type": "markdown",
   "metadata": {},
   "source": [
    "## Method 2"
   ]
  },
  {
   "cell_type": "code",
   "execution_count": 496,
   "metadata": {},
   "outputs": [
    {
     "name": "stdout",
     "output_type": "stream",
     "text": [
      "Tokenizing Mexico\n",
      "(10, 18)\n",
      "Checking if passive: Mexico\n"
     ]
    },
    {
     "data": {
      "text/plain": "0    [0, [[\\n  {\\n    \"id\": 1,\\n    \"text\": \"Frida\"...\n0    [1, [[\\n  {\\n    \"id\": 1,\\n    \"text\": \"Luego\"...\n0    [0, [[\\n  {\\n    \"id\": 1,\\n    \"text\": \"Y\",\\n ...\n0    [0, [[\\n  {\\n    \"id\": 1,\\n    \"text\": \"La\",\\n...\n0    [0, [[\\n  {\\n    \"id\": 1,\\n    \"text\": \"Recien...\n0    [0, [[\\n  {\\n    \"id\": 1,\\n    \"text\": \"¿\",\\n ...\n0    [0, [[\\n  {\\n    \"id\": 1,\\n    \"text\": \"Frida\"...\n0    [0, [[\\n  {\\n    \"id\": 1,\\n    \"text\": \"Y\",\\n ...\n0    [0, [[\\n  {\\n    \"id\": 1,\\n    \"text\": \"La\",\\n...\n0    [0, [[\\n  {\\n    \"id\": 1,\\n    \"text\": \"\\\"\",\\n...\nName: passive_instance, dtype: object"
     },
     "execution_count": 496,
     "metadata": {},
     "output_type": "execute_result"
    }
   ],
   "source": [
    "nlp = spacy.load(\"es_core_news_sm\")\n",
    "\n",
    "print(\"Tokenizing Mexico\")\n",
    "df_mex_comb['combined_text'] = df_mex_comb['title'] + df_mex_comb['text']\n",
    "df_mex_comb[\"combined_text_token\"] = df_mex_comb[\"combined_text\"].head(10).apply(lambda x: [sent.text for sent in nlp(x).sents])\n",
    "df_mex_comb_expl = df_mex_comb.explode('combined_text_token')\n",
    "df_mex_comb_expl = df_mex_comb_expl.head(10)\n",
    "print(df_mex_comb_expl.shape)\n",
    "print(\"Checking if passive: Mexico\")\n",
    "df_mex_comb_expl['passive_instance'] = df_mex_comb_expl['combined_text_token'].apply(check_if_passive_es, dep_parser=dep_parser_es, method1=False)\n",
    "\n",
    "df_mex_comb_expl.passive_instance\n"
   ]
  },
  {
   "cell_type": "code",
   "execution_count": 396,
   "metadata": {},
   "outputs": [
    {
     "data": {
      "text/plain": "0    8432\nName: passive_instances, dtype: int64"
     },
     "execution_count": 396,
     "metadata": {},
     "output_type": "execute_result"
    }
   ],
   "source": []
  },
  {
   "cell_type": "code",
   "execution_count": 398,
   "metadata": {},
   "outputs": [
    {
     "data": {
      "text/plain": "0    7043\nName: passive_instances, dtype: int64"
     },
     "execution_count": 398,
     "metadata": {},
     "output_type": "execute_result"
    }
   ],
   "source": []
  },
  {
   "cell_type": "code",
   "execution_count": 399,
   "metadata": {},
   "outputs": [
    {
     "data": {
      "text/plain": "0    2263\nName: passive_instances, dtype: int64"
     },
     "execution_count": 399,
     "metadata": {},
     "output_type": "execute_result"
    }
   ],
   "source": []
  },
  {
   "cell_type": "code",
   "execution_count": null,
   "metadata": {},
   "outputs": [],
   "source": []
  }
 ],
 "metadata": {
  "language_info": {},
  "orig_nbformat": 3
 },
 "nbformat": 4,
 "nbformat_minor": 4
}