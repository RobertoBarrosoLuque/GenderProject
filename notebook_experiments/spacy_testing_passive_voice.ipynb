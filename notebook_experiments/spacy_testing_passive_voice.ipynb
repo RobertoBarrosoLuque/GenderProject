{
 "cells": [
  {
   "cell_type": "code",
   "execution_count": 1,
   "metadata": {},
   "outputs": [],
   "source": [
    "import spacy\n",
    "from spacy.matcher import Matcher\n",
    "import pandas as pd\n",
    "import numpy as np\n",
    "import codecs"
   ]
  },
  {
   "cell_type": "code",
   "execution_count": 4,
   "metadata": {},
   "outputs": [],
   "source": [
    "path = \"/Users/rukhshan/Documents/GitHub/adv_ml/\"\n",
    "df_pak = pd.read_csv(path + \"GenderProject/data/Pakistan/pak_extracted_combined.csv\")\n",
    "\n",
    "df_guardian = pd.read_csv(path + \"GenderProject/data/UK/guardian_scraped_cleaned.csv\")\n",
    "df_sun = pd.read_csv(path + \"GenderProject/data/UK/sun_scraped_cleaned.csv\")\n",
    "df_times = pd.read_csv(path + \"GenderProject/data/UK/times_scraped_cleaned.csv\")\n",
    "\n",
    "combined_df_en = df_pak.append(df_guardian).append(df_sun).append(df_times)\n",
    "\n",
    "df_eluni = pd.read_excel(path + \"GenderProject/data/Mexico/el_universal_scraped.xlsx\")\n",
    "df_heraldo = pd.read_excel(path + \"GenderProject/data/Mexico/Heraldo_scraped.xlsx\")\n",
    "df_lajornada = pd.read_excel(path + \"GenderProject/data/Mexico/la_jornada_scraped.xlsx\")\n",
    "\n",
    "combined_df_es = df_eluni.append(df_heraldo).append(df_lajornada)\n",
    "\n",
    "\n",
    "combined_df_en['text_comb'] = combined_df_en['title'] + \" \"  + combined_df_en['text']\n",
    "combined_df_es['text_comb'] = combined_df_es['title'] + \" \"  + combined_df_es['text']\n"
   ]
  },
  {
   "cell_type": "code",
   "execution_count": 29,
   "metadata": {},
   "outputs": [],
   "source": [
    "combined_df_en_test = combined_df_en.head(1000)\n",
    "combined_df_es_test = combined_df_es.head(1000)"
   ]
  },
  {
   "cell_type": "code",
   "execution_count": 30,
   "metadata": {},
   "outputs": [],
   "source": [
    "text_en = '\\n'.join([str(elem) for elem in list(set(combined_df_en_test.text_comb.to_list()))])\n",
    "text_es = '\\n'.join([str(elem) for elem in list(set(combined_df_es_test.text_comb.to_list()))])"
   ]
  },
  {
   "cell_type": "code",
   "execution_count": 35,
   "metadata": {},
   "outputs": [
    {
     "name": "stdout",
     "output_type": "stream",
     "text": [
      "1000000\n",
      "1000000\n"
     ]
    }
   ],
   "source": [
    "##max number of characters in a string = 1000000\n",
    "print(len(text_en[0:1000000]))\n",
    "print(len(text_es[0:1000000]))\n",
    "\n",
    "text_es = text_en[0:1000000]\n",
    "text_en = text_es[0:1000000]"
   ]
  },
  {
   "cell_type": "code",
   "execution_count": null,
   "metadata": {},
   "outputs": [],
   "source": []
  },
  {
   "cell_type": "code",
   "execution_count": null,
   "metadata": {},
   "outputs": [],
   "source": []
  },
  {
   "cell_type": "code",
   "execution_count": 37,
   "metadata": {},
   "outputs": [],
   "source": [
    "sents = list(doc.sents)"
   ]
  },
  {
   "cell_type": "code",
   "execution_count": 38,
   "metadata": {},
   "outputs": [
    {
     "name": "stdout",
     "output_type": "stream",
     "text": [
      "Number of Sentences =  7172\n"
     ]
    }
   ],
   "source": [
    "nlp_es = spacy.load('es_core_news_sm')\n",
    "\n",
    "#SPANISH\n",
    "matcher = Matcher(nlp_es.vocab)\n",
    "doc = nlp_es(text_es)\n",
    "sents = list(doc.sents)\n",
    "print(\"Number of Sentences = \",len(sents))\n",
    "        #print(token.dep_,token.tag_, end = \" \")\n",
    "    #print()\n"
   ]
  },
  {
   "cell_type": "code",
   "execution_count": 39,
   "metadata": {},
   "outputs": [
    {
     "name": "stdout",
     "output_type": "stream",
     "text": [
      "0\n"
     ]
    }
   ],
   "source": [
    "Passive = text_es\n",
    "passive_rule = [[{'DEP':'nsubjpass'},{'DEP':'aux','OP':'*'},{'DEP':'auxpass'},{'TAG':'VBN'}]]\n",
    "matcher.add('Passive', passive_rule)\n",
    "matches = matcher(doc)\n",
    "print(len(matches))"
   ]
  },
  {
   "cell_type": "code",
   "execution_count": 40,
   "metadata": {},
   "outputs": [
    {
     "name": "stdout",
     "output_type": "stream",
     "text": [
      "Number of Sentences =  10233\n"
     ]
    }
   ],
   "source": [
    "# ENGLISH\n",
    "nlp_en = spacy.load('en_core_web_lg')\n",
    "matcher = Matcher(nlp_en.vocab)\n",
    "doc = nlp_en(text_en)\n",
    "sents = list(doc.sents)\n",
    "print(\"Number of Sentences = \",len(sents))\n",
    "\n",
    "    #    print(token.dep_,token.tag_, end = \" \")\n",
    "    #print()"
   ]
  },
  {
   "cell_type": "code",
   "execution_count": 41,
   "metadata": {},
   "outputs": [
    {
     "name": "stdout",
     "output_type": "stream",
     "text": [
      "1263\n"
     ]
    }
   ],
   "source": [
    "Passive = text_en\n",
    "passive_rule = [[{'DEP':'nsubjpass'},{'DEP':'aux','OP':'*'},{'DEP':'auxpass'},{'TAG':'VBN'}]]\n",
    "matcher.add('Passive', passive_rule)\n",
    "matches = matcher(doc)\n",
    "print(len(matches))"
   ]
  },
  {
   "cell_type": "code",
   "execution_count": null,
   "metadata": {},
   "outputs": [],
   "source": []
  },
  {
   "cell_type": "code",
   "execution_count": null,
   "metadata": {},
   "outputs": [],
   "source": []
  },
  {
   "cell_type": "code",
   "execution_count": null,
   "metadata": {},
   "outputs": [],
   "source": []
  }
 ],
 "metadata": {
  "kernelspec": {
   "display_name": "Python 3",
   "language": "python",
   "name": "python3"
  },
  "language_info": {
   "codemirror_mode": {
    "name": "ipython",
    "version": 3
   },
   "file_extension": ".py",
   "mimetype": "text/x-python",
   "name": "python",
   "nbconvert_exporter": "python",
   "pygments_lexer": "ipython3",
   "version": "3.7.6"
  }
 },
 "nbformat": 4,
 "nbformat_minor": 4
}
