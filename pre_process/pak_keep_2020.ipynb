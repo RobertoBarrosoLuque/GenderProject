{
 "cells": [
  {
   "cell_type": "code",
   "execution_count": 3,
   "metadata": {},
   "outputs": [],
   "source": [
    "import pandas as pd\n",
    "import numpy as np"
   ]
  },
  {
   "cell_type": "code",
   "execution_count": 4,
   "metadata": {},
   "outputs": [],
   "source": [
    "df = pd.read_csv(\"/Users/rukhshan/Documents/GitHub/adv_ml/GenderProject/data/Pakistan/pak_extracted_combined.csv\")"
   ]
  },
  {
   "cell_type": "code",
   "execution_count": 6,
   "metadata": {},
   "outputs": [],
   "source": [
    "df['newspaper'] = np.where(df.link.str.contains(\"nation.com\"), \"nation\", np.where(\n",
    "                        df.link.str.contains(\"news.com\"), \"news\", np.where(\n",
    "                        df.link.str.contains(\"dawn.com\"), \"dawn\", \"\")))"
   ]
  },
  {
   "cell_type": "code",
   "execution_count": 7,
   "metadata": {},
   "outputs": [],
   "source": [
    "df_dt = pd.read_csv(\"/Users/rukhshan/Documents/GitHub/adv_ml/GenderProject/data/Pakistan/news_datetime.csv\")\n",
    "df_dt = df_dt[['link', 'datetime']]\n",
    "df_dt.rename(columns={'datetime': 'date'}, inplace=True)"
   ]
  },
  {
   "cell_type": "code",
   "execution_count": 8,
   "metadata": {},
   "outputs": [],
   "source": [
    "df_new = df.merge(df_dt, on='link', how='outer')\n",
    "df_new['datetime_form'] = pd.to_datetime(df_new.datetime, errors='coerce', utc=True).dt.date\n",
    "df_new['datetime_form'] = np.where(df_new.datetime_form.isnull(), df_new.date, df_new.datetime_form)\n",
    "df_new['datetime_form'] = pd.to_datetime(df_new['datetime_form']).dt.date"
   ]
  },
  {
   "cell_type": "code",
   "execution_count": 9,
   "metadata": {},
   "outputs": [],
   "source": [
    "filter_date = pd.to_datetime(\"2020-01-01\").date()\n",
    "\n",
    "df_filtered = df_new[df_new['datetime_form']>=filter_date]"
   ]
  },
  {
   "cell_type": "code",
   "execution_count": 10,
   "metadata": {},
   "outputs": [
    {
     "data": {
      "text/plain": "news      485\nnation    271\ndawn      115\nName: newspaper, dtype: int64"
     },
     "execution_count": 10,
     "metadata": {},
     "output_type": "execute_result"
    }
   ],
   "source": [
    "df_filtered.newspaper.value_counts()\n",
    "\n",
    "#df_filtered.to_csv(\"/Users/rukhshan/Documents/GitHub/adv_ml/GenderProject/data/Pakistan/pak_extracted_combined_2020.csv\")"
   ]
  },
  {
   "cell_type": "code",
   "execution_count": 20,
   "metadata": {},
   "outputs": [],
   "source": [
    "import random\n",
    "def get_random_subset_df(df: pd.DataFrame, n_rows: int = 300):\n",
    "    '''\n",
    "    Get a random subset of a df\n",
    "    inputs:\n",
    "        df: pandas dataframe to get a subset of\n",
    "        n_rows: int, number of rows of dataframe to return (default is 100)\n",
    "    returns:\n",
    "        subset of n_rows of the dataframe (random rows)\n",
    "    '''\n",
    "    randints = random.sample(range(0, len(df)), n_rows)\n",
    "    return df.iloc[randints, :]"
   ]
  },
  {
   "cell_type": "code",
   "execution_count": 25,
   "metadata": {},
   "outputs": [
    {
     "name": "stderr",
     "output_type": "stream",
     "text": [
      "ipykernel_launcher:1: UserWarning: Boolean Series key will be reindexed to match DataFrame index.\n",
      "ipykernel_launcher:2: UserWarning: Boolean Series key will be reindexed to match DataFrame index.\n",
      "ipykernel_launcher:3: UserWarning: Boolean Series key will be reindexed to match DataFrame index.\n"
     ]
    },
    {
     "data": {
      "text/html": "<div>\n<style scoped>\n    .dataframe tbody tr th:only-of-type {\n        vertical-align: middle;\n    }\n\n    .dataframe tbody tr th {\n        vertical-align: top;\n    }\n\n    .dataframe thead th {\n        text-align: right;\n    }\n</style>\n<table border=\"1\" class=\"dataframe\">\n  <thead>\n    <tr style=\"text-align: right;\">\n      <th></th>\n      <th>Unnamed: 0</th>\n      <th>Unnamed: 0.1</th>\n      <th>link</th>\n      <th>datetime</th>\n      <th>title</th>\n      <th>text</th>\n      <th>authors</th>\n      <th>summary</th>\n      <th>keywords</th>\n      <th>images</th>\n      <th>...</th>\n      <th>Unnamed: 49</th>\n      <th>Unnamed: 50</th>\n      <th>Unnamed: 51</th>\n      <th>Unnamed: 52</th>\n      <th>Unnamed: 53</th>\n      <th>Unnamed: 54</th>\n      <th>Unnamed: 55</th>\n      <th>newspaper</th>\n      <th>date</th>\n      <th>datetime_form</th>\n    </tr>\n  </thead>\n  <tbody>\n    <tr>\n      <td>0</td>\n      <td>0</td>\n      <td>0</td>\n      <td>https://nation.com.pk/09-Oct-2020/7th-session-...</td>\n      <td>2020-07-02 00:00:00</td>\n      <td>7th session of campaign against child abuse he...</td>\n      <td>Share:\\n\\nDirector General (IC) Ministry of Hu...</td>\n      <td>['Web Desk']</td>\n      <td>Share:Director General (IC) Ministry of Human ...</td>\n      <td>['teachings', 'speak', 'campaign', 'islamabad'...</td>\n      <td>{'https://nation.com.pk/assets/thenation/image...</td>\n      <td>...</td>\n      <td>NaN</td>\n      <td>NaN</td>\n      <td>NaN</td>\n      <td>NaN</td>\n      <td>NaN</td>\n      <td>NaN</td>\n      <td>NaN</td>\n      <td>nation</td>\n      <td>NaN</td>\n      <td>2020-07-02</td>\n    </tr>\n    <tr>\n      <td>1</td>\n      <td>1</td>\n      <td>1</td>\n      <td>https://nation.com.pk/19-Nov-2020/man-arrested...</td>\n      <td>2020-11-19 02:46:27+05:00</td>\n      <td>Man arrested in rape-cum-murder of minor</td>\n      <td>Share:\\n\\nSARGODHA - The police arrested an ac...</td>\n      <td>['Staff Reporter']</td>\n      <td>Share:SARGODHA - The police arrested an accuse...</td>\n      <td>['village', 'took', 'locals', 'minor', 'saiful...</td>\n      <td>{'https://nation.com.pk/assets/thenation/image...</td>\n      <td>...</td>\n      <td>NaN</td>\n      <td>NaN</td>\n      <td>NaN</td>\n      <td>NaN</td>\n      <td>NaN</td>\n      <td>NaN</td>\n      <td>NaN</td>\n      <td>nation</td>\n      <td>NaN</td>\n      <td>2020-11-18</td>\n    </tr>\n    <tr>\n      <td>8</td>\n      <td>8</td>\n      <td>8</td>\n      <td>https://nation.com.pk/03-Oct-2020/marwah-s-mur...</td>\n      <td>2020-10-02 22:03:51+05:00</td>\n      <td>Marwah’s murder case</td>\n      <td>Share:\\n\\nMost of us remember the story of sev...</td>\n      <td>[]</td>\n      <td>Share:Most of us remember the story of seven y...</td>\n      <td>['raped', 'case', 'system', 'zainab', 'victim'...</td>\n      <td>{'https://nation.com.pk/assets/thenation/image...</td>\n      <td>...</td>\n      <td>NaN</td>\n      <td>NaN</td>\n      <td>NaN</td>\n      <td>NaN</td>\n      <td>NaN</td>\n      <td>NaN</td>\n      <td>NaN</td>\n      <td>nation</td>\n      <td>NaN</td>\n      <td>2020-10-02</td>\n    </tr>\n    <tr>\n      <td>10</td>\n      <td>10</td>\n      <td>10</td>\n      <td>https://nation.com.pk/12-Mar-2020/polarisation...</td>\n      <td>2020-03-11 23:56:14+05:00</td>\n      <td>Polarisation is the beginning</td>\n      <td>Share:\\n\\nThe Aurat March 2020 has been dividi...</td>\n      <td>['Irtiza Shafaat Bokharee']</td>\n      <td>This is not to say that the current struggle f...</td>\n      <td>['beginning', 'way', 'sexual', 'struggle', 'wo...</td>\n      <td>{'https://nation.com.pk/assets/thenation/image...</td>\n      <td>...</td>\n      <td>NaN</td>\n      <td>NaN</td>\n      <td>NaN</td>\n      <td>NaN</td>\n      <td>NaN</td>\n      <td>NaN</td>\n      <td>NaN</td>\n      <td>nation</td>\n      <td>NaN</td>\n      <td>2020-03-11</td>\n    </tr>\n    <tr>\n      <td>11</td>\n      <td>11</td>\n      <td>11</td>\n      <td>https://nation.com.pk/30-Dec-2020/rape-murder-...</td>\n      <td>2020-12-30 01:51:16+05:00</td>\n      <td>Rape, murder accused remanded in police custody</td>\n      <td>Share:\\n\\nLAHORE - A local court on Tuesday ha...</td>\n      <td>['Staff Reporter']</td>\n      <td>Share:LAHORE - A local court on Tuesday handed...</td>\n      <td>['remanded', 'physical', 'took', 'custody', 'm...</td>\n      <td>{'https://nation.com.pk/assets/thenation/image...</td>\n      <td>...</td>\n      <td>NaN</td>\n      <td>NaN</td>\n      <td>NaN</td>\n      <td>NaN</td>\n      <td>NaN</td>\n      <td>NaN</td>\n      <td>NaN</td>\n      <td>nation</td>\n      <td>NaN</td>\n      <td>2020-12-29</td>\n    </tr>\n    <tr>\n      <td>...</td>\n      <td>...</td>\n      <td>...</td>\n      <td>...</td>\n      <td>...</td>\n      <td>...</td>\n      <td>...</td>\n      <td>...</td>\n      <td>...</td>\n      <td>...</td>\n      <td>...</td>\n      <td>...</td>\n      <td>...</td>\n      <td>...</td>\n      <td>...</td>\n      <td>...</td>\n      <td>...</td>\n      <td>...</td>\n      <td>...</td>\n      <td>...</td>\n      <td>...</td>\n      <td>...</td>\n    </tr>\n    <tr>\n      <td>963</td>\n      <td>963</td>\n      <td>964</td>\n      <td>https://nation.com.pk/06-Jan-2021/girl-dies-as...</td>\n      <td>2021-01-06 01:42:20+05:00</td>\n      <td>Girl dies as lightning strikes</td>\n      <td>Share:\\n\\nISLAMABAD -A lightning strike killed...</td>\n      <td>['Israr Ahmad']</td>\n      <td>Share:ISLAMABAD -A lightning strike killed a 1...</td>\n      <td>['sector', 'sustained', 'd12', 'sources', 'pin...</td>\n      <td>{'https://nation.com.pk/assets/thenation/image...</td>\n      <td>...</td>\n      <td>NaN</td>\n      <td>NaN</td>\n      <td>NaN</td>\n      <td>NaN</td>\n      <td>NaN</td>\n      <td>NaN</td>\n      <td>NaN</td>\n      <td>nation</td>\n      <td>NaN</td>\n      <td>2021-01-05</td>\n    </tr>\n    <tr>\n      <td>964</td>\n      <td>964</td>\n      <td>965</td>\n      <td>https://nation.com.pk/25-Mar-2020/kite-flying-...</td>\n      <td>2020-03-25 01:57:43+05:00</td>\n      <td>Kite flying kills another man during lockdown</td>\n      <td>Share:\\n\\nLAHORE - A 25-year-old boy was kille...</td>\n      <td>['Our Staff Report']</td>\n      <td>Share:LAHORE - A 25-year-old boy was killed wh...</td>\n      <td>['injured', 'dolphin', 'lockdown', 'stray', 'm...</td>\n      <td>{'https://nation.com.pk/assets/thenation/image...</td>\n      <td>...</td>\n      <td>NaN</td>\n      <td>NaN</td>\n      <td>NaN</td>\n      <td>NaN</td>\n      <td>NaN</td>\n      <td>NaN</td>\n      <td>NaN</td>\n      <td>nation</td>\n      <td>NaN</td>\n      <td>2020-03-24</td>\n    </tr>\n    <tr>\n      <td>974</td>\n      <td>974</td>\n      <td>975</td>\n      <td>https://nation.com.pk/24-Sep-2020/young-boy-mo...</td>\n      <td>2020-09-24 02:18:52+05:00</td>\n      <td>Young boy molested, murdered in Swat town</td>\n      <td>Share:\\n\\nSwat - A thirteen-year-old boy was s...</td>\n      <td>['Our Staff Reporter']</td>\n      <td>Share:Swat - A thirteen-year-old boy was stran...</td>\n      <td>['investigation', 'town', 'murdered', 'waqar',...</td>\n      <td>{'https://nation.com.pk/assets/thenation/image...</td>\n      <td>...</td>\n      <td>NaN</td>\n      <td>NaN</td>\n      <td>NaN</td>\n      <td>NaN</td>\n      <td>NaN</td>\n      <td>NaN</td>\n      <td>NaN</td>\n      <td>nation</td>\n      <td>NaN</td>\n      <td>2020-09-23</td>\n    </tr>\n    <tr>\n      <td>977</td>\n      <td>977</td>\n      <td>978</td>\n      <td>https://nation.com.pk/23-Feb-2021/india-using-...</td>\n      <td>2021-02-23 11:53:00+05:00</td>\n      <td>India using rape, torture of Kashmiri women as...</td>\n      <td>Share:\\n\\nThe Foreign Office on Tuesday said I...</td>\n      <td>[]</td>\n      <td>Share:The Foreign Office on Tuesday said India...</td>\n      <td>['stateterrorism', 'india', 'foreign', 'women'...</td>\n      <td>{'https://nation.com.pk/assets/thenation/image...</td>\n      <td>...</td>\n      <td>NaN</td>\n      <td>NaN</td>\n      <td>NaN</td>\n      <td>NaN</td>\n      <td>NaN</td>\n      <td>NaN</td>\n      <td>NaN</td>\n      <td>nation</td>\n      <td>NaN</td>\n      <td>2021-02-23</td>\n    </tr>\n    <tr>\n      <td>983</td>\n      <td>983</td>\n      <td>984</td>\n      <td>https://nation.com.pk/14-Jul-2020/cm-buzdar-ta...</td>\n      <td>2020-07-14 17:30:00+05:00</td>\n      <td>CM Buzdar takes notice of murder of girl in Si...</td>\n      <td>Share:\\n\\nPunjab Chief Minister, Sardar Usman ...</td>\n      <td>['Web Desk']</td>\n      <td>Share:Punjab Chief Minister, Sardar Usman Buzd...</td>\n      <td>['taken', 'villagein', 'usman', 'took', 'sialk...</td>\n      <td>{'https://nation.com.pk/assets/thenation/image...</td>\n      <td>...</td>\n      <td>NaN</td>\n      <td>NaN</td>\n      <td>NaN</td>\n      <td>NaN</td>\n      <td>NaN</td>\n      <td>NaN</td>\n      <td>NaN</td>\n      <td>nation</td>\n      <td>NaN</td>\n      <td>2020-07-14</td>\n    </tr>\n  </tbody>\n</table>\n<p>271 rows × 60 columns</p>\n</div>",
      "text/plain": "     Unnamed: 0 Unnamed: 0.1  \\\n0             0            0   \n1             1            1   \n8             8            8   \n10           10           10   \n11           11           11   \n..          ...          ...   \n963         963          964   \n964         964          965   \n974         974          975   \n977         977          978   \n983         983          984   \n\n                                                  link  \\\n0    https://nation.com.pk/09-Oct-2020/7th-session-...   \n1    https://nation.com.pk/19-Nov-2020/man-arrested...   \n8    https://nation.com.pk/03-Oct-2020/marwah-s-mur...   \n10   https://nation.com.pk/12-Mar-2020/polarisation...   \n11   https://nation.com.pk/30-Dec-2020/rape-murder-...   \n..                                                 ...   \n963  https://nation.com.pk/06-Jan-2021/girl-dies-as...   \n964  https://nation.com.pk/25-Mar-2020/kite-flying-...   \n974  https://nation.com.pk/24-Sep-2020/young-boy-mo...   \n977  https://nation.com.pk/23-Feb-2021/india-using-...   \n983  https://nation.com.pk/14-Jul-2020/cm-buzdar-ta...   \n\n                      datetime  \\\n0          2020-07-02 00:00:00   \n1    2020-11-19 02:46:27+05:00   \n8    2020-10-02 22:03:51+05:00   \n10   2020-03-11 23:56:14+05:00   \n11   2020-12-30 01:51:16+05:00   \n..                         ...   \n963  2021-01-06 01:42:20+05:00   \n964  2020-03-25 01:57:43+05:00   \n974  2020-09-24 02:18:52+05:00   \n977  2021-02-23 11:53:00+05:00   \n983  2020-07-14 17:30:00+05:00   \n\n                                                 title  \\\n0    7th session of campaign against child abuse he...   \n1             Man arrested in rape-cum-murder of minor   \n8                                 Marwah’s murder case   \n10                       Polarisation is the beginning   \n11     Rape, murder accused remanded in police custody   \n..                                                 ...   \n963                     Girl dies as lightning strikes   \n964      Kite flying kills another man during lockdown   \n974          Young boy molested, murdered in Swat town   \n977  India using rape, torture of Kashmiri women as...   \n983  CM Buzdar takes notice of murder of girl in Si...   \n\n                                                  text  \\\n0    Share:\\n\\nDirector General (IC) Ministry of Hu...   \n1    Share:\\n\\nSARGODHA - The police arrested an ac...   \n8    Share:\\n\\nMost of us remember the story of sev...   \n10   Share:\\n\\nThe Aurat March 2020 has been dividi...   \n11   Share:\\n\\nLAHORE - A local court on Tuesday ha...   \n..                                                 ...   \n963  Share:\\n\\nISLAMABAD -A lightning strike killed...   \n964  Share:\\n\\nLAHORE - A 25-year-old boy was kille...   \n974  Share:\\n\\nSwat - A thirteen-year-old boy was s...   \n977  Share:\\n\\nThe Foreign Office on Tuesday said I...   \n983  Share:\\n\\nPunjab Chief Minister, Sardar Usman ...   \n\n                         authors  \\\n0                   ['Web Desk']   \n1             ['Staff Reporter']   \n8                             []   \n10   ['Irtiza Shafaat Bokharee']   \n11            ['Staff Reporter']   \n..                           ...   \n963              ['Israr Ahmad']   \n964         ['Our Staff Report']   \n974       ['Our Staff Reporter']   \n977                           []   \n983                 ['Web Desk']   \n\n                                               summary  \\\n0    Share:Director General (IC) Ministry of Human ...   \n1    Share:SARGODHA - The police arrested an accuse...   \n8    Share:Most of us remember the story of seven y...   \n10   This is not to say that the current struggle f...   \n11   Share:LAHORE - A local court on Tuesday handed...   \n..                                                 ...   \n963  Share:ISLAMABAD -A lightning strike killed a 1...   \n964  Share:LAHORE - A 25-year-old boy was killed wh...   \n974  Share:Swat - A thirteen-year-old boy was stran...   \n977  Share:The Foreign Office on Tuesday said India...   \n983  Share:Punjab Chief Minister, Sardar Usman Buzd...   \n\n                                              keywords  \\\n0    ['teachings', 'speak', 'campaign', 'islamabad'...   \n1    ['village', 'took', 'locals', 'minor', 'saiful...   \n8    ['raped', 'case', 'system', 'zainab', 'victim'...   \n10   ['beginning', 'way', 'sexual', 'struggle', 'wo...   \n11   ['remanded', 'physical', 'took', 'custody', 'm...   \n..                                                 ...   \n963  ['sector', 'sustained', 'd12', 'sources', 'pin...   \n964  ['injured', 'dolphin', 'lockdown', 'stray', 'm...   \n974  ['investigation', 'town', 'murdered', 'waqar',...   \n977  ['stateterrorism', 'india', 'foreign', 'women'...   \n983  ['taken', 'villagein', 'usman', 'took', 'sialk...   \n\n                                                images  ... Unnamed: 49  \\\n0    {'https://nation.com.pk/assets/thenation/image...  ...         NaN   \n1    {'https://nation.com.pk/assets/thenation/image...  ...         NaN   \n8    {'https://nation.com.pk/assets/thenation/image...  ...         NaN   \n10   {'https://nation.com.pk/assets/thenation/image...  ...         NaN   \n11   {'https://nation.com.pk/assets/thenation/image...  ...         NaN   \n..                                                 ...  ...         ...   \n963  {'https://nation.com.pk/assets/thenation/image...  ...         NaN   \n964  {'https://nation.com.pk/assets/thenation/image...  ...         NaN   \n974  {'https://nation.com.pk/assets/thenation/image...  ...         NaN   \n977  {'https://nation.com.pk/assets/thenation/image...  ...         NaN   \n983  {'https://nation.com.pk/assets/thenation/image...  ...         NaN   \n\n    Unnamed: 50 Unnamed: 51 Unnamed: 52 Unnamed: 53 Unnamed: 54 Unnamed: 55  \\\n0           NaN         NaN         NaN         NaN         NaN         NaN   \n1           NaN         NaN         NaN         NaN         NaN         NaN   \n8           NaN         NaN         NaN         NaN         NaN         NaN   \n10          NaN         NaN         NaN         NaN         NaN         NaN   \n11          NaN         NaN         NaN         NaN         NaN         NaN   \n..          ...         ...         ...         ...         ...         ...   \n963         NaN         NaN         NaN         NaN         NaN         NaN   \n964         NaN         NaN         NaN         NaN         NaN         NaN   \n974         NaN         NaN         NaN         NaN         NaN         NaN   \n977         NaN         NaN         NaN         NaN         NaN         NaN   \n983         NaN         NaN         NaN         NaN         NaN         NaN   \n\n    newspaper date datetime_form  \n0      nation  NaN    2020-07-02  \n1      nation  NaN    2020-11-18  \n8      nation  NaN    2020-10-02  \n10     nation  NaN    2020-03-11  \n11     nation  NaN    2020-12-29  \n..        ...  ...           ...  \n963    nation  NaN    2021-01-05  \n964    nation  NaN    2020-03-24  \n974    nation  NaN    2020-09-23  \n977    nation  NaN    2021-02-23  \n983    nation  NaN    2020-07-14  \n\n[271 rows x 60 columns]"
     },
     "execution_count": 25,
     "metadata": {},
     "output_type": "execute_result"
    }
   ],
   "source": [
    "dawn_news = df_filtered[df['newspaper']=='dawn']\n",
    "news = get_random_subset_df(df_filtered[df['newspaper']=='news'], 300)\n",
    "nation = df_filtered[df['newspaper']=='nation']\n",
    "nation"
   ]
  },
  {
   "cell_type": "code",
   "execution_count": 28,
   "metadata": {},
   "outputs": [],
   "source": [
    "dawn_news.to_csv(\"/Users/rukhshan/Documents/GitHub/adv_ml/GenderProject/data/data_labelling/Pakistan-dawn-label-2020-115.csv\")\n",
    "news.to_csv(\"/Users/rukhshan/Documents/GitHub/adv_ml/GenderProject/data/data_labelling/Pakistan-news-label-2020-300.csv\")\n",
    "nation.to_csv(\"/Users/rukhshan/Documents/GitHub/adv_ml/GenderProject/data/data_labelling/Pakistan-news-label-2020-271.csv\")\n"
   ]
  }
 ],
 "metadata": {
  "kernelspec": {
   "display_name": "Python 3.7.4 64-bit ('anaconda3': virtualenv)",
   "name": "python374jvsc74a57bd00b65bf2ef877b533c0c05565d5bad13d8e3150e05880d1fab37ebf6665e2b872"
  },
  "language_info": {
   "codemirror_mode": {
    "name": "ipython",
    "version": 3
   },
   "file_extension": ".py",
   "mimetype": "text/x-python",
   "name": "python",
   "nbconvert_exporter": "python",
   "pygments_lexer": "ipython3",
   "version": "3.7.4"
  },
  "orig_nbformat": 2
 },
 "nbformat": 4,
 "nbformat_minor": 2
}