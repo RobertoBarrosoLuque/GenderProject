{
 "cells": [
  {
   "cell_type": "code",
   "execution_count": 177,
   "metadata": {},
   "outputs": [],
   "source": [
    "import pandas as pd\n",
    "import numpy as np\n",
    "import os"
   ]
  },
  {
   "cell_type": "code",
   "execution_count": 178,
   "metadata": {},
   "outputs": [],
   "source": [
    "os.chdir(\"/Users/rukhshan/Documents/GitHub/adv_ml/GenderProject\")"
   ]
  },
  {
   "cell_type": "code",
   "execution_count": null,
   "metadata": {},
   "outputs": [],
   "source": []
  },
  {
   "cell_type": "code",
   "execution_count": 179,
   "metadata": {},
   "outputs": [],
   "source": [
    "df_uk = pd.read_excel(\"data/UK/uk_stanza_passive_900.xlsx\")\n",
    "df_uk['newspaper'] = \"\"\n",
    "df_uk['newspaper'] = np.where(df_uk['link'].str.contains('thesun'), \"sun\", df_uk['newspaper'])\n",
    "df_uk['newspaper'] = np.where(df_uk['link'].str.contains('thetimes'), \"times\", df_uk['newspaper'])\n",
    "df_uk['newspaper'] = np.where(df_uk['link'].isnull(), \"guardian\", df_uk['newspaper'])\n",
    "df_uk = df_uk[['title', 'text', 'combined_text', 'newspaper', 'passive_instances']]\n",
    "\n",
    "df_mex = pd.read_excel(\"data/Mexico/mexico_stanza_passive_900_v2.xlsx\")\n",
    "df_mex['newspaper'] = \"\"\n",
    "df_mex['newspaper'] = np.where(df_mex['link'].str.contains('heraldo'), \"heraldo\", df_mex['newspaper'])\n",
    "df_mex['newspaper'] = np.where(df_mex['link'].str.contains('jornada'), \"jornada\", df_mex['newspaper'])\n",
    "df_mex['newspaper'] = np.where(df_mex['link'].str.contains('eluni'), \"eluni\", df_mex['newspaper'])\n",
    "df_mex = df_mex[['title', 'text', 'combined_text', 'newspaper', 'passive_instances']]\n",
    "\n",
    "df_pak = pd.read_excel(\"data/Pakistan/pakistan_stanza_passive.xlsx\")\n",
    "df_pak = df_pak[['title', 'text', 'combined_text', 'newspaper', 'passive_instances']]\n"
   ]
  },
  {
   "cell_type": "code",
   "execution_count": 180,
   "metadata": {},
   "outputs": [],
   "source": [
    "df_mex['num_passive'] = df_mex['passive_instances'].apply(lambda x: [x[1:3]])\n",
    "df_mex['num_passive'] = df_mex['num_passive'].str[0].replace(\",\", \"\")\n",
    "\n",
    "df_uk['num_passive'] = df_uk['passive_instances'].apply(lambda x: x[1:3])\n",
    "df_uk['num_passive'] = pd.to_numeric(df_uk['num_passive'].str.replace(\",\", \"\"))\n",
    "\n",
    "df_pak['num_passive'] = df_pak['passive_instances'].apply(lambda x: x[1:3])\n",
    "df_pak['num_passive'] = pd.to_numeric(df_pak['num_passive'].str.replace(\",\", \"\"))\n"
   ]
  },
  {
   "cell_type": "code",
   "execution_count": 181,
   "metadata": {},
   "outputs": [
    {
     "data": {
      "text/html": "<div>\n<style scoped>\n    .dataframe tbody tr th:only-of-type {\n        vertical-align: middle;\n    }\n\n    .dataframe tbody tr th {\n        vertical-align: top;\n    }\n\n    .dataframe thead th {\n        text-align: right;\n    }\n</style>\n<table border=\"1\" class=\"dataframe\">\n  <thead>\n    <tr style=\"text-align: right;\">\n      <th></th>\n      <th>passive_instances</th>\n      <th>frequency_of_articles</th>\n    </tr>\n  </thead>\n  <tbody>\n    <tr>\n      <td>0</td>\n      <td>0</td>\n      <td>327</td>\n    </tr>\n    <tr>\n      <td>2</td>\n      <td>1</td>\n      <td>122</td>\n    </tr>\n    <tr>\n      <td>1</td>\n      <td>2</td>\n      <td>127</td>\n    </tr>\n    <tr>\n      <td>3</td>\n      <td>3</td>\n      <td>88</td>\n    </tr>\n    <tr>\n      <td>4</td>\n      <td>4</td>\n      <td>57</td>\n    </tr>\n  </tbody>\n</table>\n</div>",
      "text/plain": "   passive_instances  frequency_of_articles\n0                  0                    327\n2                  1                    122\n1                  2                    127\n3                  3                     88\n4                  4                     57"
     },
     "execution_count": 181,
     "metadata": {},
     "output_type": "execute_result"
    }
   ],
   "source": [
    "df_mex_table = df_mex.num_passive.value_counts().reset_index().rename(columns={'index': 'passive_instances', 'num_passive': 'frequency_of_articles'})\n",
    "df_mex_table['passive_instances'] = pd.to_numeric(df_mex_table['passive_instances'].str.replace(\",\", \"\"))\n",
    "df_mex_table = df_mex_table.sort_values(['passive_instances'])\n",
    "\n",
    "df_mex_table_grp = df_mex.groupby('newspaper')['num_passive'].value_counts().reset_index(name='var').rename(columns={'num_passive': 'passive_instances', 'var': 'frequency_of_articles'})\n",
    "df_mex_table_grp['passive_instances'] = pd.to_numeric(df_mex_table_grp['passive_instances'].str.replace(\",\", \"\"))\n",
    "df_mex_table_grp = df_mex_table_grp.sort_values(['newspaper', 'passive_instances'])\n",
    "\n",
    "df_mex_table.head()"
   ]
  },
  {
   "cell_type": "code",
   "execution_count": 182,
   "metadata": {},
   "outputs": [
    {
     "data": {
      "text/html": "<div>\n<style scoped>\n    .dataframe tbody tr th:only-of-type {\n        vertical-align: middle;\n    }\n\n    .dataframe tbody tr th {\n        vertical-align: top;\n    }\n\n    .dataframe thead th {\n        text-align: right;\n    }\n</style>\n<table border=\"1\" class=\"dataframe\">\n  <thead>\n    <tr style=\"text-align: right;\">\n      <th></th>\n      <th>passive_instances</th>\n      <th>frequency_of_articles</th>\n    </tr>\n  </thead>\n  <tbody>\n    <tr>\n      <td>4</td>\n      <td>0</td>\n      <td>49</td>\n    </tr>\n    <tr>\n      <td>31</td>\n      <td>1</td>\n      <td>6</td>\n    </tr>\n    <tr>\n      <td>1</td>\n      <td>2</td>\n      <td>80</td>\n    </tr>\n    <tr>\n      <td>10</td>\n      <td>3</td>\n      <td>27</td>\n    </tr>\n    <tr>\n      <td>0</td>\n      <td>4</td>\n      <td>86</td>\n    </tr>\n  </tbody>\n</table>\n</div>",
      "text/plain": "    passive_instances  frequency_of_articles\n4                   0                     49\n31                  1                      6\n1                   2                     80\n10                  3                     27\n0                   4                     86"
     },
     "execution_count": 182,
     "metadata": {},
     "output_type": "execute_result"
    }
   ],
   "source": [
    "df_pak_table = df_pak.num_passive.value_counts().reset_index().rename(columns={'index': 'passive_instances', 'num_passive': 'frequency_of_articles'})\n",
    "df_pak_table = df_pak_table.sort_values(['passive_instances'])\n",
    "\n",
    "df_pak_table_grp = df_pak.groupby('newspaper')['num_passive'].value_counts().reset_index(name='var').rename(columns={'num_passive': 'passive_instances', 'var': 'frequency_of_articles'})\n",
    "df_pak_table_grp = df_pak_table_grp.sort_values(['newspaper', 'passive_instances'])\n",
    "\n",
    "df_pak_table.head()\n",
    "\n"
   ]
  },
  {
   "cell_type": "code",
   "execution_count": 183,
   "metadata": {},
   "outputs": [
    {
     "data": {
      "text/html": "<div>\n<style scoped>\n    .dataframe tbody tr th:only-of-type {\n        vertical-align: middle;\n    }\n\n    .dataframe tbody tr th {\n        vertical-align: top;\n    }\n\n    .dataframe thead th {\n        text-align: right;\n    }\n</style>\n<table border=\"1\" class=\"dataframe\">\n  <thead>\n    <tr style=\"text-align: right;\">\n      <th></th>\n      <th>newspaper</th>\n      <th>passive_instances</th>\n      <th>frequency_of_articles</th>\n    </tr>\n  </thead>\n  <tbody>\n    <tr>\n      <td>30</td>\n      <td>guardian</td>\n      <td>0</td>\n      <td>3</td>\n    </tr>\n    <tr>\n      <td>22</td>\n      <td>guardian</td>\n      <td>2</td>\n      <td>6</td>\n    </tr>\n    <tr>\n      <td>38</td>\n      <td>guardian</td>\n      <td>3</td>\n      <td>1</td>\n    </tr>\n    <tr>\n      <td>5</td>\n      <td>guardian</td>\n      <td>4</td>\n      <td>12</td>\n    </tr>\n    <tr>\n      <td>23</td>\n      <td>guardian</td>\n      <td>5</td>\n      <td>6</td>\n    </tr>\n  </tbody>\n</table>\n</div>",
      "text/plain": "   newspaper  passive_instances  frequency_of_articles\n30  guardian                  0                      3\n22  guardian                  2                      6\n38  guardian                  3                      1\n5   guardian                  4                     12\n23  guardian                  5                      6"
     },
     "execution_count": 183,
     "metadata": {},
     "output_type": "execute_result"
    }
   ],
   "source": [
    "df_uk_table = df_uk.num_passive.value_counts().reset_index().rename(columns={'index': 'passive_instances', 'num_passive': 'frequency_of_articles'})\n",
    "df_uk_table = df_uk_table.sort_values(['passive_instances'])\n",
    "\n",
    "df_uk_table_grp = df_uk.groupby('newspaper')['num_passive'].value_counts().reset_index(name='var').rename(columns={'num_passive': 'passive_instances', 'var': 'frequency_of_articles'})\n",
    "df_uk_table_grp = df_uk_table_grp.sort_values(['newspaper', 'passive_instances'])\n",
    "\n",
    "df_uk_table.head()\n",
    "\n",
    "df_uk_table_grp.head()\n",
    "\n"
   ]
  },
  {
   "cell_type": "code",
   "execution_count": 184,
   "metadata": {},
   "outputs": [],
   "source": [
    "#NOMALIZING\n"
   ]
  },
  {
   "cell_type": "markdown",
   "metadata": {},
   "source": [
    "# Normalizing\n"
   ]
  },
  {
   "cell_type": "code",
   "execution_count": 185,
   "metadata": {},
   "outputs": [],
   "source": [
    "df_mex['num_passive'] = pd.to_numeric(df_mex['num_passive'].str.replace(\",\", \"\"))"
   ]
  },
  {
   "cell_type": "code",
   "execution_count": 209,
   "metadata": {},
   "outputs": [],
   "source": [
    "import spacy\n",
    "from spacy.lang.es.examples import sentences \n",
    "\n",
    "nlp_es = spacy.load(\"es_core_news_sm\")\n",
    "nlp_en = spacy.load(\"en_core_web_sm\")\n",
    "\n",
    "\n",
    "df_mex = df_mex[~df_mex['combined_text'].isnull()]\n",
    "df_uk = df_uk[~df_uk['combined_text'].isnull()]\n",
    "df_pak = df_pak[~df_pak['combined_text'].isnull()]\n",
    "\n",
    "df_mex['tokenized_sents'] = df_mex['combined_text'].apply(lambda x: [sent.text for sent in nlp_es(x).sents])\n",
    "df_uk['tokenized_sents'] = df_uk['combined_text'].apply(lambda x: [sent.text for sent in nlp_en(x).sents])\n",
    "df_pak['tokenized_sents'] = df_pak['combined_text'].apply(lambda x: [sent.text for sent in nlp_en(x).sents])\n",
    "\n"
   ]
  },
  {
   "cell_type": "code",
   "execution_count": 224,
   "metadata": {},
   "outputs": [],
   "source": [
    "df_mex['freq_sent'] = df_mex['tokenized_sents'].apply(lambda x: len(x))\n",
    "df_uk['freq_sent'] = df_uk['tokenized_sents'].apply(lambda x: len(x))\n",
    "df_pak['freq_sent'] = df_pak['tokenized_sents'].apply(lambda x: len(x))"
   ]
  },
  {
   "cell_type": "code",
   "execution_count": 238,
   "metadata": {},
   "outputs": [],
   "source": [
    "df_mex['normalized'] = df_mex['num_passive'] / df_mex['freq_sent']\n",
    "df_uk['normalized'] = df_uk['num_passive'] / df_uk['freq_sent'] / 2 #dividing by 2 because we are looking at a pattern\n",
    "df_pak['normalized'] = df_pak['num_passive'] / df_pak['freq_sent'] /2 #dividing by 2 because we are looking at a pattern"
   ]
  },
  {
   "cell_type": "code",
   "execution_count": 241,
   "metadata": {},
   "outputs": [
    {
     "data": {
      "text/plain": "0.2515890322678212"
     },
     "execution_count": 241,
     "metadata": {},
     "output_type": "execute_result"
    }
   ],
   "source": [
    "df_mex.normalized.mean()"
   ]
  },
  {
   "cell_type": "code",
   "execution_count": 242,
   "metadata": {},
   "outputs": [
    {
     "data": {
      "text/plain": "0.3139862897450189"
     },
     "execution_count": 242,
     "metadata": {},
     "output_type": "execute_result"
    }
   ],
   "source": [
    "df_pak.normalized.mean()"
   ]
  },
  {
   "cell_type": "code",
   "execution_count": 243,
   "metadata": {},
   "outputs": [
    {
     "data": {
      "text/plain": "0.3103595054586266"
     },
     "execution_count": 243,
     "metadata": {},
     "output_type": "execute_result"
    }
   ],
   "source": [
    "df_uk.normalized.mean()"
   ]
  },
  {
   "cell_type": "code",
   "execution_count": 244,
   "metadata": {},
   "outputs": [
    {
     "data": {
      "text/plain": "newspaper\neluni      0.205411\nheraldo    0.257259\njornada    0.256865\nName: normalized, dtype: float64"
     },
     "execution_count": 244,
     "metadata": {},
     "output_type": "execute_result"
    }
   ],
   "source": [
    "df_mex.groupby('newspaper')['normalized'].mean()"
   ]
  },
  {
   "cell_type": "code",
   "execution_count": 245,
   "metadata": {},
   "outputs": [
    {
     "data": {
      "text/plain": "newspaper\ndawn      0.315305\nnation    0.293032\nnews      0.325382\nName: normalized, dtype: float64"
     },
     "execution_count": 245,
     "metadata": {},
     "output_type": "execute_result"
    }
   ],
   "source": [
    "df_pak.groupby('newspaper')['normalized'].mean()"
   ]
  },
  {
   "cell_type": "code",
   "execution_count": 246,
   "metadata": {},
   "outputs": [
    {
     "data": {
      "text/plain": "newspaper\nguardian    0.356950\nsun         0.313266\ntimes       0.258621\nName: normalized, dtype: float64"
     },
     "execution_count": 246,
     "metadata": {},
     "output_type": "execute_result"
    }
   ],
   "source": [
    "df_uk.groupby('newspaper')['normalized'].mean()"
   ]
  },
  {
   "cell_type": "code",
   "execution_count": 249,
   "metadata": {},
   "outputs": [
    {
     "ename": "FileNotFoundError",
     "evalue": "[Errno 2] File b'../data/data_labelling/NewsArticles.csv' does not exist: b'../data/data_labelling/NewsArticles.csv'",
     "output_type": "error",
     "traceback": [
      "\u001b[0;31m---------------------------------------------------------------------------\u001b[0m",
      "\u001b[0;31mFileNotFoundError\u001b[0m                         Traceback (most recent call last)",
      "\u001b[0;32m<ipython-input-249-a7e60c01c09b>\u001b[0m in \u001b[0;36m<module>\u001b[0;34m\u001b[0m\n\u001b[0;32m----> 1\u001b[0;31m \u001b[0mdf_prelim\u001b[0m \u001b[0;34m=\u001b[0m \u001b[0mpd\u001b[0m\u001b[0;34m.\u001b[0m\u001b[0mread_csv\u001b[0m\u001b[0;34m(\u001b[0m\u001b[0;34m\"../data/data_labelling/NewsArticles.csv\"\u001b[0m\u001b[0;34m,\u001b[0m \u001b[0mencoding\u001b[0m\u001b[0;34m=\u001b[0m\u001b[0;34m'iso-8859-1'\u001b[0m\u001b[0;34m)\u001b[0m\u001b[0;34m[\u001b[0m\u001b[0;34m[\u001b[0m\u001b[0;34m'article_id'\u001b[0m\u001b[0;34m,\u001b[0m \u001b[0;34m'publish_date'\u001b[0m\u001b[0;34m,\u001b[0m \u001b[0;34m'article_source_link'\u001b[0m\u001b[0;34m,\u001b[0m \u001b[0;34m'title'\u001b[0m\u001b[0;34m,\u001b[0m \u001b[0;34m'text'\u001b[0m\u001b[0;34m]\u001b[0m\u001b[0;34m]\u001b[0m\u001b[0;34m\u001b[0m\u001b[0;34m\u001b[0m\u001b[0m\n\u001b[0m\u001b[1;32m      2\u001b[0m \u001b[0mdf_prelim\u001b[0m\u001b[0;34m.\u001b[0m\u001b[0mhead\u001b[0m\u001b[0;34m(\u001b[0m\u001b[0;34m)\u001b[0m\u001b[0;34m\u001b[0m\u001b[0;34m\u001b[0m\u001b[0m\n",
      "\u001b[0;32m~/opt/anaconda3/lib/python3.7/site-packages/pandas/io/parsers.py\u001b[0m in \u001b[0;36mparser_f\u001b[0;34m(filepath_or_buffer, sep, delimiter, header, names, index_col, usecols, squeeze, prefix, mangle_dupe_cols, dtype, engine, converters, true_values, false_values, skipinitialspace, skiprows, skipfooter, nrows, na_values, keep_default_na, na_filter, verbose, skip_blank_lines, parse_dates, infer_datetime_format, keep_date_col, date_parser, dayfirst, cache_dates, iterator, chunksize, compression, thousands, decimal, lineterminator, quotechar, quoting, doublequote, escapechar, comment, encoding, dialect, error_bad_lines, warn_bad_lines, delim_whitespace, low_memory, memory_map, float_precision)\u001b[0m\n\u001b[1;32m    683\u001b[0m         )\n\u001b[1;32m    684\u001b[0m \u001b[0;34m\u001b[0m\u001b[0m\n\u001b[0;32m--> 685\u001b[0;31m         \u001b[0;32mreturn\u001b[0m \u001b[0m_read\u001b[0m\u001b[0;34m(\u001b[0m\u001b[0mfilepath_or_buffer\u001b[0m\u001b[0;34m,\u001b[0m \u001b[0mkwds\u001b[0m\u001b[0;34m)\u001b[0m\u001b[0;34m\u001b[0m\u001b[0;34m\u001b[0m\u001b[0m\n\u001b[0m\u001b[1;32m    686\u001b[0m \u001b[0;34m\u001b[0m\u001b[0m\n\u001b[1;32m    687\u001b[0m     \u001b[0mparser_f\u001b[0m\u001b[0;34m.\u001b[0m\u001b[0m__name__\u001b[0m \u001b[0;34m=\u001b[0m \u001b[0mname\u001b[0m\u001b[0;34m\u001b[0m\u001b[0;34m\u001b[0m\u001b[0m\n",
      "\u001b[0;32m~/opt/anaconda3/lib/python3.7/site-packages/pandas/io/parsers.py\u001b[0m in \u001b[0;36m_read\u001b[0;34m(filepath_or_buffer, kwds)\u001b[0m\n\u001b[1;32m    455\u001b[0m \u001b[0;34m\u001b[0m\u001b[0m\n\u001b[1;32m    456\u001b[0m     \u001b[0;31m# Create the parser.\u001b[0m\u001b[0;34m\u001b[0m\u001b[0;34m\u001b[0m\u001b[0;34m\u001b[0m\u001b[0m\n\u001b[0;32m--> 457\u001b[0;31m     \u001b[0mparser\u001b[0m \u001b[0;34m=\u001b[0m \u001b[0mTextFileReader\u001b[0m\u001b[0;34m(\u001b[0m\u001b[0mfp_or_buf\u001b[0m\u001b[0;34m,\u001b[0m \u001b[0;34m**\u001b[0m\u001b[0mkwds\u001b[0m\u001b[0;34m)\u001b[0m\u001b[0;34m\u001b[0m\u001b[0;34m\u001b[0m\u001b[0m\n\u001b[0m\u001b[1;32m    458\u001b[0m \u001b[0;34m\u001b[0m\u001b[0m\n\u001b[1;32m    459\u001b[0m     \u001b[0;32mif\u001b[0m \u001b[0mchunksize\u001b[0m \u001b[0;32mor\u001b[0m \u001b[0miterator\u001b[0m\u001b[0;34m:\u001b[0m\u001b[0;34m\u001b[0m\u001b[0;34m\u001b[0m\u001b[0m\n",
      "\u001b[0;32m~/opt/anaconda3/lib/python3.7/site-packages/pandas/io/parsers.py\u001b[0m in \u001b[0;36m__init__\u001b[0;34m(self, f, engine, **kwds)\u001b[0m\n\u001b[1;32m    893\u001b[0m             \u001b[0mself\u001b[0m\u001b[0;34m.\u001b[0m\u001b[0moptions\u001b[0m\u001b[0;34m[\u001b[0m\u001b[0;34m\"has_index_names\"\u001b[0m\u001b[0;34m]\u001b[0m \u001b[0;34m=\u001b[0m \u001b[0mkwds\u001b[0m\u001b[0;34m[\u001b[0m\u001b[0;34m\"has_index_names\"\u001b[0m\u001b[0;34m]\u001b[0m\u001b[0;34m\u001b[0m\u001b[0;34m\u001b[0m\u001b[0m\n\u001b[1;32m    894\u001b[0m \u001b[0;34m\u001b[0m\u001b[0m\n\u001b[0;32m--> 895\u001b[0;31m         \u001b[0mself\u001b[0m\u001b[0;34m.\u001b[0m\u001b[0m_make_engine\u001b[0m\u001b[0;34m(\u001b[0m\u001b[0mself\u001b[0m\u001b[0;34m.\u001b[0m\u001b[0mengine\u001b[0m\u001b[0;34m)\u001b[0m\u001b[0;34m\u001b[0m\u001b[0;34m\u001b[0m\u001b[0m\n\u001b[0m\u001b[1;32m    896\u001b[0m \u001b[0;34m\u001b[0m\u001b[0m\n\u001b[1;32m    897\u001b[0m     \u001b[0;32mdef\u001b[0m \u001b[0mclose\u001b[0m\u001b[0;34m(\u001b[0m\u001b[0mself\u001b[0m\u001b[0;34m)\u001b[0m\u001b[0;34m:\u001b[0m\u001b[0;34m\u001b[0m\u001b[0;34m\u001b[0m\u001b[0m\n",
      "\u001b[0;32m~/opt/anaconda3/lib/python3.7/site-packages/pandas/io/parsers.py\u001b[0m in \u001b[0;36m_make_engine\u001b[0;34m(self, engine)\u001b[0m\n\u001b[1;32m   1133\u001b[0m     \u001b[0;32mdef\u001b[0m \u001b[0m_make_engine\u001b[0m\u001b[0;34m(\u001b[0m\u001b[0mself\u001b[0m\u001b[0;34m,\u001b[0m \u001b[0mengine\u001b[0m\u001b[0;34m=\u001b[0m\u001b[0;34m\"c\"\u001b[0m\u001b[0;34m)\u001b[0m\u001b[0;34m:\u001b[0m\u001b[0;34m\u001b[0m\u001b[0;34m\u001b[0m\u001b[0m\n\u001b[1;32m   1134\u001b[0m         \u001b[0;32mif\u001b[0m \u001b[0mengine\u001b[0m \u001b[0;34m==\u001b[0m \u001b[0;34m\"c\"\u001b[0m\u001b[0;34m:\u001b[0m\u001b[0;34m\u001b[0m\u001b[0;34m\u001b[0m\u001b[0m\n\u001b[0;32m-> 1135\u001b[0;31m             \u001b[0mself\u001b[0m\u001b[0;34m.\u001b[0m\u001b[0m_engine\u001b[0m \u001b[0;34m=\u001b[0m \u001b[0mCParserWrapper\u001b[0m\u001b[0;34m(\u001b[0m\u001b[0mself\u001b[0m\u001b[0;34m.\u001b[0m\u001b[0mf\u001b[0m\u001b[0;34m,\u001b[0m \u001b[0;34m**\u001b[0m\u001b[0mself\u001b[0m\u001b[0;34m.\u001b[0m\u001b[0moptions\u001b[0m\u001b[0;34m)\u001b[0m\u001b[0;34m\u001b[0m\u001b[0;34m\u001b[0m\u001b[0m\n\u001b[0m\u001b[1;32m   1136\u001b[0m         \u001b[0;32melse\u001b[0m\u001b[0;34m:\u001b[0m\u001b[0;34m\u001b[0m\u001b[0;34m\u001b[0m\u001b[0m\n\u001b[1;32m   1137\u001b[0m             \u001b[0;32mif\u001b[0m \u001b[0mengine\u001b[0m \u001b[0;34m==\u001b[0m \u001b[0;34m\"python\"\u001b[0m\u001b[0;34m:\u001b[0m\u001b[0;34m\u001b[0m\u001b[0;34m\u001b[0m\u001b[0m\n",
      "\u001b[0;32m~/opt/anaconda3/lib/python3.7/site-packages/pandas/io/parsers.py\u001b[0m in \u001b[0;36m__init__\u001b[0;34m(self, src, **kwds)\u001b[0m\n\u001b[1;32m   1915\u001b[0m         \u001b[0mkwds\u001b[0m\u001b[0;34m[\u001b[0m\u001b[0;34m\"usecols\"\u001b[0m\u001b[0;34m]\u001b[0m \u001b[0;34m=\u001b[0m \u001b[0mself\u001b[0m\u001b[0;34m.\u001b[0m\u001b[0musecols\u001b[0m\u001b[0;34m\u001b[0m\u001b[0;34m\u001b[0m\u001b[0m\n\u001b[1;32m   1916\u001b[0m \u001b[0;34m\u001b[0m\u001b[0m\n\u001b[0;32m-> 1917\u001b[0;31m         \u001b[0mself\u001b[0m\u001b[0;34m.\u001b[0m\u001b[0m_reader\u001b[0m \u001b[0;34m=\u001b[0m \u001b[0mparsers\u001b[0m\u001b[0;34m.\u001b[0m\u001b[0mTextReader\u001b[0m\u001b[0;34m(\u001b[0m\u001b[0msrc\u001b[0m\u001b[0;34m,\u001b[0m \u001b[0;34m**\u001b[0m\u001b[0mkwds\u001b[0m\u001b[0;34m)\u001b[0m\u001b[0;34m\u001b[0m\u001b[0;34m\u001b[0m\u001b[0m\n\u001b[0m\u001b[1;32m   1918\u001b[0m         \u001b[0mself\u001b[0m\u001b[0;34m.\u001b[0m\u001b[0munnamed_cols\u001b[0m \u001b[0;34m=\u001b[0m \u001b[0mself\u001b[0m\u001b[0;34m.\u001b[0m\u001b[0m_reader\u001b[0m\u001b[0;34m.\u001b[0m\u001b[0munnamed_cols\u001b[0m\u001b[0;34m\u001b[0m\u001b[0;34m\u001b[0m\u001b[0m\n\u001b[1;32m   1919\u001b[0m \u001b[0;34m\u001b[0m\u001b[0m\n",
      "\u001b[0;32mpandas/_libs/parsers.pyx\u001b[0m in \u001b[0;36mpandas._libs.parsers.TextReader.__cinit__\u001b[0;34m()\u001b[0m\n",
      "\u001b[0;32mpandas/_libs/parsers.pyx\u001b[0m in \u001b[0;36mpandas._libs.parsers.TextReader._setup_parser_source\u001b[0;34m()\u001b[0m\n",
      "\u001b[0;31mFileNotFoundError\u001b[0m: [Errno 2] File b'../data/data_labelling/NewsArticles.csv' does not exist: b'../data/data_labelling/NewsArticles.csv'"
     ]
    }
   ],
   "source": [
    "df_prelim = pd.read_csv(\"../data/data_labelling/NewsArticles.csv\", encoding='')[['article_id', 'publish_date', 'article_source_link', 'title', 'text']]\n",
    "df_prelim.head()"
   ]
  },
  {
   "cell_type": "code",
   "execution_count": null,
   "metadata": {},
   "outputs": [],
   "source": []
  }
 ],
 "metadata": {
  "kernelspec": {
   "display_name": "Python 3.7.4 64-bit ('anaconda3': virtualenv)",
   "name": "python374jvsc74a57bd00b65bf2ef877b533c0c05565d5bad13d8e3150e05880d1fab37ebf6665e2b872"
  },
  "language_info": {
   "codemirror_mode": {
    "name": "ipython",
    "version": 3
   },
   "file_extension": ".py",
   "mimetype": "text/x-python",
   "name": "python",
   "nbconvert_exporter": "python",
   "pygments_lexer": "ipython3",
   "version": "3.7.4"
  },
  "orig_nbformat": 2
 },
 "nbformat": 4,
 "nbformat_minor": 2
}